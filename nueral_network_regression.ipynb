{
  "nbformat": 4,
  "nbformat_minor": 0,
  "metadata": {
    "colab": {
      "provenance": [],
      "authorship_tag": "ABX9TyOlkPN3IkHIdJBdSxIHV6hG",
      "include_colab_link": true
    },
    "kernelspec": {
      "name": "python3",
      "display_name": "Python 3"
    },
    "language_info": {
      "name": "python"
    },
    "accelerator": "GPU",
    "gpuClass": "standard"
  },
  "cells": [
    {
      "cell_type": "markdown",
      "metadata": {
        "id": "view-in-github",
        "colab_type": "text"
      },
      "source": [
        "<a href=\"https://colab.research.google.com/github/JaradAng/tensorflow_training/blob/main/nueral_network_regression.ipynb\" target=\"_parent\"><img src=\"https://colab.research.google.com/assets/colab-badge.svg\" alt=\"Open In Colab\"/></a>"
      ]
    },
    {
      "cell_type": "markdown",
      "source": [
        "#introduction to Regression with neural networks in Tensorflow\n",
        "\n"
      ],
      "metadata": {
        "id": "4aLihwCAFTp-"
      }
    },
    {
      "cell_type": "code",
      "source": [
        "import tensorflow as tf\n",
        "import numpy as np\n",
        "import matplotlib.pyplot as plt\n"
      ],
      "metadata": {
        "id": "QxAx-lcbLBCX"
      },
      "execution_count": 2,
      "outputs": []
    },
    {
      "cell_type": "code",
      "source": [
        "#Creating features\n",
        "X = np.array([-7.0,-4.0,-1.0,2.0,5.0,8.0,11.0,14.0])\n",
        "\n",
        "#Create labels\n",
        "y = np.array([3.0, 6.0, 9.0, 12.0, 15.0, 18, 21.0, 24.0])"
      ],
      "metadata": {
        "id": "oPv3A88SLU0v"
      },
      "execution_count": 3,
      "outputs": []
    },
    {
      "cell_type": "code",
      "source": [
        "plt.scatter(X,y)"
      ],
      "metadata": {
        "colab": {
          "base_uri": "https://localhost:8080/",
          "height": 287
        },
        "id": "T1dpilqHk4b_",
        "outputId": "0fc09b6e-af9d-4b0e-efab-6b2ebcdcbcf1"
      },
      "execution_count": 4,
      "outputs": [
        {
          "output_type": "execute_result",
          "data": {
            "text/plain": [
              "<matplotlib.collections.PathCollection at 0x7fb17188a3d0>"
            ]
          },
          "metadata": {},
          "execution_count": 4
        },
        {
          "output_type": "display_data",
          "data": {
            "text/plain": [
              "<Figure size 432x288 with 1 Axes>"
            ],
            "image/png": "[encoded data removed]"
          },
          "metadata": {
            "needs_background": "light"
          }
        }
      ]
    },
    {
      "cell_type": "code",
      "source": [
        "y == X + 10"
      ],
      "metadata": {
        "colab": {
          "base_uri": "https://localhost:8080/"
        },
        "id": "Vw60Fg4_k7C1",
        "outputId": "df6044cf-2810-446e-f827-a95962059c7c"
      },
      "execution_count": 5,
      "outputs": [
        {
          "output_type": "execute_result",
          "data": {
            "text/plain": [
              "array([ True,  True,  True,  True,  True,  True,  True,  True])"
            ]
          },
          "metadata": {},
          "execution_count": 5
        }
      ]
    },
    {
      "cell_type": "code",
      "source": [
        " #input and output shapes\n",
        "\n",
        " #Predicting housing prices example\n",
        "house_info = tf.constant(['Beds', 'baths', 'garage'])\n",
        "house_price = tf.constant([939700])\n",
        "house_info, house_price\n"
      ],
      "metadata": {
        "colab": {
          "base_uri": "https://localhost:8080/"
        },
        "id": "1kqDQ1t9lKpX",
        "outputId": "d6a84a7d-cd77-4c5c-f3a0-12e197973d16"
      },
      "execution_count": 6,
      "outputs": [
        {
          "output_type": "execute_result",
          "data": {
            "text/plain": [
              "(<tf.Tensor: shape=(3,), dtype=string, numpy=array([b'Beds', b'baths', b'garage'], dtype=object)>,\n",
              " <tf.Tensor: shape=(1,), dtype=int32, numpy=array([939700], dtype=int32)>)"
            ]
          },
          "metadata": {},
          "execution_count": 6
        }
      ]
    },
    {
      "cell_type": "markdown",
      "source": [
        "Case above house info shape is 3 and house price is shape = 1"
      ],
      "metadata": {
        "id": "VWP2yb5nmOmn"
      }
    },
    {
      "cell_type": "code",
      "source": [
        "input_shape = X.shape\n",
        "output_shape = y.shape\n",
        "\n",
        "input_shape, output_shape"
      ],
      "metadata": {
        "colab": {
          "base_uri": "https://localhost:8080/"
        },
        "id": "JH5NpADgmItf",
        "outputId": "72e2a4a9-4b00-46cf-ab4d-958c59fa9bbf"
      },
      "execution_count": 7,
      "outputs": [
        {
          "output_type": "execute_result",
          "data": {
            "text/plain": [
              "((8,), (8,))"
            ]
          },
          "metadata": {},
          "execution_count": 7
        }
      ]
    },
    {
      "cell_type": "markdown",
      "source": [
        "^ this doesn't make the most sense becuase we only want to look at one sample "
      ],
      "metadata": {
        "id": "IUWUnvG6mb1M"
      }
    },
    {
      "cell_type": "code",
      "source": [
        "input_shape = X[0].shape\n",
        "output_shape = y[0].shape\n",
        "\n",
        "input_shape, output_shape"
      ],
      "metadata": {
        "colab": {
          "base_uri": "https://localhost:8080/"
        },
        "id": "C8OarDkqmX9h",
        "outputId": "308f1c17-6bac-45ee-8ab6-e7bc1ace4f1f"
      },
      "execution_count": 8,
      "outputs": [
        {
          "output_type": "execute_result",
          "data": {
            "text/plain": [
              "((), ())"
            ]
          },
          "metadata": {},
          "execution_count": 8
        }
      ]
    },
    {
      "cell_type": "markdown",
      "source": [
        "^doesn't seem to have a shape because it has zero dimensions"
      ],
      "metadata": {
        "id": "RffhCsCpmrZs"
      }
    },
    {
      "cell_type": "code",
      "source": [
        "X[0], y[0]"
      ],
      "metadata": {
        "colab": {
          "base_uri": "https://localhost:8080/"
        },
        "id": "d1-6gODumqkH",
        "outputId": "434c3efc-90d5-4e88-ed30-b86b44c96dd5"
      },
      "execution_count": 9,
      "outputs": [
        {
          "output_type": "execute_result",
          "data": {
            "text/plain": [
              "(-7.0, 3.0)"
            ]
          },
          "metadata": {},
          "execution_count": 9
        }
      ]
    },
    {
      "cell_type": "markdown",
      "source": [
        "we want to predict one x value with one y value"
      ],
      "metadata": {
        "id": "un_KyMnJnE-s"
      }
    },
    {
      "cell_type": "code",
      "source": [
        "#Turn numpy array into tensors\n",
        "X = tf.constant(X)\n",
        "y = tf.constant(y)\n",
        "\n",
        "X,y"
      ],
      "metadata": {
        "colab": {
          "base_uri": "https://localhost:8080/"
        },
        "id": "Jq_nkxPEnDwv",
        "outputId": "6f348e12-0045-4b55-9675-2eb930544898"
      },
      "execution_count": 10,
      "outputs": [
        {
          "output_type": "execute_result",
          "data": {
            "text/plain": [
              "(<tf.Tensor: shape=(8,), dtype=float64, numpy=array([-7., -4., -1.,  2.,  5.,  8., 11., 14.])>,\n",
              " <tf.Tensor: shape=(8,), dtype=float64, numpy=array([ 3.,  6.,  9., 12., 15., 18., 21., 24.])>)"
            ]
          },
          "metadata": {},
          "execution_count": 10
        }
      ]
    },
    {
      "cell_type": "code",
      "source": [
        "input_shape = X[0].shape\n",
        "output_shape = y[0].shape\n",
        "\n",
        "input_shape, output_shape"
      ],
      "metadata": {
        "colab": {
          "base_uri": "https://localhost:8080/"
        },
        "id": "wWl68APHoICr",
        "outputId": "4c2ccb82-eab7-432e-8f32-29369a23be91"
      },
      "execution_count": 11,
      "outputs": [
        {
          "output_type": "execute_result",
          "data": {
            "text/plain": [
              "(TensorShape([]), TensorShape([]))"
            ]
          },
          "metadata": {},
          "execution_count": 11
        }
      ]
    },
    {
      "cell_type": "code",
      "source": [
        "plt.scatter(X,y)"
      ],
      "metadata": {
        "colab": {
          "base_uri": "https://localhost:8080/",
          "height": 287
        },
        "id": "eEplHM3toTGo",
        "outputId": "f2d7b008-1b60-4298-f5c1-f5079d2a4d29"
      },
      "execution_count": 12,
      "outputs": [
        {
          "output_type": "execute_result",
          "data": {
            "text/plain": [
              "<matplotlib.collections.PathCollection at 0x7fb171883050>"
            ]
          },
          "metadata": {},
          "execution_count": 12
        },
        {
          "output_type": "display_data",
          "data": {
            "text/plain": [
              "<Figure size 432x288 with 1 Axes>"
            ],
            "image/png": "[encoded data removed]"
          },
          "metadata": {
            "needs_background": "light"
          }
        }
      ]
    },
    {
      "cell_type": "markdown",
      "source": [
        "## Steps in modeling with tensorflow\n",
        "\n",
        "1. Creating a model - define the input and output layers as well as the hideen layers of deep learning models\n",
        "2. compile a model - define the loss function (the function which tells our model how wrong it is) and the optimizer. (tell the model how to improve the patterns and its learning) and evaluation metrics(what we can use to inerpret the performance of the model)\n",
        "3. Fitting the model try to find the patterns between X and y(features and labels)\n",
        "\n"
      ],
      "metadata": {
        "id": "PsuH_ncjoXUh"
      }
    },
    {
      "cell_type": "code",
      "source": [
        "# setting random seed for reproducibility\n",
        "tf.random.set_seed(42)\n",
        "\n",
        "#1. create a model using the sequential API\n",
        "model = tf.keras.Sequential([\n",
        "    tf.keras.layers.Dense(1)\n",
        "])\n",
        "\n",
        "#2. Compile the model\n",
        "model.compile(loss=tf.keras.losses.mae, #mae is for mean aboslute error\n",
        "              optimizer = tf.keras.optimizers.SGD(),#stochastic gradient descent\n",
        "              metrics=['mae'])\n",
        "\n",
        "#  3. Fit the model \n",
        "model.fit(tf.expand_dims(X, axis=1), y, epochs=5) # epochs set how many times the model goes thru the training data"
      ],
      "metadata": {
        "colab": {
          "base_uri": "https://localhost:8080/"
        },
        "id": "TUexHJT1qfqZ",
        "outputId": "e0aad35b-c41d-4649-ca7f-ecdab2487fca"
      },
      "execution_count": 13,
      "outputs": [
        {
          "output_type": "stream",
          "name": "stdout",
          "text": [
            "Epoch 1/5\n",
            "1/1 [==============================] - 2s 2s/step - loss: 11.5048 - mae: 11.5048\n",
            "Epoch 2/5\n",
            "1/1 [==============================] - 0s 9ms/step - loss: 11.3723 - mae: 11.3723\n",
            "Epoch 3/5\n",
            "1/1 [==============================] - 0s 6ms/step - loss: 11.2398 - mae: 11.2398\n",
            "Epoch 4/5\n",
            "1/1 [==============================] - 0s 9ms/step - loss: 11.1073 - mae: 11.1073\n",
            "Epoch 5/5\n",
            "1/1 [==============================] - 0s 7ms/step - loss: 10.9748 - mae: 10.9748\n"
          ]
        },
        {
          "output_type": "execute_result",
          "data": {
            "text/plain": [
              "<keras.callbacks.History at 0x7fb10c57b410>"
            ]
          },
          "metadata": {},
          "execution_count": 13
        }
      ]
    },
    {
      "cell_type": "code",
      "source": [
        "#Check out X and y\n",
        "X, y"
      ],
      "metadata": {
        "colab": {
          "base_uri": "https://localhost:8080/"
        },
        "id": "q4v1CzoW0Wa1",
        "outputId": "cf81bd3e-67b7-45ba-c375-a4ba809aeb6f"
      },
      "execution_count": 14,
      "outputs": [
        {
          "output_type": "execute_result",
          "data": {
            "text/plain": [
              "(<tf.Tensor: shape=(8,), dtype=float64, numpy=array([-7., -4., -1.,  2.,  5.,  8., 11., 14.])>,\n",
              " <tf.Tensor: shape=(8,), dtype=float64, numpy=array([ 3.,  6.,  9., 12., 15., 18., 21., 24.])>)"
            ]
          },
          "metadata": {},
          "execution_count": 14
        }
      ]
    },
    {
      "cell_type": "code",
      "source": [
        "#Try and make prediction using above model\n",
        "y_pred = model.predict([17.0])\n",
        "y_pred"
      ],
      "metadata": {
        "colab": {
          "base_uri": "https://localhost:8080/"
        },
        "id": "8AGAHnEq0WWN",
        "outputId": "11cc8a80-c54f-4a26-d4bf-6a1f1d7b6017"
      },
      "execution_count": 15,
      "outputs": [
        {
          "output_type": "stream",
          "name": "stdout",
          "text": [
            "1/1 [==============================] - 0s 75ms/step\n"
          ]
        },
        {
          "output_type": "execute_result",
          "data": {
            "text/plain": [
              "array([[12.716021]], dtype=float32)"
            ]
          },
          "metadata": {},
          "execution_count": 15
        }
      ]
    },
    {
      "cell_type": "code",
      "source": [
        "y_pred + 11"
      ],
      "metadata": {
        "colab": {
          "base_uri": "https://localhost:8080/"
        },
        "id": "AKa3t4TD0WTs",
        "outputId": "da664806-4d09-4cc4-d6c1-624ba7751b90"
      },
      "execution_count": 16,
      "outputs": [
        {
          "output_type": "execute_result",
          "data": {
            "text/plain": [
              "array([[23.71602]], dtype=float32)"
            ]
          },
          "metadata": {},
          "execution_count": 16
        }
      ]
    },
    {
      "cell_type": "code",
      "source": [
        "# # practice writing out a model\n",
        "# model = tf.keras.Sequential()\n",
        "# model.add(tf.keras.layers.Dense(8, input_shape=(16,)))\n",
        "# model.add(tk.keras.layers.Dense(4))"
      ],
      "metadata": {
        "id": "hGNci4UAsBtn"
      },
      "execution_count": 17,
      "outputs": []
    },
    {
      "cell_type": "markdown",
      "source": [
        "## improving the model\n",
        "\n",
        "We can improve the model by altering the steps we took to create a model\n",
        "\n",
        "1. ** creating the model** we might add more layers, increase number of hidden units(also called neurons) within each of the hidden layers, change the activiation function of each layer\n",
        "\n",
        "2. ** Compiling the model - might change the optimization function or the learning rate of the optimization function\n",
        "\n",
        "3. ** Fitting the model - might fit the model for more epochs(look at training more times) or on more data(give model more examples)"
      ],
      "metadata": {
        "id": "Dp4Xjzrdz09P"
      }
    },
    {
      "cell_type": "code",
      "source": [
        "#lets rebuild the model\n",
        "#1. create the model\n",
        "model = tf.keras.Sequential([\n",
        "    tf.keras.layers.Dense(1)\n",
        "])\n",
        "\n",
        "#2. compile the model\n",
        "model.compile(loss=tf.keras.losses.mae,\n",
        "              optimizer=tf.keras.optimizers.SGD(),\n",
        "              metrics = ['mae'])\n",
        "\n",
        "#. fit the model but train longer\n",
        "model.fit(tf.expand_dims(X, axis=1), y, epochs = 100)"
      ],
      "metadata": {
        "colab": {
          "base_uri": "https://localhost:8080/"
        },
        "id": "uXU3rRIy4F5D",
        "outputId": "b0a88f88-f859-49ed-d95b-371df0603370"
      },
      "execution_count": 18,
      "outputs": [
        {
          "output_type": "stream",
          "name": "stdout",
          "text": [
            "Epoch 1/100\n",
            "1/1 [==============================] - 0s 253ms/step - loss: 11.2219 - mae: 11.2219\n",
            "Epoch 2/100\n",
            "1/1 [==============================] - 0s 10ms/step - loss: 11.0894 - mae: 11.0894\n",
            "Epoch 3/100\n",
            "1/1 [==============================] - 0s 9ms/step - loss: 10.9569 - mae: 10.9569\n",
            "Epoch 4/100\n",
            "1/1 [==============================] - 0s 12ms/step - loss: 10.8244 - mae: 10.8244\n",
            "Epoch 5/100\n",
            "1/1 [==============================] - 0s 9ms/step - loss: 10.6919 - mae: 10.6919\n",
            "Epoch 6/100\n",
            "1/1 [==============================] - 0s 7ms/step - loss: 10.5594 - mae: 10.5594\n",
            "Epoch 7/100\n",
            "1/1 [==============================] - 0s 9ms/step - loss: 10.4269 - mae: 10.4269\n",
            "Epoch 8/100\n",
            "1/1 [==============================] - 0s 7ms/step - loss: 10.2944 - mae: 10.2944\n",
            "Epoch 9/100\n",
            "1/1 [==============================] - 0s 9ms/step - loss: 10.1619 - mae: 10.1619\n",
            "Epoch 10/100\n",
            "1/1 [==============================] - 0s 7ms/step - loss: 10.0294 - mae: 10.0294\n",
            "Epoch 11/100\n",
            "1/1 [==============================] - 0s 9ms/step - loss: 9.8969 - mae: 9.8969\n",
            "Epoch 12/100\n",
            "1/1 [==============================] - 0s 17ms/step - loss: 9.7644 - mae: 9.7644\n",
            "Epoch 13/100\n",
            "1/1 [==============================] - 0s 11ms/step - loss: 9.6319 - mae: 9.6319\n",
            "Epoch 14/100\n",
            "1/1 [==============================] - 0s 7ms/step - loss: 9.4994 - mae: 9.4994\n",
            "Epoch 15/100\n",
            "1/1 [==============================] - 0s 7ms/step - loss: 9.3669 - mae: 9.3669\n",
            "Epoch 16/100\n",
            "1/1 [==============================] - 0s 6ms/step - loss: 9.2344 - mae: 9.2344\n",
            "Epoch 17/100\n",
            "1/1 [==============================] - 0s 6ms/step - loss: 9.1019 - mae: 9.1019\n",
            "Epoch 18/100\n",
            "1/1 [==============================] - 0s 7ms/step - loss: 8.9694 - mae: 8.9694\n",
            "Epoch 19/100\n",
            "1/1 [==============================] - 0s 7ms/step - loss: 8.8369 - mae: 8.8369\n",
            "Epoch 20/100\n",
            "1/1 [==============================] - 0s 8ms/step - loss: 8.7044 - mae: 8.7044\n",
            "Epoch 21/100\n",
            "1/1 [==============================] - 0s 8ms/step - loss: 8.5719 - mae: 8.5719\n",
            "Epoch 22/100\n",
            "1/1 [==============================] - 0s 7ms/step - loss: 8.4394 - mae: 8.4394\n",
            "Epoch 23/100\n",
            "1/1 [==============================] - 0s 12ms/step - loss: 8.3069 - mae: 8.3069\n",
            "Epoch 24/100\n",
            "1/1 [==============================] - 0s 6ms/step - loss: 8.1744 - mae: 8.1744\n",
            "Epoch 25/100\n",
            "1/1 [==============================] - 0s 8ms/step - loss: 8.0419 - mae: 8.0419\n",
            "Epoch 26/100\n",
            "1/1 [==============================] - 0s 7ms/step - loss: 7.9094 - mae: 7.9094\n",
            "Epoch 27/100\n",
            "1/1 [==============================] - 0s 6ms/step - loss: 7.7769 - mae: 7.7769\n",
            "Epoch 28/100\n",
            "1/1 [==============================] - 0s 7ms/step - loss: 7.6444 - mae: 7.6444\n",
            "Epoch 29/100\n",
            "1/1 [==============================] - 0s 7ms/step - loss: 7.5119 - mae: 7.5119\n",
            "Epoch 30/100\n",
            "1/1 [==============================] - 0s 7ms/step - loss: 7.3794 - mae: 7.3794\n",
            "Epoch 31/100\n",
            "1/1 [==============================] - 0s 7ms/step - loss: 7.2750 - mae: 7.2750\n",
            "Epoch 32/100\n",
            "1/1 [==============================] - 0s 7ms/step - loss: 7.2694 - mae: 7.2694\n",
            "Epoch 33/100\n",
            "1/1 [==============================] - 0s 7ms/step - loss: 7.2638 - mae: 7.2638\n",
            "Epoch 34/100\n",
            "1/1 [==============================] - 0s 7ms/step - loss: 7.2581 - mae: 7.2581\n",
            "Epoch 35/100\n",
            "1/1 [==============================] - 0s 7ms/step - loss: 7.2525 - mae: 7.2525\n",
            "Epoch 36/100\n",
            "1/1 [==============================] - 0s 7ms/step - loss: 7.2469 - mae: 7.2469\n",
            "Epoch 37/100\n",
            "1/1 [==============================] - 0s 6ms/step - loss: 7.2413 - mae: 7.2413\n",
            "Epoch 38/100\n",
            "1/1 [==============================] - 0s 7ms/step - loss: 7.2356 - mae: 7.2356\n",
            "Epoch 39/100\n",
            "1/1 [==============================] - 0s 7ms/step - loss: 7.2300 - mae: 7.2300\n",
            "Epoch 40/100\n",
            "1/1 [==============================] - 0s 7ms/step - loss: 7.2244 - mae: 7.2244\n",
            "Epoch 41/100\n",
            "1/1 [==============================] - 0s 6ms/step - loss: 7.2188 - mae: 7.2188\n",
            "Epoch 42/100\n",
            "1/1 [==============================] - 0s 5ms/step - loss: 7.2131 - mae: 7.2131\n",
            "Epoch 43/100\n",
            "1/1 [==============================] - 0s 6ms/step - loss: 7.2075 - mae: 7.2075\n",
            "Epoch 44/100\n",
            "1/1 [==============================] - 0s 7ms/step - loss: 7.2019 - mae: 7.2019\n",
            "Epoch 45/100\n",
            "1/1 [==============================] - 0s 6ms/step - loss: 7.1962 - mae: 7.1962\n",
            "Epoch 46/100\n",
            "1/1 [==============================] - 0s 6ms/step - loss: 7.1906 - mae: 7.1906\n",
            "Epoch 47/100\n",
            "1/1 [==============================] - 0s 6ms/step - loss: 7.1850 - mae: 7.1850\n",
            "Epoch 48/100\n",
            "1/1 [==============================] - 0s 10ms/step - loss: 7.1794 - mae: 7.1794\n",
            "Epoch 49/100\n",
            "1/1 [==============================] - 0s 6ms/step - loss: 7.1737 - mae: 7.1737\n",
            "Epoch 50/100\n",
            "1/1 [==============================] - 0s 6ms/step - loss: 7.1681 - mae: 7.1681\n",
            "Epoch 51/100\n",
            "1/1 [==============================] - 0s 7ms/step - loss: 7.1625 - mae: 7.1625\n",
            "Epoch 52/100\n",
            "1/1 [==============================] - 0s 6ms/step - loss: 7.1569 - mae: 7.1569\n",
            "Epoch 53/100\n",
            "1/1 [==============================] - 0s 6ms/step - loss: 7.1512 - mae: 7.1512\n",
            "Epoch 54/100\n",
            "1/1 [==============================] - 0s 5ms/step - loss: 7.1456 - mae: 7.1456\n",
            "Epoch 55/100\n",
            "1/1 [==============================] - 0s 5ms/step - loss: 7.1400 - mae: 7.1400\n",
            "Epoch 56/100\n",
            "1/1 [==============================] - 0s 6ms/step - loss: 7.1344 - mae: 7.1344\n",
            "Epoch 57/100\n",
            "1/1 [==============================] - 0s 7ms/step - loss: 7.1287 - mae: 7.1287\n",
            "Epoch 58/100\n",
            "1/1 [==============================] - 0s 7ms/step - loss: 7.1231 - mae: 7.1231\n",
            "Epoch 59/100\n",
            "1/1 [==============================] - 0s 6ms/step - loss: 7.1175 - mae: 7.1175\n",
            "Epoch 60/100\n",
            "1/1 [==============================] - 0s 6ms/step - loss: 7.1119 - mae: 7.1119\n",
            "Epoch 61/100\n",
            "1/1 [==============================] - 0s 6ms/step - loss: 7.1062 - mae: 7.1062\n",
            "Epoch 62/100\n",
            "1/1 [==============================] - 0s 6ms/step - loss: 7.1006 - mae: 7.1006\n",
            "Epoch 63/100\n",
            "1/1 [==============================] - 0s 6ms/step - loss: 7.0950 - mae: 7.0950\n",
            "Epoch 64/100\n",
            "1/1 [==============================] - 0s 7ms/step - loss: 7.0894 - mae: 7.0894\n",
            "Epoch 65/100\n",
            "1/1 [==============================] - 0s 7ms/step - loss: 7.0838 - mae: 7.0838\n",
            "Epoch 66/100\n",
            "1/1 [==============================] - 0s 6ms/step - loss: 7.0781 - mae: 7.0781\n",
            "Epoch 67/100\n",
            "1/1 [==============================] - 0s 8ms/step - loss: 7.0725 - mae: 7.0725\n",
            "Epoch 68/100\n",
            "1/1 [==============================] - 0s 10ms/step - loss: 7.0669 - mae: 7.0669\n",
            "Epoch 69/100\n",
            "1/1 [==============================] - 0s 7ms/step - loss: 7.0613 - mae: 7.0613\n",
            "Epoch 70/100\n",
            "1/1 [==============================] - 0s 14ms/step - loss: 7.0556 - mae: 7.0556\n",
            "Epoch 71/100\n",
            "1/1 [==============================] - 0s 9ms/step - loss: 7.0500 - mae: 7.0500\n",
            "Epoch 72/100\n",
            "1/1 [==============================] - 0s 8ms/step - loss: 7.0444 - mae: 7.0444\n",
            "Epoch 73/100\n",
            "1/1 [==============================] - 0s 7ms/step - loss: 7.0388 - mae: 7.0388\n",
            "Epoch 74/100\n",
            "1/1 [==============================] - 0s 7ms/step - loss: 7.0331 - mae: 7.0331\n",
            "Epoch 75/100\n",
            "1/1 [==============================] - 0s 7ms/step - loss: 7.0275 - mae: 7.0275\n",
            "Epoch 76/100\n",
            "1/1 [==============================] - 0s 8ms/step - loss: 7.0219 - mae: 7.0219\n",
            "Epoch 77/100\n",
            "1/1 [==============================] - 0s 7ms/step - loss: 7.0163 - mae: 7.0163\n",
            "Epoch 78/100\n",
            "1/1 [==============================] - 0s 8ms/step - loss: 7.0106 - mae: 7.0106\n",
            "Epoch 79/100\n",
            "1/1 [==============================] - 0s 8ms/step - loss: 7.0050 - mae: 7.0050\n",
            "Epoch 80/100\n",
            "1/1 [==============================] - 0s 8ms/step - loss: 6.9994 - mae: 6.9994\n",
            "Epoch 81/100\n",
            "1/1 [==============================] - 0s 7ms/step - loss: 6.9938 - mae: 6.9938\n",
            "Epoch 82/100\n",
            "1/1 [==============================] - 0s 8ms/step - loss: 6.9881 - mae: 6.9881\n",
            "Epoch 83/100\n",
            "1/1 [==============================] - 0s 9ms/step - loss: 6.9825 - mae: 6.9825\n",
            "Epoch 84/100\n",
            "1/1 [==============================] - 0s 8ms/step - loss: 6.9769 - mae: 6.9769\n",
            "Epoch 85/100\n",
            "1/1 [==============================] - 0s 8ms/step - loss: 6.9713 - mae: 6.9713\n",
            "Epoch 86/100\n",
            "1/1 [==============================] - 0s 18ms/step - loss: 6.9656 - mae: 6.9656\n",
            "Epoch 87/100\n",
            "1/1 [==============================] - 0s 9ms/step - loss: 6.9600 - mae: 6.9600\n",
            "Epoch 88/100\n",
            "1/1 [==============================] - 0s 6ms/step - loss: 6.9544 - mae: 6.9544\n",
            "Epoch 89/100\n",
            "1/1 [==============================] - 0s 7ms/step - loss: 6.9488 - mae: 6.9488\n",
            "Epoch 90/100\n",
            "1/1 [==============================] - 0s 6ms/step - loss: 6.9431 - mae: 6.9431\n",
            "Epoch 91/100\n",
            "1/1 [==============================] - 0s 8ms/step - loss: 6.9375 - mae: 6.9375\n",
            "Epoch 92/100\n",
            "1/1 [==============================] - 0s 8ms/step - loss: 6.9319 - mae: 6.9319\n",
            "Epoch 93/100\n",
            "1/1 [==============================] - 0s 8ms/step - loss: 6.9262 - mae: 6.9262\n",
            "Epoch 94/100\n",
            "1/1 [==============================] - 0s 5ms/step - loss: 6.9206 - mae: 6.9206\n",
            "Epoch 95/100\n",
            "1/1 [==============================] - 0s 8ms/step - loss: 6.9150 - mae: 6.9150\n",
            "Epoch 96/100\n",
            "1/1 [==============================] - 0s 6ms/step - loss: 6.9094 - mae: 6.9094\n",
            "Epoch 97/100\n",
            "1/1 [==============================] - 0s 5ms/step - loss: 6.9038 - mae: 6.9038\n",
            "Epoch 98/100\n",
            "1/1 [==============================] - 0s 5ms/step - loss: 6.8981 - mae: 6.8981\n",
            "Epoch 99/100\n",
            "1/1 [==============================] - 0s 6ms/step - loss: 6.8925 - mae: 6.8925\n",
            "Epoch 100/100\n",
            "1/1 [==============================] - 0s 6ms/step - loss: 6.8869 - mae: 6.8869\n"
          ]
        },
        {
          "output_type": "execute_result",
          "data": {
            "text/plain": [
              "<keras.callbacks.History at 0x7fb10c305390>"
            ]
          },
          "metadata": {},
          "execution_count": 18
        }
      ]
    },
    {
      "cell_type": "code",
      "source": [
        "#remind ourselves of the data\n",
        "X, y"
      ],
      "metadata": {
        "colab": {
          "base_uri": "https://localhost:8080/"
        },
        "id": "WzNXEzpy4GgH",
        "outputId": "988f9ad5-74c2-4d32-a613-e5fab32d9de3"
      },
      "execution_count": 19,
      "outputs": [
        {
          "output_type": "execute_result",
          "data": {
            "text/plain": [
              "(<tf.Tensor: shape=(8,), dtype=float64, numpy=array([-7., -4., -1.,  2.,  5.,  8., 11., 14.])>,\n",
              " <tf.Tensor: shape=(8,), dtype=float64, numpy=array([ 3.,  6.,  9., 12., 15., 18., 21., 24.])>)"
            ]
          },
          "metadata": {},
          "execution_count": 19
        }
      ]
    },
    {
      "cell_type": "code",
      "source": [
        "#lets see if predictions have improved\n",
        "model.predict([17.0])"
      ],
      "metadata": {
        "colab": {
          "base_uri": "https://localhost:8080/"
        },
        "id": "KoHK5Gve4GaA",
        "outputId": "dffc3e27-1b25-4bf2-9fe5-ccce66a24ab2"
      },
      "execution_count": 20,
      "outputs": [
        {
          "output_type": "stream",
          "name": "stdout",
          "text": [
            "1/1 [==============================] - 0s 126ms/step\n"
          ]
        },
        {
          "output_type": "execute_result",
          "data": {
            "text/plain": [
              "array([[29.739855]], dtype=float32)"
            ]
          },
          "metadata": {},
          "execution_count": 20
        }
      ]
    },
    {
      "cell_type": "code",
      "source": [
        "#Rewritting the model\n",
        "model = tf.keras.Sequential([\n",
        "    tf.keras.layers.Dense(100, activation='relu'),\n",
        "    tf.keras.layers.Dense(1)\n",
        "])\n",
        "\n",
        "#2. compile the model\n",
        "model.compile(loss = tf.keras.losses.mae,\n",
        "              optimizer=tf.keras.optimizers.SGD(),\n",
        "              metrics= ['mae'])\n",
        "\n",
        "# 3. Fitting the model\n",
        "model.fit(tf.expand_dims(X, axis=1), y, epochs=100)"
      ],
      "metadata": {
        "colab": {
          "base_uri": "https://localhost:8080/"
        },
        "id": "gTpUSqZj4GVv",
        "outputId": "aefbd418-d1c7-4587-ad69-dc67aebf9353"
      },
      "execution_count": 21,
      "outputs": [
        {
          "output_type": "stream",
          "name": "stdout",
          "text": [
            "Epoch 1/100\n",
            "1/1 [==============================] - 0s 299ms/step - loss: 12.3193 - mae: 12.3193\n",
            "Epoch 2/100\n",
            "1/1 [==============================] - 0s 9ms/step - loss: 11.7804 - mae: 11.7804\n",
            "Epoch 3/100\n",
            "1/1 [==============================] - 0s 10ms/step - loss: 11.2324 - mae: 11.2324\n",
            "Epoch 4/100\n",
            "1/1 [==============================] - 0s 7ms/step - loss: 10.6601 - mae: 10.6601\n",
            "Epoch 5/100\n",
            "1/1 [==============================] - 0s 8ms/step - loss: 10.0632 - mae: 10.0632\n",
            "Epoch 6/100\n",
            "1/1 [==============================] - 0s 7ms/step - loss: 9.4503 - mae: 9.4503\n",
            "Epoch 7/100\n",
            "1/1 [==============================] - 0s 8ms/step - loss: 8.7991 - mae: 8.7991\n",
            "Epoch 8/100\n",
            "1/1 [==============================] - 0s 7ms/step - loss: 8.1072 - mae: 8.1072\n",
            "Epoch 9/100\n",
            "1/1 [==============================] - 0s 9ms/step - loss: 7.3691 - mae: 7.3691\n",
            "Epoch 10/100\n",
            "1/1 [==============================] - 0s 11ms/step - loss: 6.5758 - mae: 6.5758\n",
            "Epoch 11/100\n",
            "1/1 [==============================] - 0s 11ms/step - loss: 5.7205 - mae: 5.7205\n",
            "Epoch 12/100\n",
            "1/1 [==============================] - 0s 7ms/step - loss: 4.7947 - mae: 4.7947\n",
            "Epoch 13/100\n",
            "1/1 [==============================] - 0s 9ms/step - loss: 4.3581 - mae: 4.3581\n",
            "Epoch 14/100\n",
            "1/1 [==============================] - 0s 7ms/step - loss: 4.3134 - mae: 4.3134\n",
            "Epoch 15/100\n",
            "1/1 [==============================] - 0s 9ms/step - loss: 4.2550 - mae: 4.2550\n",
            "Epoch 16/100\n",
            "1/1 [==============================] - 0s 9ms/step - loss: 4.2442 - mae: 4.2442\n",
            "Epoch 17/100\n",
            "1/1 [==============================] - 0s 9ms/step - loss: 4.1520 - mae: 4.1520\n",
            "Epoch 18/100\n",
            "1/1 [==============================] - 0s 7ms/step - loss: 4.1739 - mae: 4.1739\n",
            "Epoch 19/100\n",
            "1/1 [==============================] - 0s 13ms/step - loss: 4.0681 - mae: 4.0681\n",
            "Epoch 20/100\n",
            "1/1 [==============================] - 0s 7ms/step - loss: 4.0807 - mae: 4.0807\n",
            "Epoch 21/100\n",
            "1/1 [==============================] - 0s 8ms/step - loss: 3.9954 - mae: 3.9954\n",
            "Epoch 22/100\n",
            "1/1 [==============================] - 0s 8ms/step - loss: 3.9739 - mae: 3.9739\n",
            "Epoch 23/100\n",
            "1/1 [==============================] - 0s 7ms/step - loss: 3.9208 - mae: 3.9208\n",
            "Epoch 24/100\n",
            "1/1 [==============================] - 0s 8ms/step - loss: 3.9047 - mae: 3.9047\n",
            "Epoch 25/100\n",
            "1/1 [==============================] - 0s 13ms/step - loss: 3.9267 - mae: 3.9267\n",
            "Epoch 26/100\n",
            "1/1 [==============================] - 0s 7ms/step - loss: 3.8797 - mae: 3.8797\n",
            "Epoch 27/100\n",
            "1/1 [==============================] - 0s 8ms/step - loss: 3.9341 - mae: 3.9341\n",
            "Epoch 28/100\n",
            "1/1 [==============================] - 0s 9ms/step - loss: 3.8678 - mae: 3.8678\n",
            "Epoch 29/100\n",
            "1/1 [==============================] - 0s 9ms/step - loss: 3.9274 - mae: 3.9274\n",
            "Epoch 30/100\n",
            "1/1 [==============================] - 0s 12ms/step - loss: 3.8751 - mae: 3.8751\n",
            "Epoch 31/100\n",
            "1/1 [==============================] - 0s 8ms/step - loss: 3.9080 - mae: 3.9080\n",
            "Epoch 32/100\n",
            "1/1 [==============================] - 0s 8ms/step - loss: 3.8893 - mae: 3.8893\n",
            "Epoch 33/100\n",
            "1/1 [==============================] - 0s 7ms/step - loss: 3.8834 - mae: 3.8834\n",
            "Epoch 34/100\n",
            "1/1 [==============================] - 0s 8ms/step - loss: 3.8969 - mae: 3.8969\n",
            "Epoch 35/100\n",
            "1/1 [==============================] - 0s 8ms/step - loss: 3.8581 - mae: 3.8581\n",
            "Epoch 36/100\n",
            "1/1 [==============================] - 0s 9ms/step - loss: 3.9046 - mae: 3.9046\n",
            "Epoch 37/100\n",
            "1/1 [==============================] - 0s 8ms/step - loss: 3.8386 - mae: 3.8386\n",
            "Epoch 38/100\n",
            "1/1 [==============================] - 0s 8ms/step - loss: 3.9054 - mae: 3.9054\n",
            "Epoch 39/100\n",
            "1/1 [==============================] - 0s 8ms/step - loss: 3.8482 - mae: 3.8482\n",
            "Epoch 40/100\n",
            "1/1 [==============================] - 0s 8ms/step - loss: 3.8862 - mae: 3.8862\n",
            "Epoch 41/100\n",
            "1/1 [==============================] - 0s 9ms/step - loss: 3.8605 - mae: 3.8605\n",
            "Epoch 42/100\n",
            "1/1 [==============================] - 0s 9ms/step - loss: 3.8608 - mae: 3.8608\n",
            "Epoch 43/100\n",
            "1/1 [==============================] - 0s 8ms/step - loss: 3.8683 - mae: 3.8683\n",
            "Epoch 44/100\n",
            "1/1 [==============================] - 0s 9ms/step - loss: 3.8352 - mae: 3.8352\n",
            "Epoch 45/100\n",
            "1/1 [==============================] - 0s 9ms/step - loss: 3.8762 - mae: 3.8762\n",
            "Epoch 46/100\n",
            "1/1 [==============================] - 0s 8ms/step - loss: 3.8106 - mae: 3.8106\n",
            "Epoch 47/100\n",
            "1/1 [==============================] - 0s 7ms/step - loss: 3.8821 - mae: 3.8821\n",
            "Epoch 48/100\n",
            "1/1 [==============================] - 0s 8ms/step - loss: 3.8234 - mae: 3.8234\n",
            "Epoch 49/100\n",
            "1/1 [==============================] - 0s 8ms/step - loss: 3.8626 - mae: 3.8626\n",
            "Epoch 50/100\n",
            "1/1 [==============================] - 0s 8ms/step - loss: 3.8328 - mae: 3.8328\n",
            "Epoch 51/100\n",
            "1/1 [==============================] - 0s 8ms/step - loss: 3.8369 - mae: 3.8369\n",
            "Epoch 52/100\n",
            "1/1 [==============================] - 0s 6ms/step - loss: 3.8408 - mae: 3.8408\n",
            "Epoch 53/100\n",
            "1/1 [==============================] - 0s 9ms/step - loss: 3.8111 - mae: 3.8111\n",
            "Epoch 54/100\n",
            "1/1 [==============================] - 0s 7ms/step - loss: 3.8489 - mae: 3.8489\n",
            "Epoch 55/100\n",
            "1/1 [==============================] - 0s 8ms/step - loss: 3.7850 - mae: 3.7850\n",
            "Epoch 56/100\n",
            "1/1 [==============================] - 0s 8ms/step - loss: 3.8585 - mae: 3.8585\n",
            "Epoch 57/100\n",
            "1/1 [==============================] - 0s 6ms/step - loss: 3.7982 - mae: 3.7982\n",
            "Epoch 58/100\n",
            "1/1 [==============================] - 0s 6ms/step - loss: 3.8377 - mae: 3.8377\n",
            "Epoch 59/100\n",
            "1/1 [==============================] - 0s 8ms/step - loss: 3.8062 - mae: 3.8062\n",
            "Epoch 60/100\n",
            "1/1 [==============================] - 0s 8ms/step - loss: 3.8117 - mae: 3.8117\n",
            "Epoch 61/100\n",
            "1/1 [==============================] - 0s 7ms/step - loss: 3.8144 - mae: 3.8144\n",
            "Epoch 62/100\n",
            "1/1 [==============================] - 0s 9ms/step - loss: 3.7856 - mae: 3.7856\n",
            "Epoch 63/100\n",
            "1/1 [==============================] - 0s 9ms/step - loss: 3.8227 - mae: 3.8227\n",
            "Epoch 64/100\n",
            "1/1 [==============================] - 0s 13ms/step - loss: 3.7593 - mae: 3.7593\n",
            "Epoch 65/100\n",
            "1/1 [==============================] - 0s 11ms/step - loss: 3.8352 - mae: 3.8352\n",
            "Epoch 66/100\n",
            "1/1 [==============================] - 0s 7ms/step - loss: 3.7725 - mae: 3.7725\n",
            "Epoch 67/100\n",
            "1/1 [==============================] - 0s 9ms/step - loss: 3.8115 - mae: 3.8115\n",
            "Epoch 68/100\n",
            "1/1 [==============================] - 0s 9ms/step - loss: 3.7807 - mae: 3.7807\n",
            "Epoch 69/100\n",
            "1/1 [==============================] - 0s 8ms/step - loss: 3.7853 - mae: 3.7853\n",
            "Epoch 70/100\n",
            "1/1 [==============================] - 0s 8ms/step - loss: 3.7891 - mae: 3.7891\n",
            "Epoch 71/100\n",
            "1/1 [==============================] - 0s 8ms/step - loss: 3.7588 - mae: 3.7588\n",
            "Epoch 72/100\n",
            "1/1 [==============================] - 0s 10ms/step - loss: 3.7975 - mae: 3.7975\n",
            "Epoch 73/100\n",
            "1/1 [==============================] - 0s 8ms/step - loss: 3.7337 - mae: 3.7337\n",
            "Epoch 74/100\n",
            "1/1 [==============================] - 0s 8ms/step - loss: 3.8105 - mae: 3.8105\n",
            "Epoch 75/100\n",
            "1/1 [==============================] - 0s 9ms/step - loss: 3.7478 - mae: 3.7478\n",
            "Epoch 76/100\n",
            "1/1 [==============================] - 0s 10ms/step - loss: 3.7840 - mae: 3.7840\n",
            "Epoch 77/100\n",
            "1/1 [==============================] - 0s 8ms/step - loss: 3.7563 - mae: 3.7563\n",
            "Epoch 78/100\n",
            "1/1 [==============================] - 0s 7ms/step - loss: 3.7575 - mae: 3.7575\n",
            "Epoch 79/100\n",
            "1/1 [==============================] - 0s 8ms/step - loss: 3.7648 - mae: 3.7648\n",
            "Epoch 80/100\n",
            "1/1 [==============================] - 0s 10ms/step - loss: 3.7307 - mae: 3.7307\n",
            "Epoch 81/100\n",
            "1/1 [==============================] - 0s 7ms/step - loss: 3.7735 - mae: 3.7735\n",
            "Epoch 82/100\n",
            "1/1 [==============================] - 0s 5ms/step - loss: 3.7125 - mae: 3.7125\n",
            "Epoch 83/100\n",
            "1/1 [==============================] - 0s 9ms/step - loss: 3.7820 - mae: 3.7820\n",
            "Epoch 84/100\n",
            "1/1 [==============================] - 0s 7ms/step - loss: 3.7242 - mae: 3.7242\n",
            "Epoch 85/100\n",
            "1/1 [==============================] - 0s 7ms/step - loss: 3.7552 - mae: 3.7552\n",
            "Epoch 86/100\n",
            "1/1 [==============================] - 0s 7ms/step - loss: 3.7329 - mae: 3.7329\n",
            "Epoch 87/100\n",
            "1/1 [==============================] - 0s 7ms/step - loss: 3.7284 - mae: 3.7284\n",
            "Epoch 88/100\n",
            "1/1 [==============================] - 0s 9ms/step - loss: 3.7416 - mae: 3.7416\n",
            "Epoch 89/100\n",
            "1/1 [==============================] - 0s 8ms/step - loss: 3.7013 - mae: 3.7013\n",
            "Epoch 90/100\n",
            "1/1 [==============================] - 0s 6ms/step - loss: 3.7505 - mae: 3.7505\n",
            "Epoch 91/100\n",
            "1/1 [==============================] - 0s 7ms/step - loss: 3.6921 - mae: 3.6921\n",
            "Epoch 92/100\n",
            "1/1 [==============================] - 0s 6ms/step - loss: 3.7522 - mae: 3.7522\n",
            "Epoch 93/100\n",
            "1/1 [==============================] - 0s 6ms/step - loss: 3.7016 - mae: 3.7016\n",
            "Epoch 94/100\n",
            "1/1 [==============================] - 0s 7ms/step - loss: 3.7251 - mae: 3.7251\n",
            "Epoch 95/100\n",
            "1/1 [==============================] - 0s 7ms/step - loss: 3.7105 - mae: 3.7105\n",
            "Epoch 96/100\n",
            "1/1 [==============================] - 0s 8ms/step - loss: 3.6979 - mae: 3.6979\n",
            "Epoch 97/100\n",
            "1/1 [==============================] - 0s 6ms/step - loss: 3.7194 - mae: 3.7194\n",
            "Epoch 98/100\n",
            "1/1 [==============================] - 0s 7ms/step - loss: 3.6705 - mae: 3.6705\n",
            "Epoch 99/100\n",
            "1/1 [==============================] - 0s 6ms/step - loss: 3.7299 - mae: 3.7299\n",
            "Epoch 100/100\n",
            "1/1 [==============================] - 0s 8ms/step - loss: 3.6711 - mae: 3.6711\n"
          ]
        },
        {
          "output_type": "execute_result",
          "data": {
            "text/plain": [
              "<keras.callbacks.History at 0x7fb10c26e210>"
            ]
          },
          "metadata": {},
          "execution_count": 21
        }
      ]
    },
    {
      "cell_type": "code",
      "source": [
        "model.predict([17.0])"
      ],
      "metadata": {
        "colab": {
          "base_uri": "https://localhost:8080/"
        },
        "id": "4MsDB6fP4GRQ",
        "outputId": "be63085d-c341-4944-a1f3-45f202de2dde"
      },
      "execution_count": 22,
      "outputs": [
        {
          "output_type": "stream",
          "name": "stdout",
          "text": [
            "1/1 [==============================] - 0s 53ms/step\n"
          ]
        },
        {
          "output_type": "execute_result",
          "data": {
            "text/plain": [
              "array([[31.223133]], dtype=float32)"
            ]
          },
          "metadata": {},
          "execution_count": 22
        }
      ]
    },
    {
      "cell_type": "code",
      "source": [
        "#more model improvements.\n",
        "#1. set up model\n",
        "model = tf.keras.Sequential([\n",
        "    tf.keras.layers.Dense(50, activation = None),\n",
        "    tf.keras.layers.Dense(1)\n",
        "])\n",
        "\n",
        "#2. compile\n",
        "model.compile(loss = 'mae',\n",
        "              optimizer = tf.keras.optimizers.Adam(lr=.01),\n",
        "              metrics=['mae'])\n",
        "#3. fit the model\n",
        "model.fit(tf.expand_dims(X, axis=1), y, epochs=100)"
      ],
      "metadata": {
        "colab": {
          "base_uri": "https://localhost:8080/"
        },
        "id": "DBVtDnrEfMj4",
        "outputId": "d99c9b78-58be-4587-c035-b791602f64ae"
      },
      "execution_count": 23,
      "outputs": [
        {
          "output_type": "stream",
          "name": "stdout",
          "text": [
            "Epoch 1/100\n"
          ]
        },
        {
          "output_type": "stream",
          "name": "stderr",
          "text": [
            "/usr/local/lib/python3.7/dist-packages/keras/optimizers/optimizer_v2/adam.py:110: UserWarning: The `lr` argument is deprecated, use `learning_rate` instead.\n",
            "  super(Adam, self).__init__(name, **kwargs)\n"
          ]
        },
        {
          "output_type": "stream",
          "name": "stdout",
          "text": [
            "1/1 [==============================] - 0s 339ms/step - loss: 12.2895 - mae: 12.2895\n",
            "Epoch 2/100\n",
            "1/1 [==============================] - 0s 7ms/step - loss: 11.5828 - mae: 11.5828\n",
            "Epoch 3/100\n",
            "1/1 [==============================] - 0s 8ms/step - loss: 10.8658 - mae: 10.8658\n",
            "Epoch 4/100\n",
            "1/1 [==============================] - 0s 8ms/step - loss: 10.1377 - mae: 10.1377\n",
            "Epoch 5/100\n",
            "1/1 [==============================] - 0s 8ms/step - loss: 9.3973 - mae: 9.3973\n",
            "Epoch 6/100\n",
            "1/1 [==============================] - 0s 8ms/step - loss: 8.6426 - mae: 8.6426\n",
            "Epoch 7/100\n",
            "1/1 [==============================] - 0s 6ms/step - loss: 7.8717 - mae: 7.8717\n",
            "Epoch 8/100\n",
            "1/1 [==============================] - 0s 7ms/step - loss: 7.0828 - mae: 7.0828\n",
            "Epoch 9/100\n",
            "1/1 [==============================] - 0s 8ms/step - loss: 6.8696 - mae: 6.8696\n",
            "Epoch 10/100\n",
            "1/1 [==============================] - 0s 9ms/step - loss: 7.2795 - mae: 7.2795\n",
            "Epoch 11/100\n",
            "1/1 [==============================] - 0s 7ms/step - loss: 7.5933 - mae: 7.5933\n",
            "Epoch 12/100\n",
            "1/1 [==============================] - 0s 9ms/step - loss: 7.8205 - mae: 7.8205\n",
            "Epoch 13/100\n",
            "1/1 [==============================] - 0s 7ms/step - loss: 7.8053 - mae: 7.8053\n",
            "Epoch 14/100\n",
            "1/1 [==============================] - 0s 7ms/step - loss: 7.6123 - mae: 7.6123\n",
            "Epoch 15/100\n",
            "1/1 [==============================] - 0s 9ms/step - loss: 7.2874 - mae: 7.2874\n",
            "Epoch 16/100\n",
            "1/1 [==============================] - 0s 13ms/step - loss: 7.0000 - mae: 7.0000\n",
            "Epoch 17/100\n",
            "1/1 [==============================] - 0s 8ms/step - loss: 6.7163 - mae: 6.7163\n",
            "Epoch 18/100\n",
            "1/1 [==============================] - 0s 9ms/step - loss: 6.4202 - mae: 6.4202\n",
            "Epoch 19/100\n",
            "1/1 [==============================] - 0s 9ms/step - loss: 6.2556 - mae: 6.2556\n",
            "Epoch 20/100\n",
            "1/1 [==============================] - 0s 8ms/step - loss: 6.2091 - mae: 6.2091\n",
            "Epoch 21/100\n",
            "1/1 [==============================] - 0s 9ms/step - loss: 6.3210 - mae: 6.3210\n",
            "Epoch 22/100\n",
            "1/1 [==============================] - 0s 11ms/step - loss: 6.4109 - mae: 6.4109\n",
            "Epoch 23/100\n",
            "1/1 [==============================] - 0s 11ms/step - loss: 6.4007 - mae: 6.4007\n",
            "Epoch 24/100\n",
            "1/1 [==============================] - 0s 6ms/step - loss: 6.3028 - mae: 6.3028\n",
            "Epoch 25/100\n",
            "1/1 [==============================] - 0s 7ms/step - loss: 6.1266 - mae: 6.1266\n",
            "Epoch 26/100\n",
            "1/1 [==============================] - 0s 7ms/step - loss: 5.8791 - mae: 5.8791\n",
            "Epoch 27/100\n",
            "1/1 [==============================] - 0s 7ms/step - loss: 5.6786 - mae: 5.6786\n",
            "Epoch 28/100\n",
            "1/1 [==============================] - 0s 8ms/step - loss: 5.5757 - mae: 5.5757\n",
            "Epoch 29/100\n",
            "1/1 [==============================] - 0s 7ms/step - loss: 5.4830 - mae: 5.4830\n",
            "Epoch 30/100\n",
            "1/1 [==============================] - 0s 7ms/step - loss: 5.4906 - mae: 5.4906\n",
            "Epoch 31/100\n",
            "1/1 [==============================] - 0s 7ms/step - loss: 5.4533 - mae: 5.4533\n",
            "Epoch 32/100\n",
            "1/1 [==============================] - 0s 7ms/step - loss: 5.3749 - mae: 5.3749\n",
            "Epoch 33/100\n",
            "1/1 [==============================] - 0s 7ms/step - loss: 5.2585 - mae: 5.2585\n",
            "Epoch 34/100\n",
            "1/1 [==============================] - 0s 10ms/step - loss: 5.1075 - mae: 5.1075\n",
            "Epoch 35/100\n",
            "1/1 [==============================] - 0s 9ms/step - loss: 4.9247 - mae: 4.9247\n",
            "Epoch 36/100\n",
            "1/1 [==============================] - 0s 6ms/step - loss: 4.8326 - mae: 4.8326\n",
            "Epoch 37/100\n",
            "1/1 [==============================] - 0s 12ms/step - loss: 4.7434 - mae: 4.7434\n",
            "Epoch 38/100\n",
            "1/1 [==============================] - 0s 6ms/step - loss: 4.6473 - mae: 4.6473\n",
            "Epoch 39/100\n",
            "1/1 [==============================] - 0s 6ms/step - loss: 4.6406 - mae: 4.6406\n",
            "Epoch 40/100\n",
            "1/1 [==============================] - 0s 8ms/step - loss: 4.5264 - mae: 4.5264\n",
            "Epoch 41/100\n",
            "1/1 [==============================] - 0s 5ms/step - loss: 4.3043 - mae: 4.3043\n",
            "Epoch 42/100\n",
            "1/1 [==============================] - 0s 8ms/step - loss: 4.1422 - mae: 4.1422\n",
            "Epoch 43/100\n",
            "1/1 [==============================] - 0s 19ms/step - loss: 3.9877 - mae: 3.9877\n",
            "Epoch 44/100\n",
            "1/1 [==============================] - 0s 5ms/step - loss: 3.9464 - mae: 3.9464\n",
            "Epoch 45/100\n",
            "1/1 [==============================] - 0s 7ms/step - loss: 3.8751 - mae: 3.8751\n",
            "Epoch 46/100\n",
            "1/1 [==============================] - 0s 8ms/step - loss: 3.7518 - mae: 3.7518\n",
            "Epoch 47/100\n",
            "1/1 [==============================] - 0s 10ms/step - loss: 3.5792 - mae: 3.5792\n",
            "Epoch 48/100\n",
            "1/1 [==============================] - 0s 7ms/step - loss: 3.3603 - mae: 3.3603\n",
            "Epoch 49/100\n",
            "1/1 [==============================] - 0s 7ms/step - loss: 3.0974 - mae: 3.0974\n",
            "Epoch 50/100\n",
            "1/1 [==============================] - 0s 12ms/step - loss: 2.9257 - mae: 2.9257\n",
            "Epoch 51/100\n",
            "1/1 [==============================] - 0s 7ms/step - loss: 2.8595 - mae: 2.8595\n",
            "Epoch 52/100\n",
            "1/1 [==============================] - 0s 6ms/step - loss: 2.7329 - mae: 2.7329\n",
            "Epoch 53/100\n",
            "1/1 [==============================] - 0s 7ms/step - loss: 2.4629 - mae: 2.4629\n",
            "Epoch 54/100\n",
            "1/1 [==============================] - 0s 6ms/step - loss: 2.1637 - mae: 2.1637\n",
            "Epoch 55/100\n",
            "1/1 [==============================] - 0s 8ms/step - loss: 2.0178 - mae: 2.0178\n",
            "Epoch 56/100\n",
            "1/1 [==============================] - 0s 7ms/step - loss: 1.8761 - mae: 1.8761\n",
            "Epoch 57/100\n",
            "1/1 [==============================] - 0s 8ms/step - loss: 1.6739 - mae: 1.6739\n",
            "Epoch 58/100\n",
            "1/1 [==============================] - 0s 7ms/step - loss: 1.3610 - mae: 1.3610\n",
            "Epoch 59/100\n",
            "1/1 [==============================] - 0s 7ms/step - loss: 1.0520 - mae: 1.0520\n",
            "Epoch 60/100\n",
            "1/1 [==============================] - 0s 6ms/step - loss: 0.9784 - mae: 0.9784\n",
            "Epoch 61/100\n",
            "1/1 [==============================] - 0s 7ms/step - loss: 0.7529 - mae: 0.7529\n",
            "Epoch 62/100\n",
            "1/1 [==============================] - 0s 7ms/step - loss: 0.3615 - mae: 0.3615\n",
            "Epoch 63/100\n",
            "1/1 [==============================] - 0s 6ms/step - loss: 0.3184 - mae: 0.3184\n",
            "Epoch 64/100\n",
            "1/1 [==============================] - 0s 7ms/step - loss: 0.4346 - mae: 0.4346\n",
            "Epoch 65/100\n",
            "1/1 [==============================] - 0s 6ms/step - loss: 0.4635 - mae: 0.4635\n",
            "Epoch 66/100\n",
            "1/1 [==============================] - 0s 9ms/step - loss: 0.7942 - mae: 0.7942\n",
            "Epoch 67/100\n",
            "1/1 [==============================] - 0s 6ms/step - loss: 0.9793 - mae: 0.9793\n",
            "Epoch 68/100\n",
            "1/1 [==============================] - 0s 8ms/step - loss: 0.9275 - mae: 0.9275\n",
            "Epoch 69/100\n",
            "1/1 [==============================] - 0s 6ms/step - loss: 0.7528 - mae: 0.7528\n",
            "Epoch 70/100\n",
            "1/1 [==============================] - 0s 6ms/step - loss: 0.8764 - mae: 0.8764\n",
            "Epoch 71/100\n",
            "1/1 [==============================] - 0s 10ms/step - loss: 0.8516 - mae: 0.8516\n",
            "Epoch 72/100\n",
            "1/1 [==============================] - 0s 6ms/step - loss: 0.6468 - mae: 0.6468\n",
            "Epoch 73/100\n",
            "1/1 [==============================] - 0s 6ms/step - loss: 0.6094 - mae: 0.6094\n",
            "Epoch 74/100\n",
            "1/1 [==============================] - 0s 7ms/step - loss: 0.5948 - mae: 0.5948\n",
            "Epoch 75/100\n",
            "1/1 [==============================] - 0s 7ms/step - loss: 0.3295 - mae: 0.3295\n",
            "Epoch 76/100\n",
            "1/1 [==============================] - 0s 9ms/step - loss: 0.2279 - mae: 0.2279\n",
            "Epoch 77/100\n",
            "1/1 [==============================] - 0s 6ms/step - loss: 0.3053 - mae: 0.3053\n",
            "Epoch 78/100\n",
            "1/1 [==============================] - 0s 6ms/step - loss: 0.1723 - mae: 0.1723\n",
            "Epoch 79/100\n",
            "1/1 [==============================] - 0s 7ms/step - loss: 0.4259 - mae: 0.4259\n",
            "Epoch 80/100\n",
            "1/1 [==============================] - 0s 12ms/step - loss: 0.5281 - mae: 0.5281\n",
            "Epoch 81/100\n",
            "1/1 [==============================] - 0s 7ms/step - loss: 0.4696 - mae: 0.4696\n",
            "Epoch 82/100\n",
            "1/1 [==============================] - 0s 12ms/step - loss: 0.2678 - mae: 0.2678\n",
            "Epoch 83/100\n",
            "1/1 [==============================] - 0s 6ms/step - loss: 0.5169 - mae: 0.5169\n",
            "Epoch 84/100\n",
            "1/1 [==============================] - 0s 6ms/step - loss: 0.6089 - mae: 0.6089\n",
            "Epoch 85/100\n",
            "1/1 [==============================] - 0s 8ms/step - loss: 0.4048 - mae: 0.4048\n",
            "Epoch 86/100\n",
            "1/1 [==============================] - 0s 79ms/step - loss: 0.0786 - mae: 0.0786\n",
            "Epoch 87/100\n",
            "1/1 [==============================] - 0s 9ms/step - loss: 0.2097 - mae: 0.2097\n",
            "Epoch 88/100\n",
            "1/1 [==============================] - 0s 9ms/step - loss: 0.0880 - mae: 0.0880\n",
            "Epoch 89/100\n",
            "1/1 [==============================] - 0s 12ms/step - loss: 0.2643 - mae: 0.2643\n",
            "Epoch 90/100\n",
            "1/1 [==============================] - 0s 7ms/step - loss: 0.2511 - mae: 0.2511\n",
            "Epoch 91/100\n",
            "1/1 [==============================] - 0s 10ms/step - loss: 0.0823 - mae: 0.0823\n",
            "Epoch 92/100\n",
            "1/1 [==============================] - 0s 8ms/step - loss: 0.1671 - mae: 0.1671\n",
            "Epoch 93/100\n",
            "1/1 [==============================] - 0s 8ms/step - loss: 0.0151 - mae: 0.0151\n",
            "Epoch 94/100\n",
            "1/1 [==============================] - 0s 8ms/step - loss: 0.1764 - mae: 0.1764\n",
            "Epoch 95/100\n",
            "1/1 [==============================] - 0s 9ms/step - loss: 0.0583 - mae: 0.0583\n",
            "Epoch 96/100\n",
            "1/1 [==============================] - 0s 13ms/step - loss: 0.3079 - mae: 0.3079\n",
            "Epoch 97/100\n",
            "1/1 [==============================] - 0s 7ms/step - loss: 0.3563 - mae: 0.3563\n",
            "Epoch 98/100\n",
            "1/1 [==============================] - 0s 8ms/step - loss: 0.1435 - mae: 0.1435\n",
            "Epoch 99/100\n",
            "1/1 [==============================] - 0s 7ms/step - loss: 0.3118 - mae: 0.3118\n",
            "Epoch 100/100\n",
            "1/1 [==============================] - 0s 9ms/step - loss: 0.4585 - mae: 0.4585\n"
          ]
        },
        {
          "output_type": "execute_result",
          "data": {
            "text/plain": [
              "<keras.callbacks.History at 0x7fb10c113450>"
            ]
          },
          "metadata": {},
          "execution_count": 23
        }
      ]
    },
    {
      "cell_type": "markdown",
      "source": [
        "Evaluating a model\n",
        "\n",
        "in practive the typical workflow youll go through when building a nueral network is:\n",
        "\n",
        "create a modle, compile the model, fit the model. evaluate, tweak, evaluate, tweak, evaluate\n",
        "\n",
        "when it comes to evaluate just vizualize visualize, visualize\n",
        "\n",
        "* what should we visualize?\n",
        "\n",
        "the data what does the data were working with look like\n",
        "\n",
        "The model itself how does our model look\n",
        "\n",
        "The training of the model, how does a model perform while it learns\n",
        "\n",
        "the predictions of the model"
      ],
      "metadata": {
        "id": "VLz5bXUHlt9j"
      }
    },
    {
      "cell_type": "code",
      "source": [
        "#lets make a bigger data set\n",
        "\n",
        "X=tf.range(-100, 100, 4)\n",
        "\n",
        "X"
      ],
      "metadata": {
        "colab": {
          "base_uri": "https://localhost:8080/"
        },
        "id": "H-FFn0Tyhaka",
        "outputId": "818cb85e-83fd-467a-ae5c-2b6e5abb1e9f"
      },
      "execution_count": 24,
      "outputs": [
        {
          "output_type": "execute_result",
          "data": {
            "text/plain": [
              "<tf.Tensor: shape=(50,), dtype=int32, numpy=\n",
              "array([-100,  -96,  -92,  -88,  -84,  -80,  -76,  -72,  -68,  -64,  -60,\n",
              "        -56,  -52,  -48,  -44,  -40,  -36,  -32,  -28,  -24,  -20,  -16,\n",
              "        -12,   -8,   -4,    0,    4,    8,   12,   16,   20,   24,   28,\n",
              "         32,   36,   40,   44,   48,   52,   56,   60,   64,   68,   72,\n",
              "         76,   80,   84,   88,   92,   96], dtype=int32)>"
            ]
          },
          "metadata": {},
          "execution_count": 24
        }
      ]
    },
    {
      "cell_type": "code",
      "source": [
        "#make labels for the dataset\n",
        "y= X + 10\n",
        "y"
      ],
      "metadata": {
        "colab": {
          "base_uri": "https://localhost:8080/"
        },
        "id": "4KD_xMfnmnSQ",
        "outputId": "a0773b59-e8d7-4077-94f4-551251039528"
      },
      "execution_count": 25,
      "outputs": [
        {
          "output_type": "execute_result",
          "data": {
            "text/plain": [
              "<tf.Tensor: shape=(50,), dtype=int32, numpy=\n",
              "array([-90, -86, -82, -78, -74, -70, -66, -62, -58, -54, -50, -46, -42,\n",
              "       -38, -34, -30, -26, -22, -18, -14, -10,  -6,  -2,   2,   6,  10,\n",
              "        14,  18,  22,  26,  30,  34,  38,  42,  46,  50,  54,  58,  62,\n",
              "        66,  70,  74,  78,  82,  86,  90,  94,  98, 102, 106], dtype=int32)>"
            ]
          },
          "metadata": {},
          "execution_count": 25
        }
      ]
    },
    {
      "cell_type": "code",
      "source": [
        "#visualize the data\n",
        "import matplotlib.pyplot as plt\n",
        "plt.scatter(X,y)"
      ],
      "metadata": {
        "colab": {
          "base_uri": "https://localhost:8080/",
          "height": 283
        },
        "id": "_6gMQqTUmwX9",
        "outputId": "ce04c44f-d5c9-4967-d5b9-1adbbfa10686"
      },
      "execution_count": 26,
      "outputs": [
        {
          "output_type": "execute_result",
          "data": {
            "text/plain": [
              "<matplotlib.collections.PathCollection at 0x7fb0f27d3190>"
            ]
          },
          "metadata": {},
          "execution_count": 26
        },
        {
          "output_type": "display_data",
          "data": {
            "text/plain": [
              "<Figure size 432x288 with 1 Axes>"
            ],
            "image/png": "[encoded data removed]"
          },
          "metadata": {
            "needs_background": "light"
          }
        }
      ]
    },
    {
      "cell_type": "code",
      "source": [
        "### splitting data into three sets, train, validate, test\n",
        "# training is usually 70-80%\n",
        "#validate is usually 10-15%\n",
        "# test is usually 10-15%\n",
        "\n",
        "len(X)"
      ],
      "metadata": {
        "colab": {
          "base_uri": "https://localhost:8080/"
        },
        "id": "GqMwbQn7m658",
        "outputId": "cdd4950d-ed72-46a5-b427-152a45b957fe"
      },
      "execution_count": 27,
      "outputs": [
        {
          "output_type": "execute_result",
          "data": {
            "text/plain": [
              "50"
            ]
          },
          "metadata": {},
          "execution_count": 27
        }
      ]
    },
    {
      "cell_type": "code",
      "source": [
        "#Splitting the training set\n",
        "X_train = X[:40] # the first 40 training samples\n",
        "y_train = y[:40]\n",
        "\n",
        "X_test = X[40:] #last ten is test\n",
        "y_test = y[40:]\n",
        "\n"
      ],
      "metadata": {
        "id": "uMbuhabOoZUe"
      },
      "execution_count": 28,
      "outputs": []
    },
    {
      "cell_type": "code",
      "source": [
        "len(X_train)"
      ],
      "metadata": {
        "colab": {
          "base_uri": "https://localhost:8080/"
        },
        "id": "ONyE8d-Uo-5Y",
        "outputId": "58024d3f-9191-4ea6-bab9-719be67f774d"
      },
      "execution_count": 29,
      "outputs": [
        {
          "output_type": "execute_result",
          "data": {
            "text/plain": [
              "40"
            ]
          },
          "metadata": {},
          "execution_count": 29
        }
      ]
    },
    {
      "cell_type": "code",
      "source": [
        "# Visualizing the sets\n",
        "plt.figure(figsize=(10,7))\n",
        "#Plotting the training data\n",
        "plt.scatter(X_train, y_train, c='b', label = 'Training data')\n",
        "\n",
        "#plotting the test data\n",
        "plt.scatter(X_test, y_test, c='g', label = 'Test data')"
      ],
      "metadata": {
        "colab": {
          "base_uri": "https://localhost:8080/",
          "height": 446
        },
        "id": "4G8uCNtUpA3S",
        "outputId": "2814eec3-148f-4ee1-8c20-ffb26488d40c"
      },
      "execution_count": 30,
      "outputs": [
        {
          "output_type": "execute_result",
          "data": {
            "text/plain": [
              "<matplotlib.collections.PathCollection at 0x7fb10c41e590>"
            ]
          },
          "metadata": {},
          "execution_count": 30
        },
        {
          "output_type": "display_data",
          "data": {
            "text/plain": [
              "<Figure size 720x504 with 1 Axes>"
            ],
            "image/png": "[encoded data removed]"
          },
          "metadata": {
            "needs_background": "light"
          }
        }
      ]
    },
    {
      "cell_type": "code",
      "source": [
        "# build the model\n",
        "model = tf.keras.Sequential([\n",
        "    tf.keras.layers.Dense(1)\n",
        "\n",
        "])\n",
        "\n",
        "#Compile the model\n",
        "model.compile(loss = tf.keras.losses.mae,\n",
        "              optimizer=tf.keras.optimizers.SGD(),\n",
        "              metrics= ['mae'])\n",
        "\n",
        "#Fit the model\n",
        "model.fit(tf.expand_dims(X_train, axis=1), y_train, epochs=100)"
      ],
      "metadata": {
        "colab": {
          "base_uri": "https://localhost:8080/"
        },
        "id": "MsCfx_1Sp2ev",
        "outputId": "e1ed270b-760c-40cd-9294-271d17900534"
      },
      "execution_count": 31,
      "outputs": [
        {
          "output_type": "stream",
          "name": "stdout",
          "text": [
            "Epoch 1/100\n",
            "2/2 [==============================] - 0s 7ms/step - loss: 47.1280 - mae: 47.1280\n",
            "Epoch 2/100\n",
            "2/2 [==============================] - 0s 6ms/step - loss: 15.7179 - mae: 15.7179\n",
            "Epoch 3/100\n",
            "2/2 [==============================] - 0s 6ms/step - loss: 15.0809 - mae: 15.0809\n",
            "Epoch 4/100\n",
            "2/2 [==============================] - 0s 6ms/step - loss: 8.1832 - mae: 8.1832\n",
            "Epoch 5/100\n",
            "2/2 [==============================] - 0s 6ms/step - loss: 10.6664 - mae: 10.6664\n",
            "Epoch 6/100\n",
            "2/2 [==============================] - 0s 5ms/step - loss: 9.8707 - mae: 9.8707\n",
            "Epoch 7/100\n",
            "2/2 [==============================] - 0s 6ms/step - loss: 8.9399 - mae: 8.9399\n",
            "Epoch 8/100\n",
            "2/2 [==============================] - 0s 7ms/step - loss: 9.0851 - mae: 9.0851\n",
            "Epoch 9/100\n",
            "2/2 [==============================] - 0s 9ms/step - loss: 19.6577 - mae: 19.6577\n",
            "Epoch 10/100\n",
            "2/2 [==============================] - 0s 10ms/step - loss: 10.6254 - mae: 10.6254\n",
            "Epoch 11/100\n",
            "2/2 [==============================] - 0s 6ms/step - loss: 8.6032 - mae: 8.6032\n",
            "Epoch 12/100\n",
            "2/2 [==============================] - 0s 5ms/step - loss: 11.1309 - mae: 11.1309\n",
            "Epoch 13/100\n",
            "2/2 [==============================] - 0s 5ms/step - loss: 12.1580 - mae: 12.1580\n",
            "Epoch 14/100\n",
            "2/2 [==============================] - 0s 5ms/step - loss: 14.1578 - mae: 14.1578\n",
            "Epoch 15/100\n",
            "2/2 [==============================] - 0s 5ms/step - loss: 11.5599 - mae: 11.5599\n",
            "Epoch 16/100\n",
            "2/2 [==============================] - 0s 9ms/step - loss: 8.5065 - mae: 8.5065\n",
            "Epoch 17/100\n",
            "2/2 [==============================] - 0s 5ms/step - loss: 13.5469 - mae: 13.5469\n",
            "Epoch 18/100\n",
            "2/2 [==============================] - 0s 6ms/step - loss: 11.3503 - mae: 11.3503\n",
            "Epoch 19/100\n",
            "2/2 [==============================] - 0s 5ms/step - loss: 18.0721 - mae: 18.0721\n",
            "Epoch 20/100\n",
            "2/2 [==============================] - 0s 5ms/step - loss: 15.2056 - mae: 15.2056\n",
            "Epoch 21/100\n",
            "2/2 [==============================] - 0s 6ms/step - loss: 11.1545 - mae: 11.1545\n",
            "Epoch 22/100\n",
            "2/2 [==============================] - 0s 6ms/step - loss: 8.2786 - mae: 8.2786\n",
            "Epoch 23/100\n",
            "2/2 [==============================] - 0s 6ms/step - loss: 9.4425 - mae: 9.4425\n",
            "Epoch 24/100\n",
            "2/2 [==============================] - 0s 7ms/step - loss: 7.7000 - mae: 7.7000\n",
            "Epoch 25/100\n",
            "2/2 [==============================] - 0s 7ms/step - loss: 12.9999 - mae: 12.9999\n",
            "Epoch 26/100\n",
            "2/2 [==============================] - 0s 6ms/step - loss: 16.5749 - mae: 16.5749\n",
            "Epoch 27/100\n",
            "2/2 [==============================] - 0s 6ms/step - loss: 13.2958 - mae: 13.2958\n",
            "Epoch 28/100\n",
            "2/2 [==============================] - 0s 6ms/step - loss: 14.4198 - mae: 14.4198\n",
            "Epoch 29/100\n",
            "2/2 [==============================] - 0s 6ms/step - loss: 10.1213 - mae: 10.1213\n",
            "Epoch 30/100\n",
            "2/2 [==============================] - 0s 6ms/step - loss: 16.5781 - mae: 16.5781\n",
            "Epoch 31/100\n",
            "2/2 [==============================] - 0s 6ms/step - loss: 23.4375 - mae: 23.4375\n",
            "Epoch 32/100\n",
            "2/2 [==============================] - 0s 6ms/step - loss: 7.3760 - mae: 7.3760\n",
            "Epoch 33/100\n",
            "2/2 [==============================] - 0s 6ms/step - loss: 9.8011 - mae: 9.8011\n",
            "Epoch 34/100\n",
            "2/2 [==============================] - 0s 7ms/step - loss: 12.2384 - mae: 12.2384\n",
            "Epoch 35/100\n",
            "2/2 [==============================] - 0s 6ms/step - loss: 11.1877 - mae: 11.1877\n",
            "Epoch 36/100\n",
            "2/2 [==============================] - 0s 6ms/step - loss: 13.4297 - mae: 13.4297\n",
            "Epoch 37/100\n",
            "2/2 [==============================] - 0s 7ms/step - loss: 9.4467 - mae: 9.4467\n",
            "Epoch 38/100\n",
            "2/2 [==============================] - 0s 7ms/step - loss: 10.0967 - mae: 10.0967\n",
            "Epoch 39/100\n",
            "2/2 [==============================] - 0s 6ms/step - loss: 8.9744 - mae: 8.9744\n",
            "Epoch 40/100\n",
            "2/2 [==============================] - 0s 7ms/step - loss: 9.6017 - mae: 9.6017\n",
            "Epoch 41/100\n",
            "2/2 [==============================] - 0s 8ms/step - loss: 10.5607 - mae: 10.5607\n",
            "Epoch 42/100\n",
            "2/2 [==============================] - 0s 7ms/step - loss: 10.6124 - mae: 10.6124\n",
            "Epoch 43/100\n",
            "2/2 [==============================] - 0s 6ms/step - loss: 7.2194 - mae: 7.2194\n",
            "Epoch 44/100\n",
            "2/2 [==============================] - 0s 6ms/step - loss: 8.0169 - mae: 8.0169\n",
            "Epoch 45/100\n",
            "2/2 [==============================] - 0s 6ms/step - loss: 9.8157 - mae: 9.8157\n",
            "Epoch 46/100\n",
            "2/2 [==============================] - 0s 5ms/step - loss: 8.8938 - mae: 8.8938\n",
            "Epoch 47/100\n",
            "2/2 [==============================] - 0s 6ms/step - loss: 7.5776 - mae: 7.5776\n",
            "Epoch 48/100\n",
            "2/2 [==============================] - 0s 6ms/step - loss: 8.5576 - mae: 8.5576\n",
            "Epoch 49/100\n",
            "2/2 [==============================] - 0s 6ms/step - loss: 10.0247 - mae: 10.0247\n",
            "Epoch 50/100\n",
            "2/2 [==============================] - 0s 6ms/step - loss: 9.0060 - mae: 9.0060\n",
            "Epoch 51/100\n",
            "2/2 [==============================] - 0s 6ms/step - loss: 10.6985 - mae: 10.6985\n",
            "Epoch 52/100\n",
            "2/2 [==============================] - 0s 5ms/step - loss: 15.2824 - mae: 15.2824\n",
            "Epoch 53/100\n",
            "2/2 [==============================] - 0s 6ms/step - loss: 14.3081 - mae: 14.3081\n",
            "Epoch 54/100\n",
            "2/2 [==============================] - 0s 6ms/step - loss: 21.5765 - mae: 21.5765\n",
            "Epoch 55/100\n",
            "2/2 [==============================] - 0s 6ms/step - loss: 16.0287 - mae: 16.0287\n",
            "Epoch 56/100\n",
            "2/2 [==============================] - 0s 6ms/step - loss: 10.2693 - mae: 10.2693\n",
            "Epoch 57/100\n",
            "2/2 [==============================] - 0s 12ms/step - loss: 9.7914 - mae: 9.7914\n",
            "Epoch 58/100\n",
            "2/2 [==============================] - 0s 6ms/step - loss: 9.0755 - mae: 9.0755\n",
            "Epoch 59/100\n",
            "2/2 [==============================] - 0s 5ms/step - loss: 8.2788 - mae: 8.2788\n",
            "Epoch 60/100\n",
            "2/2 [==============================] - 0s 5ms/step - loss: 9.3741 - mae: 9.3741\n",
            "Epoch 61/100\n",
            "2/2 [==============================] - 0s 6ms/step - loss: 11.1947 - mae: 11.1947\n",
            "Epoch 62/100\n",
            "2/2 [==============================] - 0s 6ms/step - loss: 12.0570 - mae: 12.0570\n",
            "Epoch 63/100\n",
            "2/2 [==============================] - 0s 6ms/step - loss: 7.2787 - mae: 7.2787\n",
            "Epoch 64/100\n",
            "2/2 [==============================] - 0s 6ms/step - loss: 12.4562 - mae: 12.4562\n",
            "Epoch 65/100\n",
            "2/2 [==============================] - 0s 5ms/step - loss: 10.5305 - mae: 10.5305\n",
            "Epoch 66/100\n",
            "2/2 [==============================] - 0s 6ms/step - loss: 15.5891 - mae: 15.5891\n",
            "Epoch 67/100\n",
            "2/2 [==============================] - 0s 6ms/step - loss: 9.9992 - mae: 9.9992\n",
            "Epoch 68/100\n",
            "2/2 [==============================] - 0s 6ms/step - loss: 8.7212 - mae: 8.7212\n",
            "Epoch 69/100\n",
            "2/2 [==============================] - 0s 9ms/step - loss: 13.4660 - mae: 13.4660\n",
            "Epoch 70/100\n",
            "2/2 [==============================] - 0s 8ms/step - loss: 7.4771 - mae: 7.4771\n",
            "Epoch 71/100\n",
            "2/2 [==============================] - 0s 10ms/step - loss: 12.2574 - mae: 12.2574\n",
            "Epoch 72/100\n",
            "2/2 [==============================] - 0s 6ms/step - loss: 8.5251 - mae: 8.5251\n",
            "Epoch 73/100\n",
            "2/2 [==============================] - 0s 6ms/step - loss: 7.0452 - mae: 7.0452\n",
            "Epoch 74/100\n",
            "2/2 [==============================] - 0s 6ms/step - loss: 9.9101 - mae: 9.9101\n",
            "Epoch 75/100\n",
            "2/2 [==============================] - 0s 7ms/step - loss: 9.9603 - mae: 9.9603\n",
            "Epoch 76/100\n",
            "2/2 [==============================] - 0s 6ms/step - loss: 10.1228 - mae: 10.1228\n",
            "Epoch 77/100\n",
            "2/2 [==============================] - 0s 6ms/step - loss: 12.9858 - mae: 12.9858\n",
            "Epoch 78/100\n",
            "2/2 [==============================] - 0s 6ms/step - loss: 10.9060 - mae: 10.9060\n",
            "Epoch 79/100\n",
            "2/2 [==============================] - 0s 6ms/step - loss: 15.3932 - mae: 15.3932\n",
            "Epoch 80/100\n",
            "2/2 [==============================] - 0s 6ms/step - loss: 11.7290 - mae: 11.7290\n",
            "Epoch 81/100\n",
            "2/2 [==============================] - 0s 6ms/step - loss: 9.2663 - mae: 9.2663\n",
            "Epoch 82/100\n",
            "2/2 [==============================] - 0s 5ms/step - loss: 12.7280 - mae: 12.7280\n",
            "Epoch 83/100\n",
            "2/2 [==============================] - 0s 6ms/step - loss: 8.2837 - mae: 8.2837\n",
            "Epoch 84/100\n",
            "2/2 [==============================] - 0s 8ms/step - loss: 7.3144 - mae: 7.3144\n",
            "Epoch 85/100\n",
            "2/2 [==============================] - 0s 6ms/step - loss: 10.4807 - mae: 10.4807\n",
            "Epoch 86/100\n",
            "2/2 [==============================] - 0s 5ms/step - loss: 9.1503 - mae: 9.1503\n",
            "Epoch 87/100\n",
            "2/2 [==============================] - 0s 6ms/step - loss: 11.8652 - mae: 11.8652\n",
            "Epoch 88/100\n",
            "2/2 [==============================] - 0s 6ms/step - loss: 10.4746 - mae: 10.4746\n",
            "Epoch 89/100\n",
            "2/2 [==============================] - 0s 6ms/step - loss: 6.9760 - mae: 6.9760\n",
            "Epoch 90/100\n",
            "2/2 [==============================] - 0s 6ms/step - loss: 13.8007 - mae: 13.8007\n",
            "Epoch 91/100\n",
            "2/2 [==============================] - 0s 7ms/step - loss: 7.8776 - mae: 7.8776\n",
            "Epoch 92/100\n",
            "2/2 [==============================] - 0s 6ms/step - loss: 7.4612 - mae: 7.4612\n",
            "Epoch 93/100\n",
            "2/2 [==============================] - 0s 6ms/step - loss: 9.1702 - mae: 9.1702\n",
            "Epoch 94/100\n",
            "2/2 [==============================] - 0s 6ms/step - loss: 8.5704 - mae: 8.5704\n",
            "Epoch 95/100\n",
            "2/2 [==============================] - 0s 6ms/step - loss: 11.5238 - mae: 11.5238\n",
            "Epoch 96/100\n",
            "2/2 [==============================] - 0s 7ms/step - loss: 10.2750 - mae: 10.2750\n",
            "Epoch 97/100\n",
            "2/2 [==============================] - 0s 10ms/step - loss: 7.6980 - mae: 7.6980\n",
            "Epoch 98/100\n",
            "2/2 [==============================] - 0s 6ms/step - loss: 8.6314 - mae: 8.6314\n",
            "Epoch 99/100\n",
            "2/2 [==============================] - 0s 7ms/step - loss: 9.4122 - mae: 9.4122\n",
            "Epoch 100/100\n",
            "2/2 [==============================] - 0s 6ms/step - loss: 8.8524 - mae: 8.8524\n"
          ]
        },
        {
          "output_type": "execute_result",
          "data": {
            "text/plain": [
              "<keras.callbacks.History at 0x7fb10c043e50>"
            ]
          },
          "metadata": {},
          "execution_count": 31
        }
      ]
    },
    {
      "cell_type": "code",
      "source": [
        "model.summary"
      ],
      "metadata": {
        "colab": {
          "base_uri": "https://localhost:8080/"
        },
        "id": "92qs0LDxr7mw",
        "outputId": "617a03dd-7f1e-4e66-fae4-31da20d7eeea"
      },
      "execution_count": 32,
      "outputs": [
        {
          "output_type": "execute_result",
          "data": {
            "text/plain": [
              "<bound method Model.summary of <keras.engine.sequential.Sequential object at 0x7fb10c4f1f90>>"
            ]
          },
          "metadata": {},
          "execution_count": 32
        }
      ]
    },
    {
      "cell_type": "code",
      "source": [
        "#create model which builds automatically\n",
        "tf.random.set_seed(42)\n",
        "\n",
        "#create a model\n",
        "model_build = tf.keras.Sequential([\n",
        "    tf.keras.layers.Dense(1, input_shape=[1])\n",
        "])\n",
        "\n",
        "#compile a modeal\n",
        "model_build.compile(loss = tf.keras.losses.mae,\n",
        "              optimizer=tf.keras.optimizers.SGD(),\n",
        "              metrics= ['mae'])\n",
        "\n"
      ],
      "metadata": {
        "id": "RGHe8WXGsbzj"
      },
      "execution_count": 33,
      "outputs": []
    },
    {
      "cell_type": "code",
      "source": [
        "model.summary()"
      ],
      "metadata": {
        "colab": {
          "base_uri": "https://localhost:8080/"
        },
        "id": "ZJ2Grqautb0B",
        "outputId": "90d1bdbc-9109-41cd-84f9-0eecbba9d3e9"
      },
      "execution_count": 34,
      "outputs": [
        {
          "output_type": "stream",
          "name": "stdout",
          "text": [
            "Model: \"sequential_4\"\n",
            "_________________________________________________________________\n",
            " Layer (type)                Output Shape              Param #   \n",
            "=================================================================\n",
            " dense_6 (Dense)             (None, 1)                 2         \n",
            "                                                                 \n",
            "=================================================================\n",
            "Total params: 2\n",
            "Trainable params: 2\n",
            "Non-trainable params: 0\n",
            "_________________________________________________________________\n"
          ]
        }
      ]
    },
    {
      "cell_type": "markdown",
      "source": [
        "* Total params = total number of parameters in the model\n",
        "*Trainable parameters - these are the parameters (patterns) the model can update as it trains\n",
        "\n",
        "* non traingable params - these arent updated during training, typical when you bring in already learned patterns or parameters from other models during transfer learning."
      ],
      "metadata": {
        "id": "GwH524fLv-Kv"
      }
    },
    {
      "cell_type": "code",
      "source": [
        "# build the model\n",
        "model = tf.keras.Sequential([\n",
        "    tf.keras.layers.Dense(10, input_shape=[1]),\n",
        "    tf.keras.layers.Dense(1)\n",
        "\n",
        "])\n",
        "\n",
        "#Compile the model\n",
        "model.compile(loss = tf.keras.losses.mae,\n",
        "              optimizer=tf.keras.optimizers.SGD(),\n",
        "              metrics= ['mae'])\n",
        "\n",
        "#Fit the model\n",
        "model.fit(tf.expand_dims(X_train, axis=1), y_train, epochs=100)"
      ],
      "metadata": {
        "colab": {
          "base_uri": "https://localhost:8080/"
        },
        "id": "T4emgrDct5LN",
        "outputId": "dd16fc66-b790-46fc-a18d-d3f60557be3b"
      },
      "execution_count": 35,
      "outputs": [
        {
          "output_type": "stream",
          "name": "stdout",
          "text": [
            "Epoch 1/100\n",
            "2/2 [==============================] - 0s 7ms/step - loss: 73.0019 - mae: 73.0019\n",
            "Epoch 2/100\n",
            "2/2 [==============================] - 0s 8ms/step - loss: 17.5325 - mae: 17.5325\n",
            "Epoch 3/100\n",
            "2/2 [==============================] - 0s 7ms/step - loss: 20.4862 - mae: 20.4862\n",
            "Epoch 4/100\n",
            "2/2 [==============================] - 0s 6ms/step - loss: 13.1871 - mae: 13.1871\n",
            "Epoch 5/100\n",
            "2/2 [==============================] - 0s 6ms/step - loss: 14.5492 - mae: 14.5492\n",
            "Epoch 6/100\n",
            "2/2 [==============================] - 0s 5ms/step - loss: 11.6087 - mae: 11.6087\n",
            "Epoch 7/100\n",
            "2/2 [==============================] - 0s 6ms/step - loss: 12.6668 - mae: 12.6668\n",
            "Epoch 8/100\n",
            "2/2 [==============================] - 0s 5ms/step - loss: 11.0468 - mae: 11.0468\n",
            "Epoch 9/100\n",
            "2/2 [==============================] - 0s 6ms/step - loss: 39.7317 - mae: 39.7317\n",
            "Epoch 10/100\n",
            "2/2 [==============================] - 0s 5ms/step - loss: 27.2189 - mae: 27.2189\n",
            "Epoch 11/100\n",
            "2/2 [==============================] - 0s 6ms/step - loss: 11.0353 - mae: 11.0353\n",
            "Epoch 12/100\n",
            "2/2 [==============================] - 0s 5ms/step - loss: 24.4166 - mae: 24.4166\n",
            "Epoch 13/100\n",
            "2/2 [==============================] - 0s 6ms/step - loss: 19.3019 - mae: 19.3019\n",
            "Epoch 14/100\n",
            "2/2 [==============================] - 0s 5ms/step - loss: 23.5364 - mae: 23.5364\n",
            "Epoch 15/100\n",
            "2/2 [==============================] - 0s 6ms/step - loss: 15.3061 - mae: 15.3061\n",
            "Epoch 16/100\n",
            "2/2 [==============================] - 0s 6ms/step - loss: 11.3811 - mae: 11.3811\n",
            "Epoch 17/100\n",
            "2/2 [==============================] - 0s 6ms/step - loss: 23.2584 - mae: 23.2584\n",
            "Epoch 18/100\n",
            "2/2 [==============================] - 0s 6ms/step - loss: 11.8111 - mae: 11.8111\n",
            "Epoch 19/100\n",
            "2/2 [==============================] - 0s 6ms/step - loss: 16.5386 - mae: 16.5386\n",
            "Epoch 20/100\n",
            "2/2 [==============================] - 0s 5ms/step - loss: 8.2427 - mae: 8.2427\n",
            "Epoch 21/100\n",
            "2/2 [==============================] - 0s 6ms/step - loss: 14.4055 - mae: 14.4055\n",
            "Epoch 22/100\n",
            "2/2 [==============================] - 0s 6ms/step - loss: 12.8167 - mae: 12.8167\n",
            "Epoch 23/100\n",
            "2/2 [==============================] - 0s 5ms/step - loss: 15.4582 - mae: 15.4582\n",
            "Epoch 24/100\n",
            "2/2 [==============================] - 0s 6ms/step - loss: 15.2467 - mae: 15.2467\n",
            "Epoch 25/100\n",
            "2/2 [==============================] - 0s 5ms/step - loss: 14.3296 - mae: 14.3296\n",
            "Epoch 26/100\n",
            "2/2 [==============================] - 0s 5ms/step - loss: 19.3209 - mae: 19.3209\n",
            "Epoch 27/100\n",
            "2/2 [==============================] - 0s 5ms/step - loss: 11.4720 - mae: 11.4720\n",
            "Epoch 28/100\n",
            "2/2 [==============================] - 0s 8ms/step - loss: 29.1772 - mae: 29.1772\n",
            "Epoch 29/100\n",
            "2/2 [==============================] - 0s 9ms/step - loss: 9.2578 - mae: 9.2578\n",
            "Epoch 30/100\n",
            "2/2 [==============================] - 0s 6ms/step - loss: 29.8922 - mae: 29.8922\n",
            "Epoch 31/100\n",
            "2/2 [==============================] - 0s 6ms/step - loss: 54.2504 - mae: 54.2504\n",
            "Epoch 32/100\n",
            "2/2 [==============================] - 0s 5ms/step - loss: 9.5899 - mae: 9.5899\n",
            "Epoch 33/100\n",
            "2/2 [==============================] - 0s 5ms/step - loss: 12.1833 - mae: 12.1833\n",
            "Epoch 34/100\n",
            "2/2 [==============================] - 0s 6ms/step - loss: 23.9572 - mae: 23.9572\n",
            "Epoch 35/100\n",
            "2/2 [==============================] - 0s 6ms/step - loss: 12.6202 - mae: 12.6202\n",
            "Epoch 36/100\n",
            "2/2 [==============================] - 0s 10ms/step - loss: 21.5189 - mae: 21.5189\n",
            "Epoch 37/100\n",
            "2/2 [==============================] - 0s 5ms/step - loss: 11.3948 - mae: 11.3948\n",
            "Epoch 38/100\n",
            "2/2 [==============================] - 0s 6ms/step - loss: 13.4825 - mae: 13.4825\n",
            "Epoch 39/100\n",
            "2/2 [==============================] - 0s 5ms/step - loss: 10.8031 - mae: 10.8031\n",
            "Epoch 40/100\n",
            "2/2 [==============================] - 0s 5ms/step - loss: 16.6186 - mae: 16.6186\n",
            "Epoch 41/100\n",
            "2/2 [==============================] - 0s 5ms/step - loss: 10.9878 - mae: 10.9878\n",
            "Epoch 42/100\n",
            "2/2 [==============================] - 0s 7ms/step - loss: 9.3120 - mae: 9.3120\n",
            "Epoch 43/100\n",
            "2/2 [==============================] - 0s 5ms/step - loss: 9.6002 - mae: 9.6002\n",
            "Epoch 44/100\n",
            "2/2 [==============================] - 0s 7ms/step - loss: 28.0120 - mae: 28.0120\n",
            "Epoch 45/100\n",
            "2/2 [==============================] - 0s 6ms/step - loss: 11.2956 - mae: 11.2956\n",
            "Epoch 46/100\n",
            "2/2 [==============================] - 0s 5ms/step - loss: 14.0830 - mae: 14.0830\n",
            "Epoch 47/100\n",
            "2/2 [==============================] - 0s 6ms/step - loss: 13.5011 - mae: 13.5011\n",
            "Epoch 48/100\n",
            "2/2 [==============================] - 0s 8ms/step - loss: 17.3373 - mae: 17.3373\n",
            "Epoch 49/100\n",
            "2/2 [==============================] - 0s 5ms/step - loss: 9.5238 - mae: 9.5238\n",
            "Epoch 50/100\n",
            "2/2 [==============================] - 0s 6ms/step - loss: 13.7154 - mae: 13.7154\n",
            "Epoch 51/100\n",
            "2/2 [==============================] - 0s 6ms/step - loss: 11.5670 - mae: 11.5670\n",
            "Epoch 52/100\n",
            "2/2 [==============================] - 0s 6ms/step - loss: 30.2257 - mae: 30.2257\n",
            "Epoch 53/100\n",
            "2/2 [==============================] - 0s 10ms/step - loss: 13.7352 - mae: 13.7352\n",
            "Epoch 54/100\n",
            "2/2 [==============================] - 0s 5ms/step - loss: 26.4457 - mae: 26.4457\n",
            "Epoch 55/100\n",
            "2/2 [==============================] - 0s 5ms/step - loss: 26.0367 - mae: 26.0367\n",
            "Epoch 56/100\n",
            "2/2 [==============================] - 0s 10ms/step - loss: 11.2460 - mae: 11.2460\n",
            "Epoch 57/100\n",
            "2/2 [==============================] - 0s 5ms/step - loss: 13.2249 - mae: 13.2249\n",
            "Epoch 58/100\n",
            "2/2 [==============================] - 0s 6ms/step - loss: 9.8754 - mae: 9.8754\n",
            "Epoch 59/100\n",
            "2/2 [==============================] - 0s 7ms/step - loss: 13.4150 - mae: 13.4150\n",
            "Epoch 60/100\n",
            "2/2 [==============================] - 0s 8ms/step - loss: 10.9405 - mae: 10.9405\n",
            "Epoch 61/100\n",
            "2/2 [==============================] - 0s 5ms/step - loss: 13.5630 - mae: 13.5630\n",
            "Epoch 62/100\n",
            "2/2 [==============================] - 0s 8ms/step - loss: 17.8775 - mae: 17.8775\n",
            "Epoch 63/100\n",
            "2/2 [==============================] - 0s 5ms/step - loss: 8.7416 - mae: 8.7416\n",
            "Epoch 64/100\n",
            "2/2 [==============================] - 0s 7ms/step - loss: 16.1381 - mae: 16.1381\n",
            "Epoch 65/100\n",
            "2/2 [==============================] - 0s 6ms/step - loss: 10.7498 - mae: 10.7498\n",
            "Epoch 66/100\n",
            "2/2 [==============================] - 0s 5ms/step - loss: 22.1831 - mae: 22.1831\n",
            "Epoch 67/100\n",
            "2/2 [==============================] - 0s 7ms/step - loss: 10.2709 - mae: 10.2709\n",
            "Epoch 68/100\n",
            "2/2 [==============================] - 0s 6ms/step - loss: 13.4682 - mae: 13.4682\n",
            "Epoch 69/100\n",
            "2/2 [==============================] - 0s 6ms/step - loss: 11.4343 - mae: 11.4343\n",
            "Epoch 70/100\n",
            "2/2 [==============================] - 0s 8ms/step - loss: 13.6187 - mae: 13.6187\n",
            "Epoch 71/100\n",
            "2/2 [==============================] - 0s 8ms/step - loss: 15.6233 - mae: 15.6233\n",
            "Epoch 72/100\n",
            "2/2 [==============================] - 0s 5ms/step - loss: 11.8532 - mae: 11.8532\n",
            "Epoch 73/100\n",
            "2/2 [==============================] - 0s 6ms/step - loss: 16.6254 - mae: 16.6254\n",
            "Epoch 74/100\n",
            "2/2 [==============================] - 0s 5ms/step - loss: 24.1342 - mae: 24.1342\n",
            "Epoch 75/100\n",
            "2/2 [==============================] - 0s 6ms/step - loss: 9.6315 - mae: 9.6315\n",
            "Epoch 76/100\n",
            "2/2 [==============================] - 0s 5ms/step - loss: 12.4825 - mae: 12.4825\n",
            "Epoch 77/100\n",
            "2/2 [==============================] - 0s 6ms/step - loss: 16.7086 - mae: 16.7086\n",
            "Epoch 78/100\n",
            "2/2 [==============================] - 0s 6ms/step - loss: 9.0873 - mae: 9.0873\n",
            "Epoch 79/100\n",
            "2/2 [==============================] - 0s 5ms/step - loss: 24.0255 - mae: 24.0255\n",
            "Epoch 80/100\n",
            "2/2 [==============================] - 0s 6ms/step - loss: 26.8174 - mae: 26.8174\n",
            "Epoch 81/100\n",
            "2/2 [==============================] - 0s 7ms/step - loss: 11.7213 - mae: 11.7213\n",
            "Epoch 82/100\n",
            "2/2 [==============================] - 0s 10ms/step - loss: 12.0124 - mae: 12.0124\n",
            "Epoch 83/100\n",
            "2/2 [==============================] - 0s 8ms/step - loss: 17.4085 - mae: 17.4085\n",
            "Epoch 84/100\n",
            "2/2 [==============================] - 0s 9ms/step - loss: 7.2769 - mae: 7.2769\n",
            "Epoch 85/100\n",
            "2/2 [==============================] - 0s 8ms/step - loss: 14.9605 - mae: 14.9605\n",
            "Epoch 86/100\n",
            "2/2 [==============================] - 0s 4ms/step - loss: 15.2848 - mae: 15.2848\n",
            "Epoch 87/100\n",
            "2/2 [==============================] - 0s 9ms/step - loss: 19.0979 - mae: 19.0979\n",
            "Epoch 88/100\n",
            "2/2 [==============================] - 0s 6ms/step - loss: 29.8574 - mae: 29.8574\n",
            "Epoch 89/100\n",
            "2/2 [==============================] - 0s 6ms/step - loss: 10.1967 - mae: 10.1967\n",
            "Epoch 90/100\n",
            "2/2 [==============================] - 0s 6ms/step - loss: 21.5458 - mae: 21.5458\n",
            "Epoch 91/100\n",
            "2/2 [==============================] - 0s 7ms/step - loss: 10.5928 - mae: 10.5928\n",
            "Epoch 92/100\n",
            "2/2 [==============================] - 0s 7ms/step - loss: 18.4135 - mae: 18.4135\n",
            "Epoch 93/100\n",
            "2/2 [==============================] - 0s 6ms/step - loss: 7.4299 - mae: 7.4299\n",
            "Epoch 94/100\n",
            "2/2 [==============================] - 0s 6ms/step - loss: 17.7470 - mae: 17.7470\n",
            "Epoch 95/100\n",
            "2/2 [==============================] - 0s 6ms/step - loss: 11.1306 - mae: 11.1306\n",
            "Epoch 96/100\n",
            "2/2 [==============================] - 0s 6ms/step - loss: 19.4420 - mae: 19.4420\n",
            "Epoch 97/100\n",
            "2/2 [==============================] - 0s 6ms/step - loss: 12.1735 - mae: 12.1735\n",
            "Epoch 98/100\n",
            "2/2 [==============================] - 0s 8ms/step - loss: 11.5784 - mae: 11.5784\n",
            "Epoch 99/100\n",
            "2/2 [==============================] - 0s 6ms/step - loss: 13.8853 - mae: 13.8853\n",
            "Epoch 100/100\n",
            "2/2 [==============================] - 0s 5ms/step - loss: 20.2151 - mae: 20.2151\n"
          ]
        },
        {
          "output_type": "execute_result",
          "data": {
            "text/plain": [
              "<keras.callbacks.History at 0x7fb0f26c77d0>"
            ]
          },
          "metadata": {},
          "execution_count": 35
        }
      ]
    },
    {
      "cell_type": "code",
      "source": [
        "from tensorflow.keras.utils import plot_model\n",
        "\n",
        "plot_model(model= model, show_shapes=True)"
      ],
      "metadata": {
        "colab": {
          "base_uri": "https://localhost:8080/",
          "height": 312
        },
        "id": "oXS7LnZuwTH6",
        "outputId": "7c8f3908-410d-48bd-bbaa-c3f0228d9e27"
      },
      "execution_count": 36,
      "outputs": [
        {
          "output_type": "execute_result",
          "data": {
            "image/png": "[encoded data removed]",
            "text/plain": [
              "<IPython.core.display.Image object>"
            ]
          },
          "metadata": {},
          "execution_count": 36
        }
      ]
    },
    {
      "cell_type": "markdown",
      "source": [
        "### Visualizing the models predictions\n",
        "\n",
        "to visualize predictions, its a good idea to plot them against the ground truth labels\n",
        "\n",
        "often you will see this in the form of y_test or y_true versus y_pred\n",
        "\n",
        "true observation against predicted"
      ],
      "metadata": {
        "id": "ARmR-UADyzPH"
      }
    },
    {
      "cell_type": "code",
      "source": [
        "#making predictions\n",
        "y_pred = model.predict(X_test)\n",
        "\n",
        "y_pred"
      ],
      "metadata": {
        "colab": {
          "base_uri": "https://localhost:8080/"
        },
        "id": "zsx3D9j6wTFq",
        "outputId": "e70bd37a-4d43-42c9-8540-6b0773ac5ecf"
      },
      "execution_count": 37,
      "outputs": [
        {
          "output_type": "stream",
          "name": "stdout",
          "text": [
            "1/1 [==============================] - 0s 43ms/step\n"
          ]
        },
        {
          "output_type": "execute_result",
          "data": {
            "text/plain": [
              "array([[ 70.48065 ],\n",
              "       [ 75.06518 ],\n",
              "       [ 79.64971 ],\n",
              "       [ 84.23423 ],\n",
              "       [ 88.81876 ],\n",
              "       [ 93.40328 ],\n",
              "       [ 97.98781 ],\n",
              "       [102.572334],\n",
              "       [107.15686 ],\n",
              "       [111.74139 ]], dtype=float32)"
            ]
          },
          "metadata": {},
          "execution_count": 37
        }
      ]
    },
    {
      "cell_type": "code",
      "source": [
        "y_test"
      ],
      "metadata": {
        "colab": {
          "base_uri": "https://localhost:8080/"
        },
        "id": "0Z0-FkAmwTDY",
        "outputId": "6f129d73-a294-45ce-fa96-bea8d41029a0"
      },
      "execution_count": 38,
      "outputs": [
        {
          "output_type": "execute_result",
          "data": {
            "text/plain": [
              "<tf.Tensor: shape=(10,), dtype=int32, numpy=array([ 70,  74,  78,  82,  86,  90,  94,  98, 102, 106], dtype=int32)>"
            ]
          },
          "metadata": {},
          "execution_count": 38
        }
      ]
    },
    {
      "cell_type": "markdown",
      "source": [],
      "metadata": {
        "id": "_xwplCqHz-ji"
      }
    },
    {
      "cell_type": "code",
      "source": [
        " #Plotting function\n",
        "\n",
        "def plot_pred(train_data=X_train,\n",
        "               train_labels = y_train,\n",
        "               test_data = X_test,\n",
        "               test_labels = y_test,\n",
        "               predictions = y_pred):\n",
        "  plt.figure(figsize=(10,7))\n",
        "# plot train\n",
        "  plt.scatter(train_data, train_labels, c='b', label = \"Training data\")\n",
        "\n",
        "# plot test\n",
        "  plt.scatter(test_data, test_labels, c='g', label='Testing data')\n",
        "\n",
        "#plot predictions\n",
        "  plt.scatter(test_data, predictions, c='r', label='predictions')\n",
        "\n",
        "#show the legend\n",
        "  plt.legend();\n",
        "            \n",
        "            \n",
        "\n"
      ],
      "metadata": {
        "id": "Dn5aLsTUzha7"
      },
      "execution_count": 39,
      "outputs": []
    },
    {
      "cell_type": "code",
      "source": [
        "plot_pred(train_data = X_train,\n",
        "          train_labels = y_train,\n",
        "          test_data= X_test,\n",
        "          test_labels = y_test,\n",
        "          predictions = y_pred)"
      ],
      "metadata": {
        "colab": {
          "base_uri": "https://localhost:8080/",
          "height": 428
        },
        "id": "bD2c-l4l4gCg",
        "outputId": "a3554681-ae67-4a8c-8d49-3e1cd56c1f24"
      },
      "execution_count": 40,
      "outputs": [
        {
          "output_type": "display_data",
          "data": {
            "text/plain": [
              "<Figure size 720x504 with 1 Axes>"
            ],
            "image/png": "[encoded data removed]"
          },
          "metadata": {
            "needs_background": "light"
          }
        }
      ]
    },
    {
      "cell_type": "markdown",
      "source": [
        "### Evaluating predictions with regression eval metrics\n",
        "\n",
        "depending on model there are different metrics\n",
        "since this is "
      ],
      "metadata": {
        "id": "KlqVcuarBzvq"
      }
    },
    {
      "cell_type": "code",
      "source": [
        "#eval the model\n",
        "model.evaluate(X_test, y_test)\n",
        "\n",
        "mae = tf.metrics.mean_absolute_error(y_true = y_test, y_pred = tf.squeeze(y_pred))\n",
        "\n",
        "mae"
      ],
      "metadata": {
        "colab": {
          "base_uri": "https://localhost:8080/"
        },
        "id": "JVDpBxEw4h-g",
        "outputId": "d6d06d2e-300e-4e51-c16d-06cae957e1a7"
      },
      "execution_count": 41,
      "outputs": [
        {
          "output_type": "stream",
          "name": "stdout",
          "text": [
            "1/1 [==============================] - 0s 125ms/step - loss: 3.1110 - mae: 3.1110\n"
          ]
        },
        {
          "output_type": "execute_result",
          "data": {
            "text/plain": [
              "<tf.Tensor: shape=(), dtype=float32, numpy=3.1110206>"
            ]
          },
          "metadata": {},
          "execution_count": 41
        }
      ]
    },
    {
      "cell_type": "code",
      "source": [
        "tf.squeeze(y_pred)"
      ],
      "metadata": {
        "colab": {
          "base_uri": "https://localhost:8080/"
        },
        "id": "abne_1kwVIwz",
        "outputId": "93da0965-6c6b-412d-ccce-c361789e0d99"
      },
      "execution_count": 42,
      "outputs": [
        {
          "output_type": "execute_result",
          "data": {
            "text/plain": [
              "<tf.Tensor: shape=(10,), dtype=float32, numpy=\n",
              "array([ 70.48065 ,  75.06518 ,  79.64971 ,  84.23423 ,  88.81876 ,\n",
              "        93.40328 ,  97.98781 , 102.572334, 107.15686 , 111.74139 ],\n",
              "      dtype=float32)>"
            ]
          },
          "metadata": {},
          "execution_count": 42
        }
      ]
    },
    {
      "cell_type": "code",
      "source": [
        "mse = tf.metrics.mean_squared_error(y_true=y_test, y_pred = tf.squeeze(y_pred))\n",
        "\n",
        "mse\n"
      ],
      "metadata": {
        "colab": {
          "base_uri": "https://localhost:8080/"
        },
        "id": "IIq1eEUUVIup",
        "outputId": "ddcf5fdc-e107-42a0-e966-5de9019893f0"
      },
      "execution_count": 43,
      "outputs": [
        {
          "output_type": "execute_result",
          "data": {
            "text/plain": [
              "<tf.Tensor: shape=(), dtype=float32, numpy=12.49723>"
            ]
          },
          "metadata": {},
          "execution_count": 43
        }
      ]
    },
    {
      "cell_type": "code",
      "source": [
        "# make evaluating functions\n",
        "def mae(y_true, y_pred):\n",
        "  return tf.metrics.mean_absolute_error(y_true = y_true, \n",
        "                                        y_pred = tf.squeeze(y_pred))\n",
        "\n",
        "def mse(y_true, y_pred):\n",
        "  return tf.metrics.mean_squared_error(y_true = y_true,\n",
        "                                       y_pred = tf.squeeze(y_pred))"
      ],
      "metadata": {
        "id": "RuEkmMAZVIsR"
      },
      "execution_count": 44,
      "outputs": []
    },
    {
      "cell_type": "markdown",
      "source": [
        "#Running experiments to improve our model\n",
        "# 3 model experiments\n",
        "# model 1 is same as original 1 layer but trained for 100 epochs\n",
        "# model 2 is 2 layers trainined for 100 epoch\n",
        "#model 3 3 layers trained for 500 epochs"
      ],
      "metadata": {
        "id": "75h8aV8FLwhI"
      }
    },
    {
      "cell_type": "code",
      "source": [
        "#build the model\n",
        "tf.random.set_seed(42)\n",
        "model1 = tf.keras.Sequential([\n",
        "    tf.keras.layers.Dense(1)\n",
        "])\n",
        "\n",
        "#Compile the model\n",
        "model1.compile(loss = tf.keras.losses.mae,\n",
        "              optimizer = tf.optimizers.SGD(),\n",
        "              metrics = ['mae'])\n",
        "\n",
        "#fit the model\n",
        "model1.fit(tf.expand_dims(X_train,axis=1), y_train, epochs=100)"
      ],
      "metadata": {
        "colab": {
          "base_uri": "https://localhost:8080/"
        },
        "id": "wCtaG3_Kn2YU",
        "outputId": "ce15958b-bbfc-48c8-aefd-240ac897d1ec"
      },
      "execution_count": 45,
      "outputs": [
        {
          "output_type": "stream",
          "name": "stdout",
          "text": [
            "Epoch 1/100\n",
            "2/2 [==============================] - 0s 7ms/step - loss: 15.9024 - mae: 15.9024\n",
            "Epoch 2/100\n",
            "2/2 [==============================] - 0s 6ms/step - loss: 11.2837 - mae: 11.2837\n",
            "Epoch 3/100\n",
            "2/2 [==============================] - 0s 5ms/step - loss: 11.1074 - mae: 11.1074\n",
            "Epoch 4/100\n",
            "2/2 [==============================] - 0s 6ms/step - loss: 9.2990 - mae: 9.2990\n",
            "Epoch 5/100\n",
            "2/2 [==============================] - 0s 5ms/step - loss: 10.1677 - mae: 10.1677\n",
            "Epoch 6/100\n",
            "2/2 [==============================] - 0s 6ms/step - loss: 9.4303 - mae: 9.4303\n",
            "Epoch 7/100\n",
            "2/2 [==============================] - 0s 5ms/step - loss: 8.5704 - mae: 8.5704\n",
            "Epoch 8/100\n",
            "2/2 [==============================] - 0s 5ms/step - loss: 9.0442 - mae: 9.0442\n",
            "Epoch 9/100\n",
            "2/2 [==============================] - 0s 5ms/step - loss: 18.7517 - mae: 18.7517\n",
            "Epoch 10/100\n",
            "2/2 [==============================] - 0s 6ms/step - loss: 10.1142 - mae: 10.1142\n",
            "Epoch 11/100\n",
            "2/2 [==============================] - 0s 5ms/step - loss: 8.3980 - mae: 8.3980\n",
            "Epoch 12/100\n",
            "2/2 [==============================] - 0s 6ms/step - loss: 10.6639 - mae: 10.6639\n",
            "Epoch 13/100\n",
            "2/2 [==============================] - 0s 5ms/step - loss: 9.7977 - mae: 9.7977\n",
            "Epoch 14/100\n",
            "2/2 [==============================] - 0s 5ms/step - loss: 16.0103 - mae: 16.0103\n",
            "Epoch 15/100\n",
            "2/2 [==============================] - 0s 6ms/step - loss: 11.4068 - mae: 11.4068\n",
            "Epoch 16/100\n",
            "2/2 [==============================] - 0s 5ms/step - loss: 8.5393 - mae: 8.5393\n",
            "Epoch 17/100\n",
            "2/2 [==============================] - 0s 6ms/step - loss: 13.6348 - mae: 13.6348\n",
            "Epoch 18/100\n",
            "2/2 [==============================] - 0s 5ms/step - loss: 11.4629 - mae: 11.4629\n",
            "Epoch 19/100\n",
            "2/2 [==============================] - 0s 5ms/step - loss: 17.9148 - mae: 17.9148\n",
            "Epoch 20/100\n",
            "2/2 [==============================] - 0s 6ms/step - loss: 15.0494 - mae: 15.0494\n",
            "Epoch 21/100\n",
            "2/2 [==============================] - 0s 6ms/step - loss: 11.0216 - mae: 11.0216\n",
            "Epoch 22/100\n",
            "2/2 [==============================] - 0s 5ms/step - loss: 8.1558 - mae: 8.1558\n",
            "Epoch 23/100\n",
            "2/2 [==============================] - 0s 5ms/step - loss: 9.5138 - mae: 9.5138\n",
            "Epoch 24/100\n",
            "2/2 [==============================] - 0s 5ms/step - loss: 7.6617 - mae: 7.6617\n",
            "Epoch 25/100\n",
            "2/2 [==============================] - 0s 7ms/step - loss: 13.1859 - mae: 13.1859\n",
            "Epoch 26/100\n",
            "2/2 [==============================] - 0s 7ms/step - loss: 16.4211 - mae: 16.4211\n",
            "Epoch 27/100\n",
            "2/2 [==============================] - 0s 5ms/step - loss: 13.1659 - mae: 13.1659\n",
            "Epoch 28/100\n",
            "2/2 [==============================] - 0s 5ms/step - loss: 14.2559 - mae: 14.2559\n",
            "Epoch 29/100\n",
            "2/2 [==============================] - 0s 6ms/step - loss: 10.0670 - mae: 10.0670\n",
            "Epoch 30/100\n",
            "2/2 [==============================] - 0s 6ms/step - loss: 16.3409 - mae: 16.3409\n",
            "Epoch 31/100\n",
            "2/2 [==============================] - 0s 5ms/step - loss: 23.6444 - mae: 23.6444\n",
            "Epoch 32/100\n",
            "2/2 [==============================] - 0s 6ms/step - loss: 7.6215 - mae: 7.6215\n",
            "Epoch 33/100\n",
            "2/2 [==============================] - 0s 5ms/step - loss: 9.3221 - mae: 9.3221\n",
            "Epoch 34/100\n",
            "2/2 [==============================] - 0s 5ms/step - loss: 13.7313 - mae: 13.7313\n",
            "Epoch 35/100\n",
            "2/2 [==============================] - 0s 6ms/step - loss: 11.1276 - mae: 11.1276\n",
            "Epoch 36/100\n",
            "2/2 [==============================] - 0s 6ms/step - loss: 13.3222 - mae: 13.3222\n",
            "Epoch 37/100\n",
            "2/2 [==============================] - 0s 6ms/step - loss: 9.4763 - mae: 9.4763\n",
            "Epoch 38/100\n",
            "2/2 [==============================] - 0s 6ms/step - loss: 10.1381 - mae: 10.1381\n",
            "Epoch 39/100\n",
            "2/2 [==============================] - 0s 6ms/step - loss: 10.1793 - mae: 10.1793\n",
            "Epoch 40/100\n",
            "2/2 [==============================] - 0s 5ms/step - loss: 10.9137 - mae: 10.9137\n",
            "Epoch 41/100\n",
            "2/2 [==============================] - 0s 5ms/step - loss: 7.9063 - mae: 7.9063\n",
            "Epoch 42/100\n",
            "2/2 [==============================] - 0s 6ms/step - loss: 10.0914 - mae: 10.0914\n",
            "Epoch 43/100\n",
            "2/2 [==============================] - 0s 6ms/step - loss: 8.7006 - mae: 8.7006\n",
            "Epoch 44/100\n",
            "2/2 [==============================] - 0s 6ms/step - loss: 12.2047 - mae: 12.2047\n",
            "Epoch 45/100\n",
            "2/2 [==============================] - 0s 6ms/step - loss: 13.7970 - mae: 13.7970\n",
            "Epoch 46/100\n",
            "2/2 [==============================] - 0s 6ms/step - loss: 8.4687 - mae: 8.4687\n",
            "Epoch 47/100\n",
            "2/2 [==============================] - 0s 6ms/step - loss: 9.1330 - mae: 9.1330\n",
            "Epoch 48/100\n",
            "2/2 [==============================] - 0s 6ms/step - loss: 10.6190 - mae: 10.6190\n",
            "Epoch 49/100\n",
            "2/2 [==============================] - 0s 6ms/step - loss: 7.7503 - mae: 7.7503\n",
            "Epoch 50/100\n",
            "2/2 [==============================] - 0s 6ms/step - loss: 9.5407 - mae: 9.5407\n",
            "Epoch 51/100\n",
            "2/2 [==============================] - 0s 6ms/step - loss: 9.1584 - mae: 9.1584\n",
            "Epoch 52/100\n",
            "2/2 [==============================] - 0s 6ms/step - loss: 16.3630 - mae: 16.3630\n",
            "Epoch 53/100\n",
            "2/2 [==============================] - 0s 6ms/step - loss: 14.1299 - mae: 14.1299\n",
            "Epoch 54/100\n",
            "2/2 [==============================] - 0s 6ms/step - loss: 21.1247 - mae: 21.1247\n",
            "Epoch 55/100\n",
            "2/2 [==============================] - 0s 6ms/step - loss: 16.3961 - mae: 16.3961\n",
            "Epoch 56/100\n",
            "2/2 [==============================] - 0s 5ms/step - loss: 9.9806 - mae: 9.9806\n",
            "Epoch 57/100\n",
            "2/2 [==============================] - 0s 6ms/step - loss: 9.9606 - mae: 9.9606\n",
            "Epoch 58/100\n",
            "2/2 [==============================] - 0s 6ms/step - loss: 9.2209 - mae: 9.2209\n",
            "Epoch 59/100\n",
            "2/2 [==============================] - 0s 6ms/step - loss: 8.4239 - mae: 8.4239\n",
            "Epoch 60/100\n",
            "2/2 [==============================] - 0s 4ms/step - loss: 9.4869 - mae: 9.4869\n",
            "Epoch 61/100\n",
            "2/2 [==============================] - 0s 6ms/step - loss: 11.4355 - mae: 11.4355\n",
            "Epoch 62/100\n",
            "2/2 [==============================] - 0s 8ms/step - loss: 11.6887 - mae: 11.6887\n",
            "Epoch 63/100\n",
            "2/2 [==============================] - 0s 6ms/step - loss: 7.0838 - mae: 7.0838\n",
            "Epoch 64/100\n",
            "2/2 [==============================] - 0s 6ms/step - loss: 16.9675 - mae: 16.9675\n",
            "Epoch 65/100\n",
            "2/2 [==============================] - 0s 5ms/step - loss: 12.4599 - mae: 12.4599\n",
            "Epoch 66/100\n",
            "2/2 [==============================] - 0s 6ms/step - loss: 13.0184 - mae: 13.0184\n",
            "Epoch 67/100\n",
            "2/2 [==============================] - 0s 6ms/step - loss: 8.0600 - mae: 8.0600\n",
            "Epoch 68/100\n",
            "2/2 [==============================] - 0s 6ms/step - loss: 10.1888 - mae: 10.1888\n",
            "Epoch 69/100\n",
            "2/2 [==============================] - 0s 6ms/step - loss: 12.3633 - mae: 12.3633\n",
            "Epoch 70/100\n",
            "2/2 [==============================] - 0s 5ms/step - loss: 9.0516 - mae: 9.0516\n",
            "Epoch 71/100\n",
            "2/2 [==============================] - 0s 6ms/step - loss: 10.0378 - mae: 10.0378\n",
            "Epoch 72/100\n",
            "2/2 [==============================] - 0s 6ms/step - loss: 10.0516 - mae: 10.0516\n",
            "Epoch 73/100\n",
            "2/2 [==============================] - 0s 6ms/step - loss: 12.6151 - mae: 12.6151\n",
            "Epoch 74/100\n",
            "2/2 [==============================] - 0s 6ms/step - loss: 10.3819 - mae: 10.3819\n",
            "Epoch 75/100\n",
            "2/2 [==============================] - 0s 5ms/step - loss: 9.7229 - mae: 9.7229\n",
            "Epoch 76/100\n",
            "2/2 [==============================] - 0s 6ms/step - loss: 11.2252 - mae: 11.2252\n",
            "Epoch 77/100\n",
            "2/2 [==============================] - 0s 6ms/step - loss: 8.3642 - mae: 8.3642\n",
            "Epoch 78/100\n",
            "2/2 [==============================] - 0s 5ms/step - loss: 9.1274 - mae: 9.1274\n",
            "Epoch 79/100\n",
            "2/2 [==============================] - 0s 6ms/step - loss: 19.5039 - mae: 19.5039\n",
            "Epoch 80/100\n",
            "2/2 [==============================] - 0s 7ms/step - loss: 14.8945 - mae: 14.8945\n",
            "Epoch 81/100\n",
            "2/2 [==============================] - 0s 5ms/step - loss: 9.0034 - mae: 9.0034\n",
            "Epoch 82/100\n",
            "2/2 [==============================] - 0s 6ms/step - loss: 13.0206 - mae: 13.0206\n",
            "Epoch 83/100\n",
            "2/2 [==============================] - 0s 5ms/step - loss: 7.9299 - mae: 7.9299\n",
            "Epoch 84/100\n",
            "2/2 [==============================] - 0s 5ms/step - loss: 7.6872 - mae: 7.6872\n",
            "Epoch 85/100\n",
            "2/2 [==============================] - 0s 6ms/step - loss: 10.0328 - mae: 10.0328\n",
            "Epoch 86/100\n",
            "2/2 [==============================] - 0s 6ms/step - loss: 9.2433 - mae: 9.2433\n",
            "Epoch 87/100\n",
            "2/2 [==============================] - 0s 6ms/step - loss: 12.0209 - mae: 12.0209\n",
            "Epoch 88/100\n",
            "2/2 [==============================] - 0s 6ms/step - loss: 10.6389 - mae: 10.6389\n",
            "Epoch 89/100\n",
            "2/2 [==============================] - 0s 6ms/step - loss: 7.2667 - mae: 7.2667\n",
            "Epoch 90/100\n",
            "2/2 [==============================] - 0s 6ms/step - loss: 12.7786 - mae: 12.7786\n",
            "Epoch 91/100\n",
            "2/2 [==============================] - 0s 6ms/step - loss: 7.3481 - mae: 7.3481\n",
            "Epoch 92/100\n",
            "2/2 [==============================] - 0s 7ms/step - loss: 7.7175 - mae: 7.7175\n",
            "Epoch 93/100\n",
            "2/2 [==============================] - 0s 5ms/step - loss: 7.1263 - mae: 7.1263\n",
            "Epoch 94/100\n",
            "2/2 [==============================] - 0s 6ms/step - loss: 12.6190 - mae: 12.6190\n",
            "Epoch 95/100\n",
            "2/2 [==============================] - 0s 6ms/step - loss: 10.0912 - mae: 10.0912\n",
            "Epoch 96/100\n",
            "2/2 [==============================] - 0s 6ms/step - loss: 9.3558 - mae: 9.3558\n",
            "Epoch 97/100\n",
            "2/2 [==============================] - 0s 6ms/step - loss: 12.6834 - mae: 12.6834\n",
            "Epoch 98/100\n",
            "2/2 [==============================] - 0s 6ms/step - loss: 8.6762 - mae: 8.6762\n",
            "Epoch 99/100\n",
            "2/2 [==============================] - 0s 6ms/step - loss: 9.4693 - mae: 9.4693\n",
            "Epoch 100/100\n",
            "2/2 [==============================] - 0s 6ms/step - loss: 8.7067 - mae: 8.7067\n"
          ]
        },
        {
          "output_type": "execute_result",
          "data": {
            "text/plain": [
              "<keras.callbacks.History at 0x7fb0f5efb910>"
            ]
          },
          "metadata": {},
          "execution_count": 45
        }
      ]
    },
    {
      "cell_type": "code",
      "source": [
        "#make and plot predicitons for model 1\n",
        "y_preds_1 = model1.predict(X_test)\n",
        "plot_pred(predictions=y_preds_1)"
      ],
      "metadata": {
        "colab": {
          "base_uri": "https://localhost:8080/",
          "height": 484
        },
        "id": "Sil13ibZzWjp",
        "outputId": "613c67b2-a30a-40ff-a3af-29e3f19eb4df"
      },
      "execution_count": 46,
      "outputs": [
        {
          "output_type": "stream",
          "name": "stderr",
          "text": [
            "WARNING:tensorflow:5 out of the last 5 calls to <function Model.make_predict_function.<locals>.predict_function at 0x7fb0f66c7b90> triggered tf.function retracing. Tracing is expensive and the excessive number of tracings could be due to (1) creating @tf.function repeatedly in a loop, (2) passing tensors with different shapes, (3) passing Python objects instead of tensors. For (1), please define your @tf.function outside of the loop. For (2), @tf.function has reduce_retracing=True option that can avoid unnecessary retracing. For (3), please refer to https://www.tensorflow.org/guide/function#controlling_retracing and https://www.tensorflow.org/api_docs/python/tf/function for  more details.\n"
          ]
        },
        {
          "output_type": "stream",
          "name": "stdout",
          "text": [
            "1/1 [==============================] - 0s 37ms/step\n"
          ]
        },
        {
          "output_type": "display_data",
          "data": {
            "text/plain": [
              "<Figure size 720x504 with 1 Axes>"
            ],
            "image/png": "[encoded data removed]"
          },
          "metadata": {
            "needs_background": "light"
          }
        }
      ]
    },
    {
      "cell_type": "code",
      "source": [
        "#create model1 eval\n",
        "mae1 = mae(y_test, tf.squeeze(y_preds_1))\n",
        "mse1 = mse(y_test, tf.squeeze(y_preds_1))\n",
        "\n",
        "mse1, mae1"
      ],
      "metadata": {
        "colab": {
          "base_uri": "https://localhost:8080/"
        },
        "id": "GSey7SULz6po",
        "outputId": "6ac7636b-0c3c-4ff4-cb50-bbe9de7ab4c6"
      },
      "execution_count": 47,
      "outputs": [
        {
          "output_type": "execute_result",
          "data": {
            "text/plain": [
              "(<tf.Tensor: shape=(), dtype=float32, numpy=353.5734>,\n",
              " <tf.Tensor: shape=(), dtype=float32, numpy=18.745327>)"
            ]
          },
          "metadata": {},
          "execution_count": 47
        }
      ]
    },
    {
      "cell_type": "code",
      "source": [],
      "metadata": {
        "id": "tDcZGAl7z6mb"
      },
      "execution_count": 47,
      "outputs": []
    },
    {
      "cell_type": "code",
      "source": [
        "#build second model\n",
        "model2 = tf.keras.Sequential([\n",
        "    tf.keras.layers.Dense(100),\n",
        "    tf.keras.layers.Dense(1)\n",
        "])\n",
        "\n",
        "#Compile\n",
        "model2.compile(loss = tf.keras.losses.mae,\n",
        "              optimizer = tf.optimizers.SGD(),\n",
        "              metrics = ['mae'])\n",
        "\n",
        "\n",
        "#Fit\n",
        "model2.fit(tf.expand_dims(X_train, axis=1), y_train, epochs=100)"
      ],
      "metadata": {
        "colab": {
          "base_uri": "https://localhost:8080/"
        },
        "id": "H6cOL6k3t7Mn",
        "outputId": "34ad2e03-011c-460e-8568-7ad4c90db814"
      },
      "execution_count": 48,
      "outputs": [
        {
          "output_type": "stream",
          "name": "stdout",
          "text": [
            "Epoch 1/100\n",
            "2/2 [==============================] - 0s 7ms/step - loss: 48.4329 - mae: 48.4329\n",
            "Epoch 2/100\n",
            "2/2 [==============================] - 0s 6ms/step - loss: 31.3826 - mae: 31.3826\n",
            "Epoch 3/100\n",
            "2/2 [==============================] - 0s 5ms/step - loss: 36.2157 - mae: 36.2157\n",
            "Epoch 4/100\n",
            "2/2 [==============================] - 0s 5ms/step - loss: 28.3086 - mae: 28.3086\n",
            "Epoch 5/100\n",
            "2/2 [==============================] - 0s 6ms/step - loss: 15.3864 - mae: 15.3864\n",
            "Epoch 6/100\n",
            "2/2 [==============================] - 0s 5ms/step - loss: 12.2199 - mae: 12.2199\n",
            "Epoch 7/100\n",
            "2/2 [==============================] - 0s 5ms/step - loss: 11.5217 - mae: 11.5217\n",
            "Epoch 8/100\n",
            "2/2 [==============================] - 0s 6ms/step - loss: 11.2331 - mae: 11.2331\n",
            "Epoch 9/100\n",
            "2/2 [==============================] - 0s 6ms/step - loss: 42.0800 - mae: 42.0800\n",
            "Epoch 10/100\n",
            "2/2 [==============================] - 0s 6ms/step - loss: 29.2675 - mae: 29.2675\n",
            "Epoch 11/100\n",
            "2/2 [==============================] - 0s 6ms/step - loss: 7.6858 - mae: 7.6858\n",
            "Epoch 12/100\n",
            "2/2 [==============================] - 0s 5ms/step - loss: 28.6175 - mae: 28.6175\n",
            "Epoch 13/100\n",
            "2/2 [==============================] - 0s 6ms/step - loss: 11.4798 - mae: 11.4798\n",
            "Epoch 14/100\n",
            "2/2 [==============================] - 0s 5ms/step - loss: 30.0701 - mae: 30.0701\n",
            "Epoch 15/100\n",
            "2/2 [==============================] - 0s 8ms/step - loss: 19.8766 - mae: 19.8766\n",
            "Epoch 16/100\n",
            "2/2 [==============================] - 0s 6ms/step - loss: 9.8824 - mae: 9.8824\n",
            "Epoch 17/100\n",
            "2/2 [==============================] - 0s 5ms/step - loss: 17.7578 - mae: 17.7578\n",
            "Epoch 18/100\n",
            "2/2 [==============================] - 0s 6ms/step - loss: 14.2335 - mae: 14.2335\n",
            "Epoch 19/100\n",
            "2/2 [==============================] - 0s 6ms/step - loss: 14.0768 - mae: 14.0768\n",
            "Epoch 20/100\n",
            "2/2 [==============================] - 0s 6ms/step - loss: 11.2609 - mae: 11.2609\n",
            "Epoch 21/100\n",
            "2/2 [==============================] - 0s 7ms/step - loss: 17.4079 - mae: 17.4079\n",
            "Epoch 22/100\n",
            "2/2 [==============================] - 0s 6ms/step - loss: 15.9320 - mae: 15.9320\n",
            "Epoch 23/100\n",
            "2/2 [==============================] - 0s 7ms/step - loss: 9.8475 - mae: 9.8475\n",
            "Epoch 24/100\n",
            "2/2 [==============================] - 0s 6ms/step - loss: 16.4471 - mae: 16.4471\n",
            "Epoch 25/100\n",
            "2/2 [==============================] - 0s 6ms/step - loss: 15.3786 - mae: 15.3786\n",
            "Epoch 26/100\n",
            "2/2 [==============================] - 0s 5ms/step - loss: 20.6014 - mae: 20.6014\n",
            "Epoch 27/100\n",
            "2/2 [==============================] - 0s 5ms/step - loss: 26.2924 - mae: 26.2924\n",
            "Epoch 28/100\n",
            "2/2 [==============================] - 0s 5ms/step - loss: 18.7467 - mae: 18.7467\n",
            "Epoch 29/100\n",
            "2/2 [==============================] - 0s 5ms/step - loss: 9.2507 - mae: 9.2507\n",
            "Epoch 30/100\n",
            "2/2 [==============================] - 0s 6ms/step - loss: 29.3830 - mae: 29.3830\n",
            "Epoch 31/100\n",
            "2/2 [==============================] - 0s 6ms/step - loss: 53.2515 - mae: 53.2515\n",
            "Epoch 32/100\n",
            "2/2 [==============================] - 0s 6ms/step - loss: 9.4664 - mae: 9.4664\n",
            "Epoch 33/100\n",
            "2/2 [==============================] - 0s 6ms/step - loss: 12.0405 - mae: 12.0405\n",
            "Epoch 34/100\n",
            "2/2 [==============================] - 0s 6ms/step - loss: 23.2453 - mae: 23.2453\n",
            "Epoch 35/100\n",
            "2/2 [==============================] - 0s 6ms/step - loss: 11.8478 - mae: 11.8478\n",
            "Epoch 36/100\n",
            "2/2 [==============================] - 0s 7ms/step - loss: 21.8293 - mae: 21.8293\n",
            "Epoch 37/100\n",
            "2/2 [==============================] - 0s 6ms/step - loss: 11.1256 - mae: 11.1256\n",
            "Epoch 38/100\n",
            "2/2 [==============================] - 0s 6ms/step - loss: 12.7162 - mae: 12.7162\n",
            "Epoch 39/100\n",
            "2/2 [==============================] - 0s 5ms/step - loss: 11.5918 - mae: 11.5918\n",
            "Epoch 40/100\n",
            "2/2 [==============================] - 0s 5ms/step - loss: 19.2197 - mae: 19.2197\n",
            "Epoch 41/100\n",
            "2/2 [==============================] - 0s 5ms/step - loss: 10.9543 - mae: 10.9543\n",
            "Epoch 42/100\n",
            "2/2 [==============================] - 0s 7ms/step - loss: 9.2866 - mae: 9.2866\n",
            "Epoch 43/100\n",
            "2/2 [==============================] - 0s 6ms/step - loss: 9.5921 - mae: 9.5921\n",
            "Epoch 44/100\n",
            "2/2 [==============================] - 0s 5ms/step - loss: 27.9106 - mae: 27.9106\n",
            "Epoch 45/100\n",
            "2/2 [==============================] - 0s 5ms/step - loss: 11.2681 - mae: 11.2681\n",
            "Epoch 46/100\n",
            "2/2 [==============================] - 0s 6ms/step - loss: 13.8594 - mae: 13.8594\n",
            "Epoch 47/100\n",
            "2/2 [==============================] - 0s 6ms/step - loss: 11.9248 - mae: 11.9248\n",
            "Epoch 48/100\n",
            "2/2 [==============================] - 0s 5ms/step - loss: 16.9602 - mae: 16.9602\n",
            "Epoch 49/100\n",
            "2/2 [==============================] - 0s 6ms/step - loss: 9.7767 - mae: 9.7767\n",
            "Epoch 50/100\n",
            "2/2 [==============================] - 0s 6ms/step - loss: 14.1668 - mae: 14.1668\n",
            "Epoch 51/100\n",
            "2/2 [==============================] - 0s 6ms/step - loss: 11.7390 - mae: 11.7390\n",
            "Epoch 52/100\n",
            "2/2 [==============================] - 0s 7ms/step - loss: 31.3661 - mae: 31.3661\n",
            "Epoch 53/100\n",
            "2/2 [==============================] - 0s 5ms/step - loss: 14.7180 - mae: 14.7180\n",
            "Epoch 54/100\n",
            "2/2 [==============================] - 0s 6ms/step - loss: 24.5992 - mae: 24.5992\n",
            "Epoch 55/100\n",
            "2/2 [==============================] - 0s 6ms/step - loss: 23.8819 - mae: 23.8819\n",
            "Epoch 56/100\n",
            "2/2 [==============================] - 0s 7ms/step - loss: 11.1205 - mae: 11.1205\n",
            "Epoch 57/100\n",
            "2/2 [==============================] - 0s 8ms/step - loss: 13.0567 - mae: 13.0567\n",
            "Epoch 58/100\n",
            "2/2 [==============================] - 0s 6ms/step - loss: 9.7800 - mae: 9.7800\n",
            "Epoch 59/100\n",
            "2/2 [==============================] - 0s 6ms/step - loss: 13.2316 - mae: 13.2316\n",
            "Epoch 60/100\n",
            "2/2 [==============================] - 0s 6ms/step - loss: 10.8314 - mae: 10.8314\n",
            "Epoch 61/100\n",
            "2/2 [==============================] - 0s 7ms/step - loss: 13.4090 - mae: 13.4090\n",
            "Epoch 62/100\n",
            "2/2 [==============================] - 0s 7ms/step - loss: 17.3656 - mae: 17.3656\n",
            "Epoch 63/100\n",
            "2/2 [==============================] - 0s 6ms/step - loss: 9.1368 - mae: 9.1368\n",
            "Epoch 64/100\n",
            "2/2 [==============================] - 0s 6ms/step - loss: 17.9854 - mae: 17.9854\n",
            "Epoch 65/100\n",
            "2/2 [==============================] - 0s 6ms/step - loss: 10.6230 - mae: 10.6230\n",
            "Epoch 66/100\n",
            "2/2 [==============================] - 0s 6ms/step - loss: 21.5091 - mae: 21.5091\n",
            "Epoch 67/100\n",
            "2/2 [==============================] - 0s 6ms/step - loss: 10.6357 - mae: 10.6357\n",
            "Epoch 68/100\n",
            "2/2 [==============================] - 0s 7ms/step - loss: 14.8852 - mae: 14.8852\n",
            "Epoch 69/100\n",
            "2/2 [==============================] - 0s 10ms/step - loss: 10.7829 - mae: 10.7829\n",
            "Epoch 70/100\n",
            "2/2 [==============================] - 0s 6ms/step - loss: 12.8857 - mae: 12.8857\n",
            "Epoch 71/100\n",
            "2/2 [==============================] - 0s 6ms/step - loss: 13.3057 - mae: 13.3057\n",
            "Epoch 72/100\n",
            "2/2 [==============================] - 0s 6ms/step - loss: 20.1720 - mae: 20.1720\n",
            "Epoch 73/100\n",
            "2/2 [==============================] - 0s 7ms/step - loss: 9.7394 - mae: 9.7394\n",
            "Epoch 74/100\n",
            "2/2 [==============================] - 0s 6ms/step - loss: 27.4854 - mae: 27.4854\n",
            "Epoch 75/100\n",
            "2/2 [==============================] - 0s 6ms/step - loss: 10.0305 - mae: 10.0305\n",
            "Epoch 76/100\n",
            "2/2 [==============================] - 0s 6ms/step - loss: 12.9516 - mae: 12.9516\n",
            "Epoch 77/100\n",
            "2/2 [==============================] - 0s 6ms/step - loss: 17.9637 - mae: 17.9637\n",
            "Epoch 78/100\n",
            "2/2 [==============================] - 0s 6ms/step - loss: 8.9648 - mae: 8.9648\n",
            "Epoch 79/100\n",
            "2/2 [==============================] - 0s 5ms/step - loss: 28.8171 - mae: 28.8171\n",
            "Epoch 80/100\n",
            "2/2 [==============================] - 0s 5ms/step - loss: 31.1710 - mae: 31.1710\n",
            "Epoch 81/100\n",
            "2/2 [==============================] - 0s 6ms/step - loss: 13.5861 - mae: 13.5861\n",
            "Epoch 82/100\n",
            "2/2 [==============================] - 0s 6ms/step - loss: 15.8610 - mae: 15.8610\n",
            "Epoch 83/100\n",
            "2/2 [==============================] - 0s 7ms/step - loss: 9.1379 - mae: 9.1379\n",
            "Epoch 84/100\n",
            "2/2 [==============================] - 0s 7ms/step - loss: 8.2037 - mae: 8.2037\n",
            "Epoch 85/100\n",
            "2/2 [==============================] - 0s 7ms/step - loss: 18.8729 - mae: 18.8729\n",
            "Epoch 86/100\n",
            "2/2 [==============================] - 0s 6ms/step - loss: 21.9827 - mae: 21.9827\n",
            "Epoch 87/100\n",
            "2/2 [==============================] - 0s 7ms/step - loss: 11.2153 - mae: 11.2153\n",
            "Epoch 88/100\n",
            "2/2 [==============================] - 0s 6ms/step - loss: 25.9418 - mae: 25.9418\n",
            "Epoch 89/100\n",
            "2/2 [==============================] - 0s 6ms/step - loss: 9.5223 - mae: 9.5223\n",
            "Epoch 90/100\n",
            "2/2 [==============================] - 0s 6ms/step - loss: 18.2501 - mae: 18.2501\n",
            "Epoch 91/100\n",
            "2/2 [==============================] - 0s 6ms/step - loss: 10.3258 - mae: 10.3258\n",
            "Epoch 92/100\n",
            "2/2 [==============================] - 0s 7ms/step - loss: 17.5002 - mae: 17.5002\n",
            "Epoch 93/100\n",
            "2/2 [==============================] - 0s 6ms/step - loss: 6.8259 - mae: 6.8259\n",
            "Epoch 94/100\n",
            "2/2 [==============================] - 0s 6ms/step - loss: 17.6564 - mae: 17.6564\n",
            "Epoch 95/100\n",
            "2/2 [==============================] - 0s 6ms/step - loss: 17.3717 - mae: 17.3717\n",
            "Epoch 96/100\n",
            "2/2 [==============================] - 0s 6ms/step - loss: 11.5391 - mae: 11.5391\n",
            "Epoch 97/100\n",
            "2/2 [==============================] - 0s 6ms/step - loss: 18.3117 - mae: 18.3117\n",
            "Epoch 98/100\n",
            "2/2 [==============================] - 0s 7ms/step - loss: 9.7555 - mae: 9.7555\n",
            "Epoch 99/100\n",
            "2/2 [==============================] - 0s 5ms/step - loss: 16.9429 - mae: 16.9429\n",
            "Epoch 100/100\n",
            "2/2 [==============================] - 0s 7ms/step - loss: 17.8149 - mae: 17.8149\n"
          ]
        },
        {
          "output_type": "execute_result",
          "data": {
            "text/plain": [
              "<keras.callbacks.History at 0x7fb0f65dac50>"
            ]
          },
          "metadata": {},
          "execution_count": 48
        }
      ]
    },
    {
      "cell_type": "code",
      "source": [
        "y_preds_2 = model2.predict(X_test)\n",
        "plot_pred(predictions=y_preds_2)"
      ],
      "metadata": {
        "colab": {
          "base_uri": "https://localhost:8080/",
          "height": 484
        },
        "id": "EVvF8jVu0yex",
        "outputId": "a4f68eb3-9db8-4487-9bba-a71f76d27c8e"
      },
      "execution_count": 49,
      "outputs": [
        {
          "output_type": "stream",
          "name": "stderr",
          "text": [
            "WARNING:tensorflow:6 out of the last 6 calls to <function Model.make_predict_function.<locals>.predict_function at 0x7fb0f653c290> triggered tf.function retracing. Tracing is expensive and the excessive number of tracings could be due to (1) creating @tf.function repeatedly in a loop, (2) passing tensors with different shapes, (3) passing Python objects instead of tensors. For (1), please define your @tf.function outside of the loop. For (2), @tf.function has reduce_retracing=True option that can avoid unnecessary retracing. For (3), please refer to https://www.tensorflow.org/guide/function#controlling_retracing and https://www.tensorflow.org/api_docs/python/tf/function for  more details.\n"
          ]
        },
        {
          "output_type": "stream",
          "name": "stdout",
          "text": [
            "1/1 [==============================] - 0s 38ms/step\n"
          ]
        },
        {
          "output_type": "display_data",
          "data": {
            "text/plain": [
              "<Figure size 720x504 with 1 Axes>"
            ],
            "image/png": "[encoded data removed]"
          },
          "metadata": {
            "needs_background": "light"
          }
        }
      ]
    },
    {
      "cell_type": "code",
      "source": [
        "mae2 = mae(y_test, y_preds_2)\n",
        "mse2 = mse(y_test, y_preds_2)\n",
        "mse2, mae1"
      ],
      "metadata": {
        "colab": {
          "base_uri": "https://localhost:8080/"
        },
        "id": "nDNGh23A1Les",
        "outputId": "a82f5f95-ac83-4a53-decb-217df262dd42"
      },
      "execution_count": 50,
      "outputs": [
        {
          "output_type": "execute_result",
          "data": {
            "text/plain": [
              "(<tf.Tensor: shape=(), dtype=float32, numpy=1882.5059>,\n",
              " <tf.Tensor: shape=(), dtype=float32, numpy=18.745327>)"
            ]
          },
          "metadata": {},
          "execution_count": 50
        }
      ]
    },
    {
      "cell_type": "code",
      "source": [
        "#Build 3 model\n",
        "model3 = tf.keras.Sequential([\n",
        "    tf.keras.layers.Dense(100),\n",
        "    tf.keras.layers.Dense(100),\n",
        "    tf.keras.layers.Dense(1)\n",
        "])\n",
        "\n",
        "#Compile\n",
        "model3.compile(loss = tf.keras.losses.mae,\n",
        "               optimizer=tf.keras.optimizers.SGD(),\n",
        "               metrics=['mae'])\n",
        "\n",
        "#fit\n",
        "model3.fit(tf.expand_dims(X_train, axis=1), y_train, epochs=100)"
      ],
      "metadata": {
        "colab": {
          "base_uri": "https://localhost:8080/"
        },
        "id": "Sc6B5gwet7Kj",
        "outputId": "84efecfd-8dc6-4830-e655-879437952484"
      },
      "execution_count": 51,
      "outputs": [
        {
          "output_type": "stream",
          "name": "stdout",
          "text": [
            "Epoch 1/100\n",
            "2/2 [==============================] - 0s 9ms/step - loss: 46.5120 - mae: 46.5120\n",
            "Epoch 2/100\n",
            "2/2 [==============================] - 0s 5ms/step - loss: 33.1646 - mae: 33.1646\n",
            "Epoch 3/100\n",
            "2/2 [==============================] - 0s 6ms/step - loss: 15.6498 - mae: 15.6498\n",
            "Epoch 4/100\n",
            "2/2 [==============================] - 0s 6ms/step - loss: 15.7482 - mae: 15.7482\n",
            "Epoch 5/100\n",
            "2/2 [==============================] - 0s 5ms/step - loss: 13.2333 - mae: 13.2333\n",
            "Epoch 6/100\n",
            "2/2 [==============================] - 0s 5ms/step - loss: 16.0469 - mae: 16.0469\n",
            "Epoch 7/100\n",
            "2/2 [==============================] - 0s 7ms/step - loss: 22.8615 - mae: 22.8615\n",
            "Epoch 8/100\n",
            "2/2 [==============================] - 0s 6ms/step - loss: 7.5581 - mae: 7.5581\n",
            "Epoch 9/100\n",
            "2/2 [==============================] - 0s 5ms/step - loss: 35.1631 - mae: 35.1631\n",
            "Epoch 10/100\n",
            "2/2 [==============================] - 0s 10ms/step - loss: 19.4611 - mae: 19.4611\n",
            "Epoch 11/100\n",
            "2/2 [==============================] - 0s 5ms/step - loss: 11.4601 - mae: 11.4601\n",
            "Epoch 12/100\n",
            "2/2 [==============================] - 0s 5ms/step - loss: 38.0589 - mae: 38.0589\n",
            "Epoch 13/100\n",
            "2/2 [==============================] - 0s 12ms/step - loss: 17.3231 - mae: 17.3231\n",
            "Epoch 14/100\n",
            "2/2 [==============================] - 0s 5ms/step - loss: 27.7889 - mae: 27.7889\n",
            "Epoch 15/100\n",
            "2/2 [==============================] - 0s 5ms/step - loss: 19.5500 - mae: 19.5500\n",
            "Epoch 16/100\n",
            "2/2 [==============================] - 0s 5ms/step - loss: 19.4306 - mae: 19.4306\n",
            "Epoch 17/100\n",
            "2/2 [==============================] - 0s 5ms/step - loss: 20.6537 - mae: 20.6537\n",
            "Epoch 18/100\n",
            "2/2 [==============================] - 0s 6ms/step - loss: 30.6753 - mae: 30.6753\n",
            "Epoch 19/100\n",
            "2/2 [==============================] - 0s 6ms/step - loss: 21.0171 - mae: 21.0171\n",
            "Epoch 20/100\n",
            "2/2 [==============================] - 0s 5ms/step - loss: 27.7076 - mae: 27.7076\n",
            "Epoch 21/100\n",
            "2/2 [==============================] - 0s 5ms/step - loss: 20.1263 - mae: 20.1263\n",
            "Epoch 22/100\n",
            "2/2 [==============================] - 0s 5ms/step - loss: 15.2224 - mae: 15.2224\n",
            "Epoch 23/100\n",
            "2/2 [==============================] - 0s 6ms/step - loss: 21.4931 - mae: 21.4931\n",
            "Epoch 24/100\n",
            "2/2 [==============================] - 0s 7ms/step - loss: 24.9404 - mae: 24.9404\n",
            "Epoch 25/100\n",
            "2/2 [==============================] - 0s 6ms/step - loss: 29.4072 - mae: 29.4072\n",
            "Epoch 26/100\n",
            "2/2 [==============================] - 0s 5ms/step - loss: 17.2027 - mae: 17.2027\n",
            "Epoch 27/100\n",
            "2/2 [==============================] - 0s 5ms/step - loss: 31.8120 - mae: 31.8120\n",
            "Epoch 28/100\n",
            "2/2 [==============================] - 0s 6ms/step - loss: 13.3019 - mae: 13.3019\n",
            "Epoch 29/100\n",
            "2/2 [==============================] - 0s 6ms/step - loss: 25.9897 - mae: 25.9897\n",
            "Epoch 30/100\n",
            "2/2 [==============================] - 0s 5ms/step - loss: 33.6106 - mae: 33.6106\n",
            "Epoch 31/100\n",
            "2/2 [==============================] - 0s 6ms/step - loss: 14.8565 - mae: 14.8565\n",
            "Epoch 32/100\n",
            "2/2 [==============================] - 0s 6ms/step - loss: 13.3450 - mae: 13.3450\n",
            "Epoch 33/100\n",
            "2/2 [==============================] - 0s 8ms/step - loss: 30.6100 - mae: 30.6100\n",
            "Epoch 34/100\n",
            "2/2 [==============================] - 0s 6ms/step - loss: 9.4843 - mae: 9.4843\n",
            "Epoch 35/100\n",
            "2/2 [==============================] - 0s 5ms/step - loss: 17.4328 - mae: 17.4328\n",
            "Epoch 36/100\n",
            "2/2 [==============================] - 0s 13ms/step - loss: 32.7937 - mae: 32.7937\n",
            "Epoch 37/100\n",
            "2/2 [==============================] - 0s 5ms/step - loss: 17.2005 - mae: 17.2005\n",
            "Epoch 38/100\n",
            "2/2 [==============================] - 0s 5ms/step - loss: 27.6054 - mae: 27.6054\n",
            "Epoch 39/100\n",
            "2/2 [==============================] - 0s 6ms/step - loss: 12.0566 - mae: 12.0566\n",
            "Epoch 40/100\n",
            "2/2 [==============================] - 0s 6ms/step - loss: 21.3525 - mae: 21.3525\n",
            "Epoch 41/100\n",
            "2/2 [==============================] - 0s 5ms/step - loss: 18.6305 - mae: 18.6305\n",
            "Epoch 42/100\n",
            "2/2 [==============================] - 0s 5ms/step - loss: 13.1632 - mae: 13.1632\n",
            "Epoch 43/100\n",
            "2/2 [==============================] - 0s 6ms/step - loss: 10.9004 - mae: 10.9004\n",
            "Epoch 44/100\n",
            "2/2 [==============================] - 0s 6ms/step - loss: 38.7429 - mae: 38.7429\n",
            "Epoch 45/100\n",
            "2/2 [==============================] - 0s 6ms/step - loss: 20.9698 - mae: 20.9698\n",
            "Epoch 46/100\n",
            "2/2 [==============================] - 0s 6ms/step - loss: 20.3098 - mae: 20.3098\n",
            "Epoch 47/100\n",
            "2/2 [==============================] - 0s 6ms/step - loss: 12.6442 - mae: 12.6442\n",
            "Epoch 48/100\n",
            "2/2 [==============================] - 0s 6ms/step - loss: 25.8000 - mae: 25.8000\n",
            "Epoch 49/100\n",
            "2/2 [==============================] - 0s 6ms/step - loss: 12.3305 - mae: 12.3305\n",
            "Epoch 50/100\n",
            "2/2 [==============================] - 0s 5ms/step - loss: 16.0879 - mae: 16.0879\n",
            "Epoch 51/100\n",
            "2/2 [==============================] - 0s 6ms/step - loss: 15.2561 - mae: 15.2561\n",
            "Epoch 52/100\n",
            "2/2 [==============================] - 0s 6ms/step - loss: 38.6715 - mae: 38.6715\n",
            "Epoch 53/100\n",
            "2/2 [==============================] - 0s 6ms/step - loss: 34.5530 - mae: 34.5530\n",
            "Epoch 54/100\n",
            "2/2 [==============================] - 0s 6ms/step - loss: 17.2562 - mae: 17.2562\n",
            "Epoch 55/100\n",
            "2/2 [==============================] - 0s 6ms/step - loss: 32.9792 - mae: 32.9792\n",
            "Epoch 56/100\n",
            "2/2 [==============================] - 0s 6ms/step - loss: 15.9283 - mae: 15.9283\n",
            "Epoch 57/100\n",
            "2/2 [==============================] - 0s 6ms/step - loss: 29.3483 - mae: 29.3483\n",
            "Epoch 58/100\n",
            "2/2 [==============================] - 0s 8ms/step - loss: 9.5646 - mae: 9.5646\n",
            "Epoch 59/100\n",
            "2/2 [==============================] - 0s 6ms/step - loss: 11.2115 - mae: 11.2115\n",
            "Epoch 60/100\n",
            "2/2 [==============================] - 0s 7ms/step - loss: 9.9545 - mae: 9.9545\n",
            "Epoch 61/100\n",
            "2/2 [==============================] - 0s 6ms/step - loss: 12.5298 - mae: 12.5298\n",
            "Epoch 62/100\n",
            "2/2 [==============================] - 0s 6ms/step - loss: 13.2444 - mae: 13.2444\n",
            "Epoch 63/100\n",
            "2/2 [==============================] - 0s 6ms/step - loss: 14.8042 - mae: 14.8042\n",
            "Epoch 64/100\n",
            "2/2 [==============================] - 0s 6ms/step - loss: 11.8496 - mae: 11.8496\n",
            "Epoch 65/100\n",
            "2/2 [==============================] - 0s 6ms/step - loss: 30.9173 - mae: 30.9173\n",
            "Epoch 66/100\n",
            "2/2 [==============================] - 0s 9ms/step - loss: 7.3068 - mae: 7.3068\n",
            "Epoch 67/100\n",
            "2/2 [==============================] - 0s 6ms/step - loss: 35.1640 - mae: 35.1640\n",
            "Epoch 68/100\n",
            "2/2 [==============================] - 0s 5ms/step - loss: 21.6537 - mae: 21.6537\n",
            "Epoch 69/100\n",
            "2/2 [==============================] - 0s 6ms/step - loss: 26.9631 - mae: 26.9631\n",
            "Epoch 70/100\n",
            "2/2 [==============================] - 0s 7ms/step - loss: 24.7210 - mae: 24.7210\n",
            "Epoch 71/100\n",
            "2/2 [==============================] - 0s 6ms/step - loss: 27.1538 - mae: 27.1538\n",
            "Epoch 72/100\n",
            "2/2 [==============================] - 0s 6ms/step - loss: 18.7008 - mae: 18.7008\n",
            "Epoch 73/100\n",
            "2/2 [==============================] - 0s 6ms/step - loss: 15.0120 - mae: 15.0120\n",
            "Epoch 74/100\n",
            "2/2 [==============================] - 0s 7ms/step - loss: 36.8384 - mae: 36.8384\n",
            "Epoch 75/100\n",
            "2/2 [==============================] - 0s 6ms/step - loss: 27.9156 - mae: 27.9156\n",
            "Epoch 76/100\n",
            "2/2 [==============================] - 0s 5ms/step - loss: 17.6864 - mae: 17.6864\n",
            "Epoch 77/100\n",
            "2/2 [==============================] - 0s 5ms/step - loss: 16.2242 - mae: 16.2242\n",
            "Epoch 78/100\n",
            "2/2 [==============================] - 0s 6ms/step - loss: 31.5957 - mae: 31.5957\n",
            "Epoch 79/100\n",
            "2/2 [==============================] - 0s 6ms/step - loss: 12.4500 - mae: 12.4500\n",
            "Epoch 80/100\n",
            "2/2 [==============================] - 0s 5ms/step - loss: 37.5059 - mae: 37.5059\n",
            "Epoch 81/100\n",
            "2/2 [==============================] - 0s 9ms/step - loss: 31.4034 - mae: 31.4034\n",
            "Epoch 82/100\n",
            "2/2 [==============================] - 0s 6ms/step - loss: 17.3210 - mae: 17.3210\n",
            "Epoch 83/100\n",
            "2/2 [==============================] - 0s 6ms/step - loss: 26.3162 - mae: 26.3162\n",
            "Epoch 84/100\n",
            "2/2 [==============================] - 0s 6ms/step - loss: 13.8443 - mae: 13.8443\n",
            "Epoch 85/100\n",
            "2/2 [==============================] - 0s 6ms/step - loss: 30.2951 - mae: 30.2951\n",
            "Epoch 86/100\n",
            "2/2 [==============================] - 0s 4ms/step - loss: 18.4882 - mae: 18.4882\n",
            "Epoch 87/100\n",
            "2/2 [==============================] - 0s 5ms/step - loss: 29.4727 - mae: 29.4727\n",
            "Epoch 88/100\n",
            "2/2 [==============================] - 0s 6ms/step - loss: 13.8381 - mae: 13.8381\n",
            "Epoch 89/100\n",
            "2/2 [==============================] - 0s 6ms/step - loss: 11.0309 - mae: 11.0309\n",
            "Epoch 90/100\n",
            "2/2 [==============================] - 0s 7ms/step - loss: 21.7894 - mae: 21.7894\n",
            "Epoch 91/100\n",
            "2/2 [==============================] - 0s 6ms/step - loss: 18.9939 - mae: 18.9939\n",
            "Epoch 92/100\n",
            "2/2 [==============================] - 0s 6ms/step - loss: 38.4091 - mae: 38.4091\n",
            "Epoch 93/100\n",
            "2/2 [==============================] - 0s 6ms/step - loss: 23.6466 - mae: 23.6466\n",
            "Epoch 94/100\n",
            "2/2 [==============================] - 0s 6ms/step - loss: 28.8169 - mae: 28.8169\n",
            "Epoch 95/100\n",
            "2/2 [==============================] - 0s 6ms/step - loss: 18.4527 - mae: 18.4527\n",
            "Epoch 96/100\n",
            "2/2 [==============================] - 0s 6ms/step - loss: 22.3680 - mae: 22.3680\n",
            "Epoch 97/100\n",
            "2/2 [==============================] - 0s 9ms/step - loss: 51.7055 - mae: 51.7055\n",
            "Epoch 98/100\n",
            "2/2 [==============================] - 0s 7ms/step - loss: 25.5387 - mae: 25.5387\n",
            "Epoch 99/100\n",
            "2/2 [==============================] - 0s 6ms/step - loss: 28.9851 - mae: 28.9851\n",
            "Epoch 100/100\n",
            "2/2 [==============================] - 0s 6ms/step - loss: 16.8847 - mae: 16.8847\n"
          ]
        },
        {
          "output_type": "execute_result",
          "data": {
            "text/plain": [
              "<keras.callbacks.History at 0x7fb0f6452f10>"
            ]
          },
          "metadata": {},
          "execution_count": 51
        }
      ]
    },
    {
      "cell_type": "code",
      "source": [
        "y_preds_3= model3.predict(X_test)\n",
        "plot_pred(predictions = y_preds_3)"
      ],
      "metadata": {
        "colab": {
          "base_uri": "https://localhost:8080/",
          "height": 446
        },
        "id": "_O6b5dQ5t7Iu",
        "outputId": "2e34bc66-f570-4a65-fd6f-ce4a0b5a61fa"
      },
      "execution_count": 52,
      "outputs": [
        {
          "output_type": "stream",
          "name": "stdout",
          "text": [
            "1/1 [==============================] - 0s 45ms/step\n"
          ]
        },
        {
          "output_type": "display_data",
          "data": {
            "text/plain": [
              "<Figure size 720x504 with 1 Axes>"
            ],
            "image/png": "[encoded data removed]"
          },
          "metadata": {
            "needs_background": "light"
          }
        }
      ]
    },
    {
      "cell_type": "code",
      "source": [
        "mse3= mse(y_test, y_preds_3)\n",
        "mae3 = mae(y_test, y_preds_3)\n",
        "\n",
        "mae3, mse3"
      ],
      "metadata": {
        "colab": {
          "base_uri": "https://localhost:8080/"
        },
        "id": "SK_XUmCyt7GV",
        "outputId": "ab3545cd-26de-498d-ea29-b82005ae058e"
      },
      "execution_count": 53,
      "outputs": [
        {
          "output_type": "execute_result",
          "data": {
            "text/plain": [
              "(<tf.Tensor: shape=(), dtype=float32, numpy=75.72184>,\n",
              " <tf.Tensor: shape=(), dtype=float32, numpy=5830.1514>)"
            ]
          },
          "metadata": {},
          "execution_count": 53
        }
      ]
    },
    {
      "cell_type": "code",
      "source": [
        "#build new model\n",
        "tf.random.set_seed(42)\n",
        "model4 = tf.keras.Sequential([\n",
        "    tf.keras.layers.Dense(100),\n",
        "    tf.keras.layers.Dense(1)\n",
        "])\n",
        "\n",
        "#compile\n",
        "model4.compile(loss = tf.keras.losses.mae,\n",
        "               optimizer = tf.keras.optimizers.SGD(),\n",
        "               metrics=['mse'])\n",
        "\n",
        "#fit\n",
        "model4.fit(tf.expand_dims(X_train,axis=1),y_train, epochs =500)\n"
      ],
      "metadata": {
        "colab": {
          "base_uri": "https://localhost:8080/"
        },
        "id": "WmCTtU0K2ByX",
        "outputId": "521f01c7-9740-41e2-bc2c-48fbce47f5d8"
      },
      "execution_count": 54,
      "outputs": [
        {
          "output_type": "stream",
          "name": "stdout",
          "text": [
            "Epoch 1/500\n",
            "2/2 [==============================] - 0s 7ms/step - loss: 36.0963 - mse: 1814.3928\n",
            "Epoch 2/500\n",
            "2/2 [==============================] - 0s 5ms/step - loss: 28.7401 - mse: 1070.3124\n",
            "Epoch 3/500\n",
            "2/2 [==============================] - 0s 6ms/step - loss: 33.2070 - mse: 1678.3668\n",
            "Epoch 4/500\n",
            "2/2 [==============================] - 0s 6ms/step - loss: 30.5341 - mse: 1387.0977\n",
            "Epoch 5/500\n",
            "2/2 [==============================] - 0s 5ms/step - loss: 15.5504 - mse: 312.3751\n",
            "Epoch 6/500\n",
            "2/2 [==============================] - 0s 7ms/step - loss: 12.3355 - mse: 192.1153\n",
            "Epoch 7/500\n",
            "2/2 [==============================] - 0s 6ms/step - loss: 11.6147 - mse: 165.0442\n",
            "Epoch 8/500\n",
            "2/2 [==============================] - 0s 6ms/step - loss: 11.2547 - mse: 182.9434\n",
            "Epoch 9/500\n",
            "2/2 [==============================] - 0s 6ms/step - loss: 42.3778 - mse: 2875.2131\n",
            "Epoch 10/500\n",
            "2/2 [==============================] - 0s 6ms/step - loss: 29.5266 - mse: 1234.4910\n",
            "Epoch 11/500\n",
            "2/2 [==============================] - 0s 6ms/step - loss: 7.7261 - mse: 83.6375\n",
            "Epoch 12/500\n",
            "2/2 [==============================] - 0s 7ms/step - loss: 28.5424 - mse: 1114.8400\n",
            "Epoch 13/500\n",
            "2/2 [==============================] - 0s 6ms/step - loss: 11.5152 - mse: 145.4685\n",
            "Epoch 14/500\n",
            "2/2 [==============================] - 0s 10ms/step - loss: 30.3047 - mse: 1471.9719\n",
            "Epoch 15/500\n",
            "2/2 [==============================] - 0s 6ms/step - loss: 20.0565 - mse: 564.3543\n",
            "Epoch 16/500\n",
            "2/2 [==============================] - 0s 5ms/step - loss: 9.9328 - mse: 125.2668\n",
            "Epoch 17/500\n",
            "2/2 [==============================] - 0s 5ms/step - loss: 17.8815 - mse: 424.4108\n",
            "Epoch 18/500\n",
            "2/2 [==============================] - 0s 6ms/step - loss: 14.3561 - mse: 327.0247\n",
            "Epoch 19/500\n",
            "2/2 [==============================] - 0s 6ms/step - loss: 14.4636 - mse: 329.4479\n",
            "Epoch 20/500\n",
            "2/2 [==============================] - 0s 6ms/step - loss: 10.4766 - mse: 148.5860\n",
            "Epoch 21/500\n",
            "2/2 [==============================] - 0s 6ms/step - loss: 15.2397 - mse: 315.2089\n",
            "Epoch 22/500\n",
            "2/2 [==============================] - 0s 6ms/step - loss: 15.5822 - mse: 334.7751\n",
            "Epoch 23/500\n",
            "2/2 [==============================] - 0s 6ms/step - loss: 9.2367 - mse: 118.7253\n",
            "Epoch 24/500\n",
            "2/2 [==============================] - 0s 6ms/step - loss: 17.2403 - mse: 407.0016\n",
            "Epoch 25/500\n",
            "2/2 [==============================] - 0s 6ms/step - loss: 15.9221 - mse: 332.9164\n",
            "Epoch 26/500\n",
            "2/2 [==============================] - 0s 6ms/step - loss: 20.8897 - mse: 647.3730\n",
            "Epoch 27/500\n",
            "2/2 [==============================] - 0s 6ms/step - loss: 26.0552 - mse: 1060.1155\n",
            "Epoch 28/500\n",
            "2/2 [==============================] - 0s 6ms/step - loss: 18.5412 - mse: 544.2980\n",
            "Epoch 29/500\n",
            "2/2 [==============================] - 0s 6ms/step - loss: 9.2471 - mse: 97.3136\n",
            "Epoch 30/500\n",
            "2/2 [==============================] - 0s 6ms/step - loss: 29.1607 - mse: 1521.4561\n",
            "Epoch 31/500\n",
            "2/2 [==============================] - 0s 6ms/step - loss: 52.8241 - mse: 4990.9526\n",
            "Epoch 32/500\n",
            "2/2 [==============================] - 0s 6ms/step - loss: 11.9582 - mse: 209.0288\n",
            "Epoch 33/500\n",
            "2/2 [==============================] - 0s 6ms/step - loss: 15.5698 - mse: 334.2185\n",
            "Epoch 34/500\n",
            "2/2 [==============================] - 0s 6ms/step - loss: 12.6486 - mse: 211.8823\n",
            "Epoch 35/500\n",
            "2/2 [==============================] - 0s 6ms/step - loss: 9.2216 - mse: 92.2885\n",
            "Epoch 36/500\n",
            "2/2 [==============================] - 0s 13ms/step - loss: 16.5660 - mse: 399.1781\n",
            "Epoch 37/500\n",
            "2/2 [==============================] - 0s 6ms/step - loss: 11.0633 - mse: 192.3466\n",
            "Epoch 38/500\n",
            "2/2 [==============================] - 0s 5ms/step - loss: 18.1905 - mse: 435.4762\n",
            "Epoch 39/500\n",
            "2/2 [==============================] - 0s 9ms/step - loss: 19.1255 - mse: 531.8473\n",
            "Epoch 40/500\n",
            "2/2 [==============================] - 0s 6ms/step - loss: 20.4755 - mse: 612.5178\n",
            "Epoch 41/500\n",
            "2/2 [==============================] - 0s 5ms/step - loss: 14.8601 - mse: 276.9233\n",
            "Epoch 42/500\n",
            "2/2 [==============================] - 0s 6ms/step - loss: 12.2435 - mse: 184.3159\n",
            "Epoch 43/500\n",
            "2/2 [==============================] - 0s 6ms/step - loss: 10.7142 - mse: 165.0336\n",
            "Epoch 44/500\n",
            "2/2 [==============================] - 0s 5ms/step - loss: 22.9105 - mse: 821.5755\n",
            "Epoch 45/500\n",
            "2/2 [==============================] - 0s 5ms/step - loss: 10.3591 - mse: 128.7382\n",
            "Epoch 46/500\n",
            "2/2 [==============================] - 0s 9ms/step - loss: 11.7430 - mse: 179.2029\n",
            "Epoch 47/500\n",
            "2/2 [==============================] - 0s 6ms/step - loss: 9.6661 - mse: 153.6755\n",
            "Epoch 48/500\n",
            "2/2 [==============================] - 0s 7ms/step - loss: 17.2796 - mse: 405.0842\n",
            "Epoch 49/500\n",
            "2/2 [==============================] - 0s 6ms/step - loss: 9.5457 - mse: 99.2342\n",
            "Epoch 50/500\n",
            "2/2 [==============================] - 0s 6ms/step - loss: 13.7675 - mse: 257.3469\n",
            "Epoch 51/500\n",
            "2/2 [==============================] - 0s 5ms/step - loss: 11.5782 - mse: 153.9748\n",
            "Epoch 52/500\n",
            "2/2 [==============================] - 0s 6ms/step - loss: 30.4150 - mse: 1597.1027\n",
            "Epoch 53/500\n",
            "2/2 [==============================] - 0s 6ms/step - loss: 14.2947 - mse: 299.6713\n",
            "Epoch 54/500\n",
            "2/2 [==============================] - 0s 6ms/step - loss: 23.6385 - mse: 841.7302\n",
            "Epoch 55/500\n",
            "2/2 [==============================] - 0s 6ms/step - loss: 24.5678 - mse: 911.3219\n",
            "Epoch 56/500\n",
            "2/2 [==============================] - 0s 6ms/step - loss: 11.3286 - mse: 171.6335\n",
            "Epoch 57/500\n",
            "2/2 [==============================] - 0s 6ms/step - loss: 13.3457 - mse: 224.7298\n",
            "Epoch 58/500\n",
            "2/2 [==============================] - 0s 6ms/step - loss: 9.9385 - mse: 109.2768\n",
            "Epoch 59/500\n",
            "2/2 [==============================] - 0s 6ms/step - loss: 13.9017 - mse: 275.0393\n",
            "Epoch 60/500\n",
            "2/2 [==============================] - 0s 8ms/step - loss: 9.9821 - mse: 118.6659\n",
            "Epoch 61/500\n",
            "2/2 [==============================] - 0s 6ms/step - loss: 14.9607 - mse: 307.6761\n",
            "Epoch 62/500\n",
            "2/2 [==============================] - 0s 6ms/step - loss: 11.9163 - mse: 196.2486\n",
            "Epoch 63/500\n",
            "2/2 [==============================] - 0s 6ms/step - loss: 10.2802 - mse: 134.6892\n",
            "Epoch 64/500\n",
            "2/2 [==============================] - 0s 6ms/step - loss: 23.8796 - mse: 838.0250\n",
            "Epoch 65/500\n",
            "2/2 [==============================] - 0s 6ms/step - loss: 10.4570 - mse: 130.0333\n",
            "Epoch 66/500\n",
            "2/2 [==============================] - 0s 7ms/step - loss: 20.9281 - mse: 644.1713\n",
            "Epoch 67/500\n",
            "2/2 [==============================] - 0s 6ms/step - loss: 10.4360 - mse: 126.1848\n",
            "Epoch 68/500\n",
            "2/2 [==============================] - 0s 6ms/step - loss: 14.1740 - mse: 302.5098\n",
            "Epoch 69/500\n",
            "2/2 [==============================] - 0s 6ms/step - loss: 10.5085 - mse: 125.8901\n",
            "Epoch 70/500\n",
            "2/2 [==============================] - 0s 6ms/step - loss: 12.5800 - mse: 200.8031\n",
            "Epoch 71/500\n",
            "2/2 [==============================] - 0s 8ms/step - loss: 13.0114 - mse: 226.0184\n",
            "Epoch 72/500\n",
            "2/2 [==============================] - 0s 6ms/step - loss: 19.3658 - mse: 532.1794\n",
            "Epoch 73/500\n",
            "2/2 [==============================] - 0s 7ms/step - loss: 11.1257 - mse: 193.0834\n",
            "Epoch 74/500\n",
            "2/2 [==============================] - 0s 5ms/step - loss: 21.6094 - mse: 726.0785\n",
            "Epoch 75/500\n",
            "2/2 [==============================] - 0s 12ms/step - loss: 7.2224 - mse: 71.5043\n",
            "Epoch 76/500\n",
            "2/2 [==============================] - 0s 6ms/step - loss: 9.4544 - mse: 149.0030\n",
            "Epoch 77/500\n",
            "2/2 [==============================] - 0s 6ms/step - loss: 22.1672 - mse: 733.4680\n",
            "Epoch 78/500\n",
            "2/2 [==============================] - 0s 5ms/step - loss: 17.4700 - mse: 463.9557\n",
            "Epoch 79/500\n",
            "2/2 [==============================] - 0s 6ms/step - loss: 14.7073 - mse: 316.4845\n",
            "Epoch 80/500\n",
            "2/2 [==============================] - 0s 6ms/step - loss: 24.8778 - mse: 942.6454\n",
            "Epoch 81/500\n",
            "2/2 [==============================] - 0s 6ms/step - loss: 10.7835 - mse: 136.5441\n",
            "Epoch 82/500\n",
            "2/2 [==============================] - 0s 6ms/step - loss: 12.8246 - mse: 233.9170\n",
            "Epoch 83/500\n",
            "2/2 [==============================] - 0s 8ms/step - loss: 17.6222 - mse: 405.2426\n",
            "Epoch 84/500\n",
            "2/2 [==============================] - 0s 6ms/step - loss: 7.2967 - mse: 73.1077\n",
            "Epoch 85/500\n",
            "2/2 [==============================] - 0s 6ms/step - loss: 15.1140 - mse: 318.7950\n",
            "Epoch 86/500\n",
            "2/2 [==============================] - 0s 8ms/step - loss: 15.4042 - mse: 318.4935\n",
            "Epoch 87/500\n",
            "2/2 [==============================] - 0s 7ms/step - loss: 19.3471 - mse: 532.2305\n",
            "Epoch 88/500\n",
            "2/2 [==============================] - 0s 6ms/step - loss: 29.1969 - mse: 1230.0686\n",
            "Epoch 89/500\n",
            "2/2 [==============================] - 0s 6ms/step - loss: 10.0793 - mse: 124.0523\n",
            "Epoch 90/500\n",
            "2/2 [==============================] - 0s 6ms/step - loss: 21.0153 - mse: 632.1883\n",
            "Epoch 91/500\n",
            "2/2 [==============================] - 0s 6ms/step - loss: 10.4465 - mse: 163.9178\n",
            "Epoch 92/500\n",
            "2/2 [==============================] - 0s 6ms/step - loss: 17.9444 - mse: 440.4515\n",
            "Epoch 93/500\n",
            "2/2 [==============================] - 0s 6ms/step - loss: 6.5490 - mse: 61.4093\n",
            "Epoch 94/500\n",
            "2/2 [==============================] - 0s 6ms/step - loss: 11.1056 - mse: 152.1769\n",
            "Epoch 95/500\n",
            "2/2 [==============================] - 0s 6ms/step - loss: 24.3361 - mse: 888.0704\n",
            "Epoch 96/500\n",
            "2/2 [==============================] - 0s 6ms/step - loss: 10.7118 - mse: 172.5009\n",
            "Epoch 97/500\n",
            "2/2 [==============================] - 0s 6ms/step - loss: 15.3348 - mse: 356.3828\n",
            "Epoch 98/500\n",
            "2/2 [==============================] - 0s 6ms/step - loss: 8.2338 - mse: 111.0291\n",
            "Epoch 99/500\n",
            "2/2 [==============================] - 0s 7ms/step - loss: 16.5159 - mse: 383.0997\n",
            "Epoch 100/500\n",
            "2/2 [==============================] - 0s 6ms/step - loss: 14.2930 - mse: 295.1038\n",
            "Epoch 101/500\n",
            "2/2 [==============================] - 0s 6ms/step - loss: 15.2926 - mse: 350.4982\n",
            "Epoch 102/500\n",
            "2/2 [==============================] - 0s 10ms/step - loss: 10.7614 - mse: 159.0679\n",
            "Epoch 103/500\n",
            "2/2 [==============================] - 0s 6ms/step - loss: 9.1706 - mse: 96.0793\n",
            "Epoch 104/500\n",
            "2/2 [==============================] - 0s 6ms/step - loss: 23.8572 - mse: 852.8430\n",
            "Epoch 105/500\n",
            "2/2 [==============================] - 0s 6ms/step - loss: 10.8447 - mse: 161.5596\n",
            "Epoch 106/500\n",
            "2/2 [==============================] - 0s 6ms/step - loss: 11.3009 - mse: 178.2048\n",
            "Epoch 107/500\n",
            "2/2 [==============================] - 0s 6ms/step - loss: 21.4280 - mse: 684.8772\n",
            "Epoch 108/500\n",
            "2/2 [==============================] - 0s 6ms/step - loss: 6.5884 - mse: 60.7598\n",
            "Epoch 109/500\n",
            "2/2 [==============================] - 0s 7ms/step - loss: 13.2925 - mse: 247.5480\n",
            "Epoch 110/500\n",
            "2/2 [==============================] - 0s 6ms/step - loss: 7.9929 - mse: 114.7388\n",
            "Epoch 111/500\n",
            "2/2 [==============================] - 0s 6ms/step - loss: 15.7824 - mse: 350.0538\n",
            "Epoch 112/500\n",
            "2/2 [==============================] - 0s 6ms/step - loss: 8.7380 - mse: 92.0254\n",
            "Epoch 113/500\n",
            "2/2 [==============================] - 0s 7ms/step - loss: 22.6196 - mse: 742.0552\n",
            "Epoch 114/500\n",
            "2/2 [==============================] - 0s 7ms/step - loss: 18.9748 - mse: 543.3195\n",
            "Epoch 115/500\n",
            "2/2 [==============================] - 0s 6ms/step - loss: 11.0729 - mse: 152.1842\n",
            "Epoch 116/500\n",
            "2/2 [==============================] - 0s 6ms/step - loss: 23.0626 - mse: 774.1672\n",
            "Epoch 117/500\n",
            "2/2 [==============================] - 0s 8ms/step - loss: 9.5528 - mse: 126.8059\n",
            "Epoch 118/500\n",
            "2/2 [==============================] - 0s 6ms/step - loss: 10.6122 - mse: 138.1295\n",
            "Epoch 119/500\n",
            "2/2 [==============================] - 0s 6ms/step - loss: 8.0394 - mse: 76.8024\n",
            "Epoch 120/500\n",
            "2/2 [==============================] - 0s 6ms/step - loss: 29.3525 - mse: 1284.4203\n",
            "Epoch 121/500\n",
            "2/2 [==============================] - 0s 7ms/step - loss: 8.0766 - mse: 70.4894\n",
            "Epoch 122/500\n",
            "2/2 [==============================] - 0s 7ms/step - loss: 28.0279 - mse: 1204.7020\n",
            "Epoch 123/500\n",
            "2/2 [==============================] - 0s 8ms/step - loss: 32.5532 - mse: 1555.6136\n",
            "Epoch 124/500\n",
            "2/2 [==============================] - 0s 7ms/step - loss: 19.3723 - mse: 556.4523\n",
            "Epoch 125/500\n",
            "2/2 [==============================] - 0s 7ms/step - loss: 9.5279 - mse: 152.2066\n",
            "Epoch 126/500\n",
            "2/2 [==============================] - 0s 7ms/step - loss: 9.6005 - mse: 113.1710\n",
            "Epoch 127/500\n",
            "2/2 [==============================] - 0s 7ms/step - loss: 12.7252 - mse: 253.0940\n",
            "Epoch 128/500\n",
            "2/2 [==============================] - 0s 7ms/step - loss: 12.8221 - mse: 227.3805\n",
            "Epoch 129/500\n",
            "2/2 [==============================] - 0s 7ms/step - loss: 13.9553 - mse: 312.6263\n",
            "Epoch 130/500\n",
            "2/2 [==============================] - 0s 7ms/step - loss: 10.2404 - mse: 122.0600\n",
            "Epoch 131/500\n",
            "2/2 [==============================] - 0s 7ms/step - loss: 21.7224 - mse: 714.7277\n",
            "Epoch 132/500\n",
            "2/2 [==============================] - 0s 6ms/step - loss: 8.2835 - mse: 95.5716\n",
            "Epoch 133/500\n",
            "2/2 [==============================] - 0s 6ms/step - loss: 9.0640 - mse: 113.3453\n",
            "Epoch 134/500\n",
            "2/2 [==============================] - 0s 6ms/step - loss: 16.9153 - mse: 417.0762\n",
            "Epoch 135/500\n",
            "2/2 [==============================] - 0s 6ms/step - loss: 10.6593 - mse: 149.7906\n",
            "Epoch 136/500\n",
            "2/2 [==============================] - 0s 7ms/step - loss: 18.5231 - mse: 486.3493\n",
            "Epoch 137/500\n",
            "2/2 [==============================] - 0s 6ms/step - loss: 23.5168 - mse: 746.8569\n",
            "Epoch 138/500\n",
            "2/2 [==============================] - 0s 7ms/step - loss: 9.2856 - mse: 139.5157\n",
            "Epoch 139/500\n",
            "2/2 [==============================] - 0s 6ms/step - loss: 9.0158 - mse: 143.1049\n",
            "Epoch 140/500\n",
            "2/2 [==============================] - 0s 6ms/step - loss: 16.9776 - mse: 415.3004\n",
            "Epoch 141/500\n",
            "2/2 [==============================] - 0s 6ms/step - loss: 8.3210 - mse: 75.6423\n",
            "Epoch 142/500\n",
            "2/2 [==============================] - 0s 6ms/step - loss: 34.0542 - mse: 2007.3975\n",
            "Epoch 143/500\n",
            "2/2 [==============================] - 0s 6ms/step - loss: 23.1092 - mse: 747.3515\n",
            "Epoch 144/500\n",
            "2/2 [==============================] - 0s 6ms/step - loss: 11.3329 - mse: 228.9402\n",
            "Epoch 145/500\n",
            "2/2 [==============================] - 0s 10ms/step - loss: 25.0300 - mse: 849.1556\n",
            "Epoch 146/500\n",
            "2/2 [==============================] - 0s 6ms/step - loss: 11.1595 - mse: 168.9194\n",
            "Epoch 147/500\n",
            "2/2 [==============================] - 0s 7ms/step - loss: 14.0812 - mse: 293.7934\n",
            "Epoch 148/500\n",
            "2/2 [==============================] - 0s 6ms/step - loss: 16.9288 - mse: 393.2911\n",
            "Epoch 149/500\n",
            "2/2 [==============================] - 0s 7ms/step - loss: 9.2557 - mse: 108.8485\n",
            "Epoch 150/500\n",
            "2/2 [==============================] - 0s 6ms/step - loss: 7.9403 - mse: 71.6665\n",
            "Epoch 151/500\n",
            "2/2 [==============================] - 0s 6ms/step - loss: 16.5058 - mse: 391.8855\n",
            "Epoch 152/500\n",
            "2/2 [==============================] - 0s 6ms/step - loss: 9.7998 - mse: 119.6176\n",
            "Epoch 153/500\n",
            "2/2 [==============================] - 0s 7ms/step - loss: 26.8446 - mse: 1018.6727\n",
            "Epoch 154/500\n",
            "2/2 [==============================] - 0s 8ms/step - loss: 11.9201 - mse: 238.8651\n",
            "Epoch 155/500\n",
            "2/2 [==============================] - 0s 7ms/step - loss: 15.2860 - mse: 335.5380\n",
            "Epoch 156/500\n",
            "2/2 [==============================] - 0s 7ms/step - loss: 16.6578 - mse: 424.7426\n",
            "Epoch 157/500\n",
            "2/2 [==============================] - 0s 7ms/step - loss: 19.2727 - mse: 573.3765\n",
            "Epoch 158/500\n",
            "2/2 [==============================] - 0s 6ms/step - loss: 8.2579 - mse: 129.8331\n",
            "Epoch 159/500\n",
            "2/2 [==============================] - 0s 7ms/step - loss: 7.9875 - mse: 109.3977\n",
            "Epoch 160/500\n",
            "2/2 [==============================] - 0s 7ms/step - loss: 20.9650 - mse: 660.1898\n",
            "Epoch 161/500\n",
            "2/2 [==============================] - 0s 6ms/step - loss: 23.7713 - mse: 856.9163\n",
            "Epoch 162/500\n",
            "2/2 [==============================] - 0s 7ms/step - loss: 18.6936 - mse: 498.9753\n",
            "Epoch 163/500\n",
            "2/2 [==============================] - 0s 7ms/step - loss: 17.6474 - mse: 446.7246\n",
            "Epoch 164/500\n",
            "2/2 [==============================] - 0s 4ms/step - loss: 11.0684 - mse: 179.4374\n",
            "Epoch 165/500\n",
            "2/2 [==============================] - 0s 6ms/step - loss: 9.6167 - mse: 180.5753\n",
            "Epoch 166/500\n",
            "2/2 [==============================] - 0s 6ms/step - loss: 21.5682 - mse: 680.8234\n",
            "Epoch 167/500\n",
            "2/2 [==============================] - 0s 7ms/step - loss: 26.3500 - mse: 1054.4441\n",
            "Epoch 168/500\n",
            "2/2 [==============================] - 0s 14ms/step - loss: 9.8827 - mse: 118.7671\n",
            "Epoch 169/500\n",
            "2/2 [==============================] - 0s 6ms/step - loss: 22.6144 - mse: 790.9684\n",
            "Epoch 170/500\n",
            "2/2 [==============================] - 0s 6ms/step - loss: 10.1510 - mse: 196.5021\n",
            "Epoch 171/500\n",
            "2/2 [==============================] - 0s 6ms/step - loss: 18.0297 - mse: 502.6241\n",
            "Epoch 172/500\n",
            "2/2 [==============================] - 0s 7ms/step - loss: 28.8803 - mse: 1310.3616\n",
            "Epoch 173/500\n",
            "2/2 [==============================] - 0s 7ms/step - loss: 16.5673 - mse: 434.1192\n",
            "Epoch 174/500\n",
            "2/2 [==============================] - 0s 6ms/step - loss: 11.2162 - mse: 200.4636\n",
            "Epoch 175/500\n",
            "2/2 [==============================] - 0s 8ms/step - loss: 27.5747 - mse: 1097.0620\n",
            "Epoch 176/500\n",
            "2/2 [==============================] - 0s 6ms/step - loss: 8.2951 - mse: 78.0284\n",
            "Epoch 177/500\n",
            "2/2 [==============================] - 0s 7ms/step - loss: 9.2831 - mse: 109.3288\n",
            "Epoch 178/500\n",
            "2/2 [==============================] - 0s 7ms/step - loss: 18.1694 - mse: 467.3274\n",
            "Epoch 179/500\n",
            "2/2 [==============================] - 0s 10ms/step - loss: 10.5933 - mse: 147.7685\n",
            "Epoch 180/500\n",
            "2/2 [==============================] - 0s 7ms/step - loss: 7.9191 - mse: 100.8425\n",
            "Epoch 181/500\n",
            "2/2 [==============================] - 0s 5ms/step - loss: 17.4144 - mse: 439.2496\n",
            "Epoch 182/500\n",
            "2/2 [==============================] - 0s 8ms/step - loss: 11.0304 - mse: 157.6051\n",
            "Epoch 183/500\n",
            "2/2 [==============================] - 0s 6ms/step - loss: 11.7114 - mse: 204.2020\n",
            "Epoch 184/500\n",
            "2/2 [==============================] - 0s 6ms/step - loss: 30.4060 - mse: 1387.4397\n",
            "Epoch 185/500\n",
            "2/2 [==============================] - 0s 8ms/step - loss: 7.5714 - mse: 98.9348\n",
            "Epoch 186/500\n",
            "2/2 [==============================] - 0s 7ms/step - loss: 16.0002 - mse: 369.6537\n",
            "Epoch 187/500\n",
            "2/2 [==============================] - 0s 7ms/step - loss: 8.5732 - mse: 85.7521\n",
            "Epoch 188/500\n",
            "2/2 [==============================] - 0s 6ms/step - loss: 28.7091 - mse: 1173.4719\n",
            "Epoch 189/500\n",
            "2/2 [==============================] - 0s 8ms/step - loss: 13.1805 - mse: 271.4363\n",
            "Epoch 190/500\n",
            "2/2 [==============================] - 0s 7ms/step - loss: 18.3237 - mse: 513.2872\n",
            "Epoch 191/500\n",
            "2/2 [==============================] - 0s 7ms/step - loss: 13.7539 - mse: 265.5598\n",
            "Epoch 192/500\n",
            "2/2 [==============================] - 0s 6ms/step - loss: 13.7230 - mse: 261.1933\n",
            "Epoch 193/500\n",
            "2/2 [==============================] - 0s 7ms/step - loss: 28.5966 - mse: 1135.9565\n",
            "Epoch 194/500\n",
            "2/2 [==============================] - 0s 6ms/step - loss: 7.0713 - mse: 79.0292\n",
            "Epoch 195/500\n",
            "2/2 [==============================] - 0s 7ms/step - loss: 7.0699 - mse: 75.0712\n",
            "Epoch 196/500\n",
            "2/2 [==============================] - 0s 7ms/step - loss: 22.0338 - mse: 710.8087\n",
            "Epoch 197/500\n",
            "2/2 [==============================] - 0s 7ms/step - loss: 20.7913 - mse: 640.2606\n",
            "Epoch 198/500\n",
            "2/2 [==============================] - 0s 9ms/step - loss: 12.4453 - mse: 235.6448\n",
            "Epoch 199/500\n",
            "2/2 [==============================] - 0s 7ms/step - loss: 17.8630 - mse: 458.0616\n",
            "Epoch 200/500\n",
            "2/2 [==============================] - 0s 6ms/step - loss: 13.7067 - mse: 280.3996\n",
            "Epoch 201/500\n",
            "2/2 [==============================] - 0s 7ms/step - loss: 5.4883 - mse: 41.5992\n",
            "Epoch 202/500\n",
            "2/2 [==============================] - 0s 6ms/step - loss: 13.6583 - mse: 292.3922\n",
            "Epoch 203/500\n",
            "2/2 [==============================] - 0s 7ms/step - loss: 9.4134 - mse: 140.5584\n",
            "Epoch 204/500\n",
            "2/2 [==============================] - 0s 7ms/step - loss: 20.8961 - mse: 651.2351\n",
            "Epoch 205/500\n",
            "2/2 [==============================] - 0s 8ms/step - loss: 9.5333 - mse: 128.0146\n",
            "Epoch 206/500\n",
            "2/2 [==============================] - 0s 7ms/step - loss: 11.6954 - mse: 194.6053\n",
            "Epoch 207/500\n",
            "2/2 [==============================] - 0s 7ms/step - loss: 14.3130 - mse: 314.6021\n",
            "Epoch 208/500\n",
            "2/2 [==============================] - 0s 7ms/step - loss: 14.8061 - mse: 321.3711\n",
            "Epoch 209/500\n",
            "2/2 [==============================] - 0s 8ms/step - loss: 14.5959 - mse: 326.0306\n",
            "Epoch 210/500\n",
            "2/2 [==============================] - 0s 7ms/step - loss: 17.8310 - mse: 464.0558\n",
            "Epoch 211/500\n",
            "2/2 [==============================] - 0s 7ms/step - loss: 9.8222 - mse: 146.2195\n",
            "Epoch 212/500\n",
            "2/2 [==============================] - 0s 7ms/step - loss: 18.2444 - mse: 503.0920\n",
            "Epoch 213/500\n",
            "2/2 [==============================] - 0s 10ms/step - loss: 15.0710 - mse: 308.6747\n",
            "Epoch 214/500\n",
            "2/2 [==============================] - 0s 7ms/step - loss: 14.6102 - mse: 294.7032\n",
            "Epoch 215/500\n",
            "2/2 [==============================] - 0s 7ms/step - loss: 23.3422 - mse: 801.8216\n",
            "Epoch 216/500\n",
            "2/2 [==============================] - 0s 7ms/step - loss: 13.3007 - mse: 276.0649\n",
            "Epoch 217/500\n",
            "2/2 [==============================] - 0s 7ms/step - loss: 9.8125 - mse: 134.7124\n",
            "Epoch 218/500\n",
            "2/2 [==============================] - 0s 7ms/step - loss: 12.5949 - mse: 207.9301\n",
            "Epoch 219/500\n",
            "2/2 [==============================] - 0s 7ms/step - loss: 5.3381 - mse: 39.3580\n",
            "Epoch 220/500\n",
            "2/2 [==============================] - 0s 7ms/step - loss: 14.6967 - mse: 283.8965\n",
            "Epoch 221/500\n",
            "2/2 [==============================] - 0s 7ms/step - loss: 33.5421 - mse: 1537.1992\n",
            "Epoch 222/500\n",
            "2/2 [==============================] - 0s 7ms/step - loss: 13.8882 - mse: 237.8208\n",
            "Epoch 223/500\n",
            "2/2 [==============================] - 0s 6ms/step - loss: 10.9915 - mse: 179.6643\n",
            "Epoch 224/500\n",
            "2/2 [==============================] - 0s 7ms/step - loss: 14.9440 - mse: 333.7468\n",
            "Epoch 225/500\n",
            "2/2 [==============================] - 0s 7ms/step - loss: 16.9904 - mse: 374.4317\n",
            "Epoch 226/500\n",
            "2/2 [==============================] - 0s 8ms/step - loss: 16.1796 - mse: 385.3522\n",
            "Epoch 227/500\n",
            "2/2 [==============================] - 0s 7ms/step - loss: 16.4963 - mse: 385.1612\n",
            "Epoch 228/500\n",
            "2/2 [==============================] - 0s 7ms/step - loss: 9.9385 - mse: 185.3790\n",
            "Epoch 229/500\n",
            "2/2 [==============================] - 0s 8ms/step - loss: 17.8344 - mse: 443.5201\n",
            "Epoch 230/500\n",
            "2/2 [==============================] - 0s 7ms/step - loss: 15.4551 - mse: 310.5424\n",
            "Epoch 231/500\n",
            "2/2 [==============================] - 0s 7ms/step - loss: 20.8800 - mse: 654.5124\n",
            "Epoch 232/500\n",
            "2/2 [==============================] - 0s 7ms/step - loss: 20.4230 - mse: 593.0768\n",
            "Epoch 233/500\n",
            "2/2 [==============================] - 0s 6ms/step - loss: 15.0821 - mse: 338.7809\n",
            "Epoch 234/500\n",
            "2/2 [==============================] - 0s 5ms/step - loss: 6.9638 - mse: 65.9698\n",
            "Epoch 235/500\n",
            "2/2 [==============================] - 0s 6ms/step - loss: 15.7335 - mse: 347.9176\n",
            "Epoch 236/500\n",
            "2/2 [==============================] - 0s 5ms/step - loss: 6.6860 - mse: 71.1868\n",
            "Epoch 237/500\n",
            "2/2 [==============================] - 0s 7ms/step - loss: 8.5997 - mse: 114.0608\n",
            "Epoch 238/500\n",
            "2/2 [==============================] - 0s 5ms/step - loss: 7.7627 - mse: 87.8986\n",
            "Epoch 239/500\n",
            "2/2 [==============================] - 0s 6ms/step - loss: 15.6569 - mse: 373.2669\n",
            "Epoch 240/500\n",
            "2/2 [==============================] - 0s 5ms/step - loss: 9.0050 - mse: 109.1068\n",
            "Epoch 241/500\n",
            "2/2 [==============================] - 0s 6ms/step - loss: 13.4260 - mse: 279.7673\n",
            "Epoch 242/500\n",
            "2/2 [==============================] - 0s 4ms/step - loss: 8.8946 - mse: 107.6171\n",
            "Epoch 243/500\n",
            "2/2 [==============================] - 0s 8ms/step - loss: 19.3153 - mse: 569.5543\n",
            "Epoch 244/500\n",
            "2/2 [==============================] - 0s 5ms/step - loss: 13.8818 - mse: 271.4027\n",
            "Epoch 245/500\n",
            "2/2 [==============================] - 0s 5ms/step - loss: 14.5321 - mse: 282.9342\n",
            "Epoch 246/500\n",
            "2/2 [==============================] - 0s 5ms/step - loss: 15.6703 - mse: 361.6248\n",
            "Epoch 247/500\n",
            "2/2 [==============================] - 0s 7ms/step - loss: 17.5037 - mse: 411.3826\n",
            "Epoch 248/500\n",
            "2/2 [==============================] - 0s 6ms/step - loss: 13.0712 - mse: 249.6853\n",
            "Epoch 249/500\n",
            "2/2 [==============================] - 0s 5ms/step - loss: 14.4181 - mse: 283.8813\n",
            "Epoch 250/500\n",
            "2/2 [==============================] - 0s 6ms/step - loss: 27.8125 - mse: 1100.7877\n",
            "Epoch 251/500\n",
            "2/2 [==============================] - 0s 8ms/step - loss: 7.4997 - mse: 69.1133\n",
            "Epoch 252/500\n",
            "2/2 [==============================] - 0s 6ms/step - loss: 38.2311 - mse: 2415.8521\n",
            "Epoch 253/500\n",
            "2/2 [==============================] - 0s 7ms/step - loss: 23.1250 - mse: 751.6566\n",
            "Epoch 254/500\n",
            "2/2 [==============================] - 0s 9ms/step - loss: 7.2885 - mse: 78.4554\n",
            "Epoch 255/500\n",
            "2/2 [==============================] - 0s 6ms/step - loss: 24.6329 - mse: 876.4928\n",
            "Epoch 256/500\n",
            "2/2 [==============================] - 0s 8ms/step - loss: 12.3926 - mse: 219.3336\n",
            "Epoch 257/500\n",
            "2/2 [==============================] - 0s 7ms/step - loss: 10.5619 - mse: 163.1349\n",
            "Epoch 258/500\n",
            "2/2 [==============================] - 0s 7ms/step - loss: 14.1874 - mse: 306.1955\n",
            "Epoch 259/500\n",
            "2/2 [==============================] - 0s 6ms/step - loss: 11.2483 - mse: 186.6766\n",
            "Epoch 260/500\n",
            "2/2 [==============================] - 0s 8ms/step - loss: 31.6073 - mse: 1525.5898\n",
            "Epoch 261/500\n",
            "2/2 [==============================] - 0s 7ms/step - loss: 11.1647 - mse: 178.0014\n",
            "Epoch 262/500\n",
            "2/2 [==============================] - 0s 8ms/step - loss: 10.0211 - mse: 139.2236\n",
            "Epoch 263/500\n",
            "2/2 [==============================] - 0s 8ms/step - loss: 8.9364 - mse: 103.4327\n",
            "Epoch 264/500\n",
            "2/2 [==============================] - 0s 5ms/step - loss: 21.5051 - mse: 650.5427\n",
            "Epoch 265/500\n",
            "2/2 [==============================] - 0s 6ms/step - loss: 11.4388 - mse: 198.8676\n",
            "Epoch 266/500\n",
            "2/2 [==============================] - 0s 6ms/step - loss: 13.2732 - mse: 254.5132\n",
            "Epoch 267/500\n",
            "2/2 [==============================] - 0s 6ms/step - loss: 11.0679 - mse: 233.2901\n",
            "Epoch 268/500\n",
            "2/2 [==============================] - 0s 7ms/step - loss: 21.7243 - mse: 674.2050\n",
            "Epoch 269/500\n",
            "2/2 [==============================] - 0s 6ms/step - loss: 32.8943 - mse: 1623.4585\n",
            "Epoch 270/500\n",
            "2/2 [==============================] - 0s 7ms/step - loss: 9.7244 - mse: 131.9633\n",
            "Epoch 271/500\n",
            "2/2 [==============================] - 0s 8ms/step - loss: 7.7083 - mse: 111.8718\n",
            "Epoch 272/500\n",
            "2/2 [==============================] - 0s 7ms/step - loss: 28.5122 - mse: 1116.7910\n",
            "Epoch 273/500\n",
            "2/2 [==============================] - 0s 8ms/step - loss: 7.3716 - mse: 83.3187\n",
            "Epoch 274/500\n",
            "2/2 [==============================] - 0s 6ms/step - loss: 6.3251 - mse: 45.0927\n",
            "Epoch 275/500\n",
            "2/2 [==============================] - 0s 9ms/step - loss: 37.1297 - mse: 2114.5647\n",
            "Epoch 276/500\n",
            "2/2 [==============================] - 0s 8ms/step - loss: 8.2789 - mse: 108.7205\n",
            "Epoch 277/500\n",
            "2/2 [==============================] - 0s 8ms/step - loss: 27.9193 - mse: 1068.7823\n",
            "Epoch 278/500\n",
            "2/2 [==============================] - 0s 8ms/step - loss: 10.6191 - mse: 213.0872\n",
            "Epoch 279/500\n",
            "2/2 [==============================] - 0s 8ms/step - loss: 16.0634 - mse: 386.6715\n",
            "Epoch 280/500\n",
            "2/2 [==============================] - 0s 9ms/step - loss: 21.1471 - mse: 677.1216\n",
            "Epoch 281/500\n",
            "2/2 [==============================] - 0s 11ms/step - loss: 24.0138 - mse: 881.7183\n",
            "Epoch 282/500\n",
            "2/2 [==============================] - 0s 8ms/step - loss: 8.2965 - mse: 97.4001\n",
            "Epoch 283/500\n",
            "2/2 [==============================] - 0s 8ms/step - loss: 9.0396 - mse: 119.2707\n",
            "Epoch 284/500\n",
            "2/2 [==============================] - 0s 8ms/step - loss: 22.9563 - mse: 783.4169\n",
            "Epoch 285/500\n",
            "2/2 [==============================] - 0s 8ms/step - loss: 11.8074 - mse: 225.9565\n",
            "Epoch 286/500\n",
            "2/2 [==============================] - 0s 8ms/step - loss: 6.7302 - mse: 65.9684\n",
            "Epoch 287/500\n",
            "2/2 [==============================] - 0s 8ms/step - loss: 20.9250 - mse: 634.9673\n",
            "Epoch 288/500\n",
            "2/2 [==============================] - 0s 9ms/step - loss: 11.1831 - mse: 202.5090\n",
            "Epoch 289/500\n",
            "2/2 [==============================] - 0s 7ms/step - loss: 12.4231 - mse: 239.9122\n",
            "Epoch 290/500\n",
            "2/2 [==============================] - 0s 6ms/step - loss: 16.9585 - mse: 392.5659\n",
            "Epoch 291/500\n",
            "2/2 [==============================] - 0s 6ms/step - loss: 17.3575 - mse: 445.4279\n",
            "Epoch 292/500\n",
            "2/2 [==============================] - 0s 5ms/step - loss: 11.4583 - mse: 322.6373\n",
            "Epoch 293/500\n",
            "2/2 [==============================] - 0s 5ms/step - loss: 14.2736 - mse: 277.4628\n",
            "Epoch 294/500\n",
            "2/2 [==============================] - 0s 5ms/step - loss: 21.2014 - mse: 695.6265\n",
            "Epoch 295/500\n",
            "2/2 [==============================] - 0s 5ms/step - loss: 15.7388 - mse: 357.4842\n",
            "Epoch 296/500\n",
            "2/2 [==============================] - 0s 4ms/step - loss: 5.8778 - mse: 63.4263\n",
            "Epoch 297/500\n",
            "2/2 [==============================] - 0s 8ms/step - loss: 11.8173 - mse: 249.0609\n",
            "Epoch 298/500\n",
            "2/2 [==============================] - 0s 4ms/step - loss: 23.6543 - mse: 816.1880\n",
            "Epoch 299/500\n",
            "2/2 [==============================] - 0s 5ms/step - loss: 16.6268 - mse: 416.3577\n",
            "Epoch 300/500\n",
            "2/2 [==============================] - 0s 11ms/step - loss: 6.7597 - mse: 54.9382\n",
            "Epoch 301/500\n",
            "2/2 [==============================] - 0s 5ms/step - loss: 23.8665 - mse: 798.8082\n",
            "Epoch 302/500\n",
            "2/2 [==============================] - 0s 5ms/step - loss: 7.9939 - mse: 87.4499\n",
            "Epoch 303/500\n",
            "2/2 [==============================] - 0s 6ms/step - loss: 20.3932 - mse: 610.6639\n",
            "Epoch 304/500\n",
            "2/2 [==============================] - 0s 5ms/step - loss: 13.1547 - mse: 265.1477\n",
            "Epoch 305/500\n",
            "2/2 [==============================] - 0s 6ms/step - loss: 6.9164 - mse: 97.1167\n",
            "Epoch 306/500\n",
            "2/2 [==============================] - 0s 5ms/step - loss: 18.5246 - mse: 479.9386\n",
            "Epoch 307/500\n",
            "2/2 [==============================] - 0s 6ms/step - loss: 9.6488 - mse: 185.4743\n",
            "Epoch 308/500\n",
            "2/2 [==============================] - 0s 5ms/step - loss: 20.2437 - mse: 631.7169\n",
            "Epoch 309/500\n",
            "2/2 [==============================] - 0s 4ms/step - loss: 14.2436 - mse: 309.9421\n",
            "Epoch 310/500\n",
            "2/2 [==============================] - 0s 8ms/step - loss: 5.0939 - mse: 43.9363\n",
            "Epoch 311/500\n",
            "2/2 [==============================] - 0s 5ms/step - loss: 13.8236 - mse: 261.3851\n",
            "Epoch 312/500\n",
            "2/2 [==============================] - 0s 4ms/step - loss: 30.3968 - mse: 1275.2419\n",
            "Epoch 313/500\n",
            "2/2 [==============================] - 0s 5ms/step - loss: 6.9062 - mse: 105.6380\n",
            "Epoch 314/500\n",
            "2/2 [==============================] - 0s 4ms/step - loss: 11.0953 - mse: 282.3362\n",
            "Epoch 315/500\n",
            "2/2 [==============================] - 0s 5ms/step - loss: 23.3515 - mse: 794.5892\n",
            "Epoch 316/500\n",
            "2/2 [==============================] - 0s 4ms/step - loss: 14.7972 - mse: 338.6277\n",
            "Epoch 317/500\n",
            "2/2 [==============================] - 0s 5ms/step - loss: 20.4823 - mse: 573.4232\n",
            "Epoch 318/500\n",
            "2/2 [==============================] - 0s 26ms/step - loss: 8.6400 - mse: 102.4314\n",
            "Epoch 319/500\n",
            "2/2 [==============================] - 0s 6ms/step - loss: 15.1289 - mse: 357.4315\n",
            "Epoch 320/500\n",
            "2/2 [==============================] - 0s 7ms/step - loss: 8.2760 - mse: 98.8006\n",
            "Epoch 321/500\n",
            "2/2 [==============================] - 0s 7ms/step - loss: 14.5342 - mse: 314.0746\n",
            "Epoch 322/500\n",
            "2/2 [==============================] - 0s 8ms/step - loss: 12.8454 - mse: 242.5237\n",
            "Epoch 323/500\n",
            "2/2 [==============================] - 0s 7ms/step - loss: 19.1456 - mse: 562.2271\n",
            "Epoch 324/500\n",
            "2/2 [==============================] - 0s 6ms/step - loss: 16.8996 - mse: 426.9791\n",
            "Epoch 325/500\n",
            "2/2 [==============================] - 0s 6ms/step - loss: 9.3144 - mse: 209.6350\n",
            "Epoch 326/500\n",
            "2/2 [==============================] - 0s 7ms/step - loss: 19.9843 - mse: 608.9792\n",
            "Epoch 327/500\n",
            "2/2 [==============================] - 0s 8ms/step - loss: 27.9431 - mse: 1117.0422\n",
            "Epoch 328/500\n",
            "2/2 [==============================] - 0s 8ms/step - loss: 11.7415 - mse: 229.6281\n",
            "Epoch 329/500\n",
            "2/2 [==============================] - 0s 7ms/step - loss: 16.4271 - mse: 408.5263\n",
            "Epoch 330/500\n",
            "2/2 [==============================] - 0s 8ms/step - loss: 7.2799 - mse: 79.6568\n",
            "Epoch 331/500\n",
            "2/2 [==============================] - 0s 6ms/step - loss: 22.4571 - mse: 774.3476\n",
            "Epoch 332/500\n",
            "2/2 [==============================] - 0s 6ms/step - loss: 13.2636 - mse: 271.3560\n",
            "Epoch 333/500\n",
            "2/2 [==============================] - 0s 5ms/step - loss: 10.0916 - mse: 163.5224\n",
            "Epoch 334/500\n",
            "2/2 [==============================] - 0s 5ms/step - loss: 6.5669 - mse: 93.7016\n",
            "Epoch 335/500\n",
            "2/2 [==============================] - 0s 4ms/step - loss: 6.2470 - mse: 53.9322\n",
            "Epoch 336/500\n",
            "2/2 [==============================] - 0s 8ms/step - loss: 34.4212 - mse: 1926.7598\n",
            "Epoch 337/500\n",
            "2/2 [==============================] - 0s 5ms/step - loss: 26.8587 - mse: 1054.5720\n",
            "Epoch 338/500\n",
            "2/2 [==============================] - 0s 5ms/step - loss: 13.9373 - mse: 294.5218\n",
            "Epoch 339/500\n",
            "2/2 [==============================] - 0s 7ms/step - loss: 11.4885 - mse: 210.9470\n",
            "Epoch 340/500\n",
            "2/2 [==============================] - 0s 4ms/step - loss: 8.8255 - mse: 177.9287\n",
            "Epoch 341/500\n",
            "2/2 [==============================] - 0s 4ms/step - loss: 23.4821 - mse: 800.5014\n",
            "Epoch 342/500\n",
            "2/2 [==============================] - 0s 5ms/step - loss: 13.8435 - mse: 281.9810\n",
            "Epoch 343/500\n",
            "2/2 [==============================] - 0s 4ms/step - loss: 14.8451 - mse: 294.3922\n",
            "Epoch 344/500\n",
            "2/2 [==============================] - 0s 5ms/step - loss: 13.3831 - mse: 274.9102\n",
            "Epoch 345/500\n",
            "2/2 [==============================] - 0s 4ms/step - loss: 31.0341 - mse: 1354.3033\n",
            "Epoch 346/500\n",
            "2/2 [==============================] - 0s 5ms/step - loss: 10.7022 - mse: 251.4694\n",
            "Epoch 347/500\n",
            "2/2 [==============================] - 0s 5ms/step - loss: 25.7375 - mse: 927.3133\n",
            "Epoch 348/500\n",
            "2/2 [==============================] - 0s 4ms/step - loss: 12.8577 - mse: 259.3844\n",
            "Epoch 349/500\n",
            "2/2 [==============================] - 0s 5ms/step - loss: 13.1612 - mse: 249.2910\n",
            "Epoch 350/500\n",
            "2/2 [==============================] - 0s 5ms/step - loss: 15.4345 - mse: 333.1089\n",
            "Epoch 351/500\n",
            "2/2 [==============================] - 0s 4ms/step - loss: 32.9639 - mse: 1524.9448\n",
            "Epoch 352/500\n",
            "2/2 [==============================] - 0s 5ms/step - loss: 14.2023 - mse: 282.7074\n",
            "Epoch 353/500\n",
            "2/2 [==============================] - 0s 12ms/step - loss: 15.9187 - mse: 374.1182\n",
            "Epoch 354/500\n",
            "2/2 [==============================] - 0s 5ms/step - loss: 19.0860 - mse: 534.9125\n",
            "Epoch 355/500\n",
            "2/2 [==============================] - 0s 5ms/step - loss: 34.1239 - mse: 1783.3918\n",
            "Epoch 356/500\n",
            "2/2 [==============================] - 0s 5ms/step - loss: 7.6803 - mse: 90.9426\n",
            "Epoch 357/500\n",
            "2/2 [==============================] - 0s 4ms/step - loss: 25.2320 - mse: 974.3574\n",
            "Epoch 358/500\n",
            "2/2 [==============================] - 0s 5ms/step - loss: 22.6795 - mse: 742.3401\n",
            "Epoch 359/500\n",
            "2/2 [==============================] - 0s 4ms/step - loss: 8.8755 - mse: 198.2765\n",
            "Epoch 360/500\n",
            "2/2 [==============================] - 0s 4ms/step - loss: 21.4713 - mse: 687.3617\n",
            "Epoch 361/500\n",
            "2/2 [==============================] - 0s 7ms/step - loss: 20.6071 - mse: 616.7848\n",
            "Epoch 362/500\n",
            "2/2 [==============================] - 0s 5ms/step - loss: 7.0605 - mse: 69.3867\n",
            "Epoch 363/500\n",
            "2/2 [==============================] - 0s 4ms/step - loss: 25.8099 - mse: 994.6493\n",
            "Epoch 364/500\n",
            "2/2 [==============================] - 0s 5ms/step - loss: 32.2220 - mse: 1527.3346\n",
            "Epoch 365/500\n",
            "2/2 [==============================] - 0s 4ms/step - loss: 10.0181 - mse: 161.6304\n",
            "Epoch 366/500\n",
            "2/2 [==============================] - 0s 4ms/step - loss: 9.6717 - mse: 227.4445\n",
            "Epoch 367/500\n",
            "2/2 [==============================] - 0s 5ms/step - loss: 30.4192 - mse: 1294.7906\n",
            "Epoch 368/500\n",
            "2/2 [==============================] - 0s 4ms/step - loss: 10.5041 - mse: 236.2358\n",
            "Epoch 369/500\n",
            "2/2 [==============================] - 0s 5ms/step - loss: 14.9930 - mse: 330.9744\n",
            "Epoch 370/500\n",
            "2/2 [==============================] - 0s 12ms/step - loss: 14.6598 - mse: 308.1895\n",
            "Epoch 371/500\n",
            "2/2 [==============================] - 0s 5ms/step - loss: 23.3710 - mse: 789.2936\n",
            "Epoch 372/500\n",
            "2/2 [==============================] - 0s 5ms/step - loss: 13.0958 - mse: 290.0777\n",
            "Epoch 373/500\n",
            "2/2 [==============================] - 0s 5ms/step - loss: 9.2519 - mse: 140.5671\n",
            "Epoch 374/500\n",
            "2/2 [==============================] - 0s 5ms/step - loss: 9.6687 - mse: 194.0201\n",
            "Epoch 375/500\n",
            "2/2 [==============================] - 0s 4ms/step - loss: 13.0080 - mse: 238.0838\n",
            "Epoch 376/500\n",
            "2/2 [==============================] - 0s 5ms/step - loss: 14.8908 - mse: 324.9947\n",
            "Epoch 377/500\n",
            "2/2 [==============================] - 0s 8ms/step - loss: 14.7964 - mse: 297.2322\n",
            "Epoch 378/500\n",
            "2/2 [==============================] - 0s 5ms/step - loss: 16.2778 - mse: 418.8388\n",
            "Epoch 379/500\n",
            "2/2 [==============================] - 0s 4ms/step - loss: 20.8384 - mse: 597.1975\n",
            "Epoch 380/500\n",
            "2/2 [==============================] - 0s 5ms/step - loss: 33.5105 - mse: 1682.5931\n",
            "Epoch 381/500\n",
            "2/2 [==============================] - 0s 4ms/step - loss: 8.2104 - mse: 100.4981\n",
            "Epoch 382/500\n",
            "2/2 [==============================] - 0s 5ms/step - loss: 13.0813 - mse: 281.5550\n",
            "Epoch 383/500\n",
            "2/2 [==============================] - 0s 5ms/step - loss: 8.4085 - mse: 126.1185\n",
            "Epoch 384/500\n",
            "2/2 [==============================] - 0s 5ms/step - loss: 7.1192 - mse: 72.3266\n",
            "Epoch 385/500\n",
            "2/2 [==============================] - 0s 5ms/step - loss: 10.9433 - mse: 249.1361\n",
            "Epoch 386/500\n",
            "2/2 [==============================] - 0s 4ms/step - loss: 19.7756 - mse: 602.0855\n",
            "Epoch 387/500\n",
            "2/2 [==============================] - 0s 4ms/step - loss: 24.8391 - mse: 894.6076\n",
            "Epoch 388/500\n",
            "2/2 [==============================] - 0s 5ms/step - loss: 8.7316 - mse: 127.8811\n",
            "Epoch 389/500\n",
            "2/2 [==============================] - 0s 5ms/step - loss: 5.9451 - mse: 47.9662\n",
            "Epoch 390/500\n",
            "2/2 [==============================] - 0s 10ms/step - loss: 24.4137 - mse: 879.0750\n",
            "Epoch 391/500\n",
            "2/2 [==============================] - 0s 8ms/step - loss: 5.9717 - mse: 73.4057\n",
            "Epoch 392/500\n",
            "2/2 [==============================] - 0s 8ms/step - loss: 16.1532 - mse: 369.1764\n",
            "Epoch 393/500\n",
            "2/2 [==============================] - 0s 6ms/step - loss: 6.4943 - mse: 71.4502\n",
            "Epoch 394/500\n",
            "2/2 [==============================] - 0s 5ms/step - loss: 12.5799 - mse: 257.3109\n",
            "Epoch 395/500\n",
            "2/2 [==============================] - 0s 14ms/step - loss: 12.4555 - mse: 256.0825\n",
            "Epoch 396/500\n",
            "2/2 [==============================] - 0s 6ms/step - loss: 7.3614 - mse: 102.4657\n",
            "Epoch 397/500\n",
            "2/2 [==============================] - 0s 7ms/step - loss: 7.6134 - mse: 92.3757\n",
            "Epoch 398/500\n",
            "2/2 [==============================] - 0s 7ms/step - loss: 20.4175 - mse: 577.9042\n",
            "Epoch 399/500\n",
            "2/2 [==============================] - 0s 6ms/step - loss: 5.8943 - mse: 68.7278\n",
            "Epoch 400/500\n",
            "2/2 [==============================] - 0s 7ms/step - loss: 24.5848 - mse: 900.2068\n",
            "Epoch 401/500\n",
            "2/2 [==============================] - 0s 6ms/step - loss: 13.2414 - mse: 287.4136\n",
            "Epoch 402/500\n",
            "2/2 [==============================] - 0s 7ms/step - loss: 8.3801 - mse: 113.9822\n",
            "Epoch 403/500\n",
            "2/2 [==============================] - 0s 7ms/step - loss: 10.2381 - mse: 188.2693\n",
            "Epoch 404/500\n",
            "2/2 [==============================] - 0s 7ms/step - loss: 9.7887 - mse: 185.2114\n",
            "Epoch 405/500\n",
            "2/2 [==============================] - 0s 7ms/step - loss: 6.8975 - mse: 73.2354\n",
            "Epoch 406/500\n",
            "2/2 [==============================] - 0s 8ms/step - loss: 20.2720 - mse: 618.6371\n",
            "Epoch 407/500\n",
            "2/2 [==============================] - 0s 5ms/step - loss: 9.6436 - mse: 236.3990\n",
            "Epoch 408/500\n",
            "2/2 [==============================] - 0s 7ms/step - loss: 21.1894 - mse: 685.3178\n",
            "Epoch 409/500\n",
            "2/2 [==============================] - 0s 6ms/step - loss: 29.9940 - mse: 1386.6117\n",
            "Epoch 410/500\n",
            "2/2 [==============================] - 0s 6ms/step - loss: 9.9040 - mse: 238.8526\n",
            "Epoch 411/500\n",
            "2/2 [==============================] - 0s 10ms/step - loss: 14.7625 - mse: 282.7322\n",
            "Epoch 412/500\n",
            "2/2 [==============================] - 0s 7ms/step - loss: 21.5493 - mse: 711.1866\n",
            "Epoch 413/500\n",
            "2/2 [==============================] - 0s 7ms/step - loss: 13.1419 - mse: 267.5406\n",
            "Epoch 414/500\n",
            "2/2 [==============================] - 0s 7ms/step - loss: 8.2780 - mse: 182.9666\n",
            "Epoch 415/500\n",
            "2/2 [==============================] - 0s 6ms/step - loss: 11.6947 - mse: 242.2411\n",
            "Epoch 416/500\n",
            "2/2 [==============================] - 0s 8ms/step - loss: 25.6144 - mse: 913.1911\n",
            "Epoch 417/500\n",
            "2/2 [==============================] - 0s 7ms/step - loss: 15.7584 - mse: 378.7027\n",
            "Epoch 418/500\n",
            "2/2 [==============================] - 0s 8ms/step - loss: 12.5770 - mse: 232.2034\n",
            "Epoch 419/500\n",
            "2/2 [==============================] - 0s 8ms/step - loss: 15.7276 - mse: 360.7640\n",
            "Epoch 420/500\n",
            "2/2 [==============================] - 0s 7ms/step - loss: 24.4270 - mse: 829.2906\n",
            "Epoch 421/500\n",
            "2/2 [==============================] - 0s 5ms/step - loss: 18.2785 - mse: 487.0597\n",
            "Epoch 422/500\n",
            "2/2 [==============================] - 0s 6ms/step - loss: 8.6571 - mse: 202.9489\n",
            "Epoch 423/500\n",
            "2/2 [==============================] - 0s 5ms/step - loss: 24.6381 - mse: 860.4052\n",
            "Epoch 424/500\n",
            "2/2 [==============================] - 0s 4ms/step - loss: 16.8746 - mse: 438.7954\n",
            "Epoch 425/500\n",
            "2/2 [==============================] - 0s 10ms/step - loss: 7.3507 - mse: 78.4120\n",
            "Epoch 426/500\n",
            "2/2 [==============================] - 0s 6ms/step - loss: 21.0621 - mse: 614.0110\n",
            "Epoch 427/500\n",
            "2/2 [==============================] - 0s 5ms/step - loss: 6.5274 - mse: 82.6752\n",
            "Epoch 428/500\n",
            "2/2 [==============================] - 0s 6ms/step - loss: 13.4887 - mse: 300.2080\n",
            "Epoch 429/500\n",
            "2/2 [==============================] - 0s 5ms/step - loss: 11.2121 - mse: 202.3990\n",
            "Epoch 430/500\n",
            "2/2 [==============================] - 0s 4ms/step - loss: 12.1138 - mse: 274.1143\n",
            "Epoch 431/500\n",
            "2/2 [==============================] - 0s 7ms/step - loss: 9.1176 - mse: 164.3078\n",
            "Epoch 432/500\n",
            "2/2 [==============================] - 0s 5ms/step - loss: 15.6471 - mse: 370.7678\n",
            "Epoch 433/500\n",
            "2/2 [==============================] - 0s 6ms/step - loss: 11.9610 - mse: 298.6839\n",
            "Epoch 434/500\n",
            "2/2 [==============================] - 0s 4ms/step - loss: 30.4708 - mse: 1302.2854\n",
            "Epoch 435/500\n",
            "2/2 [==============================] - 0s 4ms/step - loss: 10.5323 - mse: 276.2410\n",
            "Epoch 436/500\n",
            "2/2 [==============================] - 0s 4ms/step - loss: 28.9655 - mse: 1222.5087\n",
            "Epoch 437/500\n",
            "2/2 [==============================] - 0s 4ms/step - loss: 8.6946 - mse: 205.5917\n",
            "Epoch 438/500\n",
            "2/2 [==============================] - 0s 5ms/step - loss: 12.7553 - mse: 260.3551\n",
            "Epoch 439/500\n",
            "2/2 [==============================] - 0s 5ms/step - loss: 33.7270 - mse: 1574.8926\n",
            "Epoch 440/500\n",
            "2/2 [==============================] - 0s 5ms/step - loss: 15.1735 - mse: 297.9069\n",
            "Epoch 441/500\n",
            "2/2 [==============================] - 0s 4ms/step - loss: 17.5385 - mse: 493.0952\n",
            "Epoch 442/500\n",
            "2/2 [==============================] - 0s 5ms/step - loss: 22.4291 - mse: 757.9011\n",
            "Epoch 443/500\n",
            "2/2 [==============================] - 0s 4ms/step - loss: 23.2869 - mse: 763.4280\n",
            "Epoch 444/500\n",
            "2/2 [==============================] - 0s 9ms/step - loss: 10.7593 - mse: 197.7619\n",
            "Epoch 445/500\n",
            "2/2 [==============================] - 0s 5ms/step - loss: 14.9876 - mse: 320.5495\n",
            "Epoch 446/500\n",
            "2/2 [==============================] - 0s 4ms/step - loss: 18.1002 - mse: 521.5393\n",
            "Epoch 447/500\n",
            "2/2 [==============================] - 0s 7ms/step - loss: 5.3366 - mse: 51.3390\n",
            "Epoch 448/500\n",
            "2/2 [==============================] - 0s 5ms/step - loss: 10.1456 - mse: 249.8813\n",
            "Epoch 449/500\n",
            "2/2 [==============================] - 0s 4ms/step - loss: 14.0793 - mse: 279.2167\n",
            "Epoch 450/500\n",
            "2/2 [==============================] - 0s 5ms/step - loss: 16.8498 - mse: 429.5360\n",
            "Epoch 451/500\n",
            "2/2 [==============================] - 0s 4ms/step - loss: 14.3229 - mse: 306.6644\n",
            "Epoch 452/500\n",
            "2/2 [==============================] - 0s 5ms/step - loss: 30.6834 - mse: 1334.9674\n",
            "Epoch 453/500\n",
            "2/2 [==============================] - 0s 4ms/step - loss: 8.4009 - mse: 202.0730\n",
            "Epoch 454/500\n",
            "2/2 [==============================] - 0s 5ms/step - loss: 27.5900 - mse: 1064.0176\n",
            "Epoch 455/500\n",
            "2/2 [==============================] - 0s 8ms/step - loss: 10.0908 - mse: 192.5377\n",
            "Epoch 456/500\n",
            "2/2 [==============================] - 0s 5ms/step - loss: 14.5462 - mse: 287.4744\n",
            "Epoch 457/500\n",
            "2/2 [==============================] - 0s 11ms/step - loss: 17.6970 - mse: 476.9364\n",
            "Epoch 458/500\n",
            "2/2 [==============================] - 0s 5ms/step - loss: 14.0113 - mse: 269.7751\n",
            "Epoch 459/500\n",
            "2/2 [==============================] - 0s 5ms/step - loss: 25.8950 - mse: 968.2904\n",
            "Epoch 460/500\n",
            "2/2 [==============================] - 0s 4ms/step - loss: 15.0603 - mse: 336.9530\n",
            "Epoch 461/500\n",
            "2/2 [==============================] - 0s 5ms/step - loss: 11.9197 - mse: 264.9500\n",
            "Epoch 462/500\n",
            "2/2 [==============================] - 0s 4ms/step - loss: 13.2685 - mse: 243.7349\n",
            "Epoch 463/500\n",
            "2/2 [==============================] - 0s 4ms/step - loss: 29.4505 - mse: 1211.9821\n",
            "Epoch 464/500\n",
            "2/2 [==============================] - 0s 4ms/step - loss: 3.2600 - mse: 15.5280\n",
            "Epoch 465/500\n",
            "2/2 [==============================] - 0s 5ms/step - loss: 40.3677 - mse: 2608.7717\n",
            "Epoch 466/500\n",
            "2/2 [==============================] - 0s 4ms/step - loss: 18.4317 - mse: 483.4871\n",
            "Epoch 467/500\n",
            "2/2 [==============================] - 0s 4ms/step - loss: 8.5989 - mse: 131.6560\n",
            "Epoch 468/500\n",
            "2/2 [==============================] - 0s 5ms/step - loss: 6.6506 - mse: 70.7601\n",
            "Epoch 469/500\n",
            "2/2 [==============================] - 0s 4ms/step - loss: 29.5241 - mse: 1296.2322\n",
            "Epoch 470/500\n",
            "2/2 [==============================] - 0s 4ms/step - loss: 15.3652 - mse: 361.6753\n",
            "Epoch 471/500\n",
            "2/2 [==============================] - 0s 12ms/step - loss: 12.2781 - mse: 256.8865\n",
            "Epoch 472/500\n",
            "2/2 [==============================] - 0s 4ms/step - loss: 15.4595 - mse: 338.4069\n",
            "Epoch 473/500\n",
            "2/2 [==============================] - 0s 4ms/step - loss: 19.4331 - mse: 572.4615\n",
            "Epoch 474/500\n",
            "2/2 [==============================] - 0s 4ms/step - loss: 38.6142 - mse: 2312.7898\n",
            "Epoch 475/500\n",
            "2/2 [==============================] - 0s 5ms/step - loss: 15.5885 - mse: 354.2759\n",
            "Epoch 476/500\n",
            "2/2 [==============================] - 0s 4ms/step - loss: 13.5059 - mse: 249.9473\n",
            "Epoch 477/500\n",
            "2/2 [==============================] - 0s 5ms/step - loss: 29.8805 - mse: 1245.8420\n",
            "Epoch 478/500\n",
            "2/2 [==============================] - 0s 4ms/step - loss: 4.8553 - mse: 62.5403\n",
            "Epoch 479/500\n",
            "2/2 [==============================] - 0s 7ms/step - loss: 13.0409 - mse: 260.0926\n",
            "Epoch 480/500\n",
            "2/2 [==============================] - 0s 5ms/step - loss: 19.2275 - mse: 578.4552\n",
            "Epoch 481/500\n",
            "2/2 [==============================] - 0s 8ms/step - loss: 13.0147 - mse: 280.1529\n",
            "Epoch 482/500\n",
            "2/2 [==============================] - 0s 4ms/step - loss: 6.8125 - mse: 94.1506\n",
            "Epoch 483/500\n",
            "2/2 [==============================] - 0s 4ms/step - loss: 13.1679 - mse: 274.7706\n",
            "Epoch 484/500\n",
            "2/2 [==============================] - 0s 4ms/step - loss: 14.0387 - mse: 297.5944\n",
            "Epoch 485/500\n",
            "2/2 [==============================] - 0s 5ms/step - loss: 9.3098 - mse: 256.4904\n",
            "Epoch 486/500\n",
            "2/2 [==============================] - 0s 4ms/step - loss: 18.4934 - mse: 522.5380\n",
            "Epoch 487/500\n",
            "2/2 [==============================] - 0s 5ms/step - loss: 6.2320 - mse: 74.0266\n",
            "Epoch 488/500\n",
            "2/2 [==============================] - 0s 4ms/step - loss: 29.5233 - mse: 1277.1986\n",
            "Epoch 489/500\n",
            "2/2 [==============================] - 0s 4ms/step - loss: 12.7531 - mse: 240.0742\n",
            "Epoch 490/500\n",
            "2/2 [==============================] - 0s 4ms/step - loss: 13.1513 - mse: 248.1812\n",
            "Epoch 491/500\n",
            "2/2 [==============================] - 0s 4ms/step - loss: 24.4569 - mse: 888.9951\n",
            "Epoch 492/500\n",
            "2/2 [==============================] - 0s 6ms/step - loss: 18.4078 - mse: 480.7847\n",
            "Epoch 493/500\n",
            "2/2 [==============================] - 0s 4ms/step - loss: 4.7297 - mse: 51.7509\n",
            "Epoch 494/500\n",
            "2/2 [==============================] - 0s 5ms/step - loss: 11.7971 - mse: 219.6926\n",
            "Epoch 495/500\n",
            "2/2 [==============================] - 0s 12ms/step - loss: 13.7933 - mse: 256.5275\n",
            "Epoch 496/500\n",
            "2/2 [==============================] - 0s 5ms/step - loss: 12.9635 - mse: 243.1916\n",
            "Epoch 497/500\n",
            "2/2 [==============================] - 0s 4ms/step - loss: 18.1394 - mse: 540.1638\n",
            "Epoch 498/500\n",
            "2/2 [==============================] - 0s 4ms/step - loss: 22.3911 - mse: 730.1709\n",
            "Epoch 499/500\n",
            "2/2 [==============================] - 0s 5ms/step - loss: 8.2324 - mse: 107.4329\n",
            "Epoch 500/500\n",
            "2/2 [==============================] - 0s 4ms/step - loss: 14.1702 - mse: 262.4172\n"
          ]
        },
        {
          "output_type": "execute_result",
          "data": {
            "text/plain": [
              "<keras.callbacks.History at 0x7fb0f62d9b10>"
            ]
          },
          "metadata": {},
          "execution_count": 54
        }
      ]
    },
    {
      "cell_type": "code",
      "source": [
        "y_preds_4 = model4.predict(X_test)\n",
        "plot_pred(predictions=y_preds_4)"
      ],
      "metadata": {
        "colab": {
          "base_uri": "https://localhost:8080/",
          "height": 446
        },
        "id": "L4yvtmwPMkpi",
        "outputId": "5f7a18b6-927f-4162-816b-319b72e08515"
      },
      "execution_count": 55,
      "outputs": [
        {
          "output_type": "stream",
          "name": "stdout",
          "text": [
            "1/1 [==============================] - 0s 80ms/step\n"
          ]
        },
        {
          "output_type": "display_data",
          "data": {
            "text/plain": [
              "<Figure size 720x504 with 1 Axes>"
            ],
            "image/png": "[encoded data removed]"
          },
          "metadata": {
            "needs_background": "light"
          }
        }
      ]
    },
    {
      "cell_type": "code",
      "source": [
        "mae4 = mae(y_test, y_preds_4)\n",
        "mse4 = mse(y_test, y_preds_4)\n",
        "\n",
        "mae4, mse4"
      ],
      "metadata": {
        "colab": {
          "base_uri": "https://localhost:8080/"
        },
        "id": "1xPauJX1Un3E",
        "outputId": "8922d369-3830-4292-c975-65d930c036a3"
      },
      "execution_count": 57,
      "outputs": [
        {
          "output_type": "execute_result",
          "data": {
            "text/plain": [
              "(<tf.Tensor: shape=(), dtype=float32, numpy=67.21916>,\n",
              " <tf.Tensor: shape=(), dtype=float32, numpy=4601.055>)"
            ]
          },
          "metadata": {},
          "execution_count": 57
        }
      ]
    },
    {
      "cell_type": "code",
      "source": [
        "#compare models using pd dataframe\n",
        "import pandas as pd\n",
        "model_results = [['model_!', mae1.numpy(), mse1.numpy()],\n",
        "                 ['model_2', mae2.numpy(), mse2.numpy()],\n",
        "                 ['model_3', mae3.numpy(), mse3.numpy()],\n",
        "                 ['model_4', mae4.numpy(), mse4.numpy()]]\n",
        "\n",
        "all_results = pd.DataFrame(model_results, columns = ['Model', 'mae', 'mse'])\n",
        "\n",
        "all_results"
      ],
      "metadata": {
        "colab": {
          "base_uri": "https://localhost:8080/",
          "height": 175
        },
        "id": "_hbFX2VYNwyK",
        "outputId": "27e16134-0b9e-4789-e46d-9448ecb68d2f"
      },
      "execution_count": 59,
      "outputs": [
        {
          "output_type": "execute_result",
          "data": {
            "text/plain": [
              "     Model        mae          mse\n",
              "0  model_!  18.745327   353.573395\n",
              "1  model_2  43.088699  1882.505859\n",
              "2  model_3  75.721840  5830.151367\n",
              "3  model_4  67.219162  4601.055176"
            ],
            "text/html": [
              "\n",
              "  <div id=\"df-84c9f609-4cd5-4b1d-8771-401c7af817b8\">\n",
              "    <div class=\"colab-df-container\">\n",
              "      <div>\n",
              "<style scoped>\n",
              "    .dataframe tbody tr th:only-of-type {\n",
              "        vertical-align: middle;\n",
              "    }\n",
              "\n",
              "    .dataframe tbody tr th {\n",
              "        vertical-align: top;\n",
              "    }\n",
              "\n",
              "    .dataframe thead th {\n",
              "        text-align: right;\n",
              "    }\n",
              "</style>\n",
              "<table border=\"1\" class=\"dataframe\">\n",
              "  <thead>\n",
              "    <tr style=\"text-align: right;\">\n",
              "      <th></th>\n",
              "      <th>Model</th>\n",
              "      <th>mae</th>\n",
              "      <th>mse</th>\n",
              "    </tr>\n",
              "  </thead>\n",
              "  <tbody>\n",
              "    <tr>\n",
              "      <th>0</th>\n",
              "      <td>model_!</td>\n",
              "      <td>18.745327</td>\n",
              "      <td>353.573395</td>\n",
              "    </tr>\n",
              "    <tr>\n",
              "      <th>1</th>\n",
              "      <td>model_2</td>\n",
              "      <td>43.088699</td>\n",
              "      <td>1882.505859</td>\n",
              "    </tr>\n",
              "    <tr>\n",
              "      <th>2</th>\n",
              "      <td>model_3</td>\n",
              "      <td>75.721840</td>\n",
              "      <td>5830.151367</td>\n",
              "    </tr>\n",
              "    <tr>\n",
              "      <th>3</th>\n",
              "      <td>model_4</td>\n",
              "      <td>67.219162</td>\n",
              "      <td>4601.055176</td>\n",
              "    </tr>\n",
              "  </tbody>\n",
              "</table>\n",
              "</div>\n",
              "      <button class=\"colab-df-convert\" onclick=\"convertToInteractive('df-84c9f609-4cd5-4b1d-8771-401c7af817b8')\"\n",
              "              title=\"Convert this dataframe to an interactive table.\"\n",
              "              style=\"display:none;\">\n",
              "        \n",
              "  <svg xmlns=\"http://www.w3.org/2000/svg\" height=\"24px\"viewBox=\"0 0 24 24\"\n",
              "       width=\"24px\">\n",
              "    <path d=\"M0 0h24v24H0V0z\" fill=\"none\"/>\n",
              "    <path d=\"M18.56 5.44l.94 2.06.94-2.06 2.06-.94-2.06-.94-.94-2.06-.94 2.06-2.06.94zm-11 1L8.5 8.5l.94-2.06 2.06-.94-2.06-.94L8.5 2.5l-.94 2.06-2.06.94zm10 10l.94 2.06.94-2.06 2.06-.94-2.06-.94-.94-2.06-.94 2.06-2.06.94z\"/><path d=\"M17.41 7.96l-1.37-1.37c-.4-.4-.92-.59-1.43-.59-.52 0-1.04.2-1.43.59L10.3 9.45l-7.72 7.72c-.78.78-.78 2.05 0 2.83L4 21.41c.39.39.9.59 1.41.59.51 0 1.02-.2 1.41-.59l7.78-7.78 2.81-2.81c.8-.78.8-2.07 0-2.86zM5.41 20L4 18.59l7.72-7.72 1.47 1.35L5.41 20z\"/>\n",
              "  </svg>\n",
              "      </button>\n",
              "      \n",
              "  <style>\n",
              "    .colab-df-container {\n",
              "      display:flex;\n",
              "      flex-wrap:wrap;\n",
              "      gap: 12px;\n",
              "    }\n",
              "\n",
              "    .colab-df-convert {\n",
              "      background-color: #E8F0FE;\n",
              "      border: none;\n",
              "      border-radius: 50%;\n",
              "      cursor: pointer;\n",
              "      display: none;\n",
              "      fill: #1967D2;\n",
              "      height: 32px;\n",
              "      padding: 0 0 0 0;\n",
              "      width: 32px;\n",
              "    }\n",
              "\n",
              "    .colab-df-convert:hover {\n",
              "      background-color: #E2EBFA;\n",
              "      box-shadow: 0px 1px 2px rgba(60, 64, 67, 0.3), 0px 1px 3px 1px rgba(60, 64, 67, 0.15);\n",
              "      fill: #174EA6;\n",
              "    }\n",
              "\n",
              "    [theme=dark] .colab-df-convert {\n",
              "      background-color: #3B4455;\n",
              "      fill: #D2E3FC;\n",
              "    }\n",
              "\n",
              "    [theme=dark] .colab-df-convert:hover {\n",
              "      background-color: #434B5C;\n",
              "      box-shadow: 0px 1px 3px 1px rgba(0, 0, 0, 0.15);\n",
              "      filter: drop-shadow(0px 1px 2px rgba(0, 0, 0, 0.3));\n",
              "      fill: #FFFFFF;\n",
              "    }\n",
              "  </style>\n",
              "\n",
              "      <script>\n",
              "        const buttonEl =\n",
              "          document.querySelector('#df-84c9f609-4cd5-4b1d-8771-401c7af817b8 button.colab-df-convert');\n",
              "        buttonEl.style.display =\n",
              "          google.colab.kernel.accessAllowed ? 'block' : 'none';\n",
              "\n",
              "        async function convertToInteractive(key) {\n",
              "          const element = document.querySelector('#df-84c9f609-4cd5-4b1d-8771-401c7af817b8');\n",
              "          const dataTable =\n",
              "            await google.colab.kernel.invokeFunction('convertToInteractive',\n",
              "                                                     [key], {});\n",
              "          if (!dataTable) return;\n",
              "\n",
              "          const docLinkHtml = 'Like what you see? Visit the ' +\n",
              "            '<a target=\"_blank\" href=https://colab.research.google.com/notebooks/data_table.ipynb>data table notebook</a>'\n",
              "            + ' to learn more about interactive tables.';\n",
              "          element.innerHTML = '';\n",
              "          dataTable['output_type'] = 'display_data';\n",
              "          await google.colab.output.renderOutput(dataTable, element);\n",
              "          const docLink = document.createElement('div');\n",
              "          docLink.innerHTML = docLinkHtml;\n",
              "          element.appendChild(docLink);\n",
              "        }\n",
              "      </script>\n",
              "    </div>\n",
              "  </div>\n",
              "  "
            ]
          },
          "metadata": {},
          "execution_count": 59
        }
      ]
    },
    {
      "cell_type": "markdown",
      "source": [
        "Alwasy track your experiements\n",
        "\n",
        "one really good habit in machine learning is modelling to track results\n",
        "\n",
        "Tools to help track modeling experiments\n",
        "\n",
        "* TensorBoard - a compenent of the TF library to help track model experiments\n",
        "* Weights and biases - a tool \n",
        "\n",
        "\n",
        "### Saving a model \n",
        "\n",
        "Saving models allow us to use them outside of where they are created such as a web app of a mobile app\n",
        "\n",
        "There are two main formats to save a model:\n",
        "\n",
        "1. the SavedModel format\n",
        "2. the HDF5 format\n",
        "\n"
      ],
      "metadata": {
        "id": "Kc17uvjYWN2G"
      }
    },
    {
      "cell_type": "code",
      "source": [
        "model1.save('test_saving_a_model')"
      ],
      "metadata": {
        "id": "OgJxvaLFYrsK"
      },
      "execution_count": 61,
      "outputs": []
    },
    {
      "cell_type": "code",
      "source": [
        "model1.save('test_model_in_HDF5.H5')"
      ],
      "metadata": {
        "id": "LWynJmi7Yrpz"
      },
      "execution_count": 62,
      "outputs": []
    },
    {
      "cell_type": "code",
      "source": [
        "#loading in a saved model format\n",
        "loaded_SavedModel_format = tf.keras.models.load_model('/content/test_saving_a_model')\n",
        "loaded_SavedModel_format.summary()"
      ],
      "metadata": {
        "colab": {
          "base_uri": "https://localhost:8080/"
        },
        "id": "aPYu_rFDYrnj",
        "outputId": "38ac2bdd-2761-4c06-95d9-73180bbbfb7d"
      },
      "execution_count": 65,
      "outputs": [
        {
          "output_type": "stream",
          "name": "stdout",
          "text": [
            "Model: \"sequential_7\"\n",
            "_________________________________________________________________\n",
            " Layer (type)                Output Shape              Param #   \n",
            "=================================================================\n",
            " dense_10 (Dense)            (None, 1)                 2         \n",
            "                                                                 \n",
            "=================================================================\n",
            "Total params: 2\n",
            "Trainable params: 2\n",
            "Non-trainable params: 0\n",
            "_________________________________________________________________\n"
          ]
        }
      ]
    },
    {
      "cell_type": "code",
      "source": [
        "#compare the regular model to the saved model to see if they are same\n",
        "model_1_preds = model1.predict(X_test)\n",
        "loaded_model_preds = loaded_SavedModel_format.predict(X_test)\n",
        "model_1_preds == loaded_model_preds"
      ],
      "metadata": {
        "colab": {
          "base_uri": "https://localhost:8080/"
        },
        "id": "ci1v7cyKYrlY",
        "outputId": "c5893db6-f38d-4c4b-b107-5bf7e2701c79"
      },
      "execution_count": 66,
      "outputs": [
        {
          "output_type": "stream",
          "name": "stdout",
          "text": [
            "1/1 [==============================] - 0s 23ms/step\n",
            "1/1 [==============================] - 0s 32ms/step\n"
          ]
        },
        {
          "output_type": "execute_result",
          "data": {
            "text/plain": [
              "array([[ True],\n",
              "       [ True],\n",
              "       [ True],\n",
              "       [ True],\n",
              "       [ True],\n",
              "       [ True],\n",
              "       [ True],\n",
              "       [ True],\n",
              "       [ True],\n",
              "       [ True]])"
            ]
          },
          "metadata": {},
          "execution_count": 66
        }
      ]
    },
    {
      "cell_type": "code",
      "source": [
        "load_H5 = tf.keras.models.load_model('/content/test_model_in_HDF5.H5')"
      ],
      "metadata": {
        "id": "faTFwRYdUNBo"
      },
      "execution_count": 70,
      "outputs": []
    },
    {
      "cell_type": "code",
      "source": [
        "load_H5.summary()"
      ],
      "metadata": {
        "colab": {
          "base_uri": "https://localhost:8080/"
        },
        "id": "mBBdbsmgdjhe",
        "outputId": "253766a2-787e-4662-e799-858013aa61ba"
      },
      "execution_count": 71,
      "outputs": [
        {
          "output_type": "stream",
          "name": "stdout",
          "text": [
            "Model: \"sequential_7\"\n",
            "_________________________________________________________________\n",
            " Layer (type)                Output Shape              Param #   \n",
            "=================================================================\n",
            " dense_10 (Dense)            (None, 1)                 2         \n",
            "                                                                 \n",
            "=================================================================\n",
            "Total params: 2\n",
            "Trainable params: 2\n",
            "Non-trainable params: 0\n",
            "_________________________________________________________________\n"
          ]
        }
      ]
    },
    {
      "cell_type": "code",
      "source": [
        "h5_preds = load_H5.predict(X_test)\n",
        "\n",
        "model_1_preds == h5_preds"
      ],
      "metadata": {
        "colab": {
          "base_uri": "https://localhost:8080/"
        },
        "id": "uYJnO3XldwjT",
        "outputId": "37f2018f-d836-45fc-a16a-371c3a002e0a"
      },
      "execution_count": 72,
      "outputs": [
        {
          "output_type": "stream",
          "name": "stdout",
          "text": [
            "1/1 [==============================] - 0s 36ms/step\n"
          ]
        },
        {
          "output_type": "execute_result",
          "data": {
            "text/plain": [
              "array([[ True],\n",
              "       [ True],\n",
              "       [ True],\n",
              "       [ True],\n",
              "       [ True],\n",
              "       [ True],\n",
              "       [ True],\n",
              "       [ True],\n",
              "       [ True],\n",
              "       [ True]])"
            ]
          },
          "metadata": {},
          "execution_count": 72
        }
      ]
    },
    {
      "cell_type": "code",
      "source": [],
      "metadata": {
        "id": "JQrHzyW9d5NO"
      },
      "execution_count": null,
      "outputs": []
    }
  ]
}