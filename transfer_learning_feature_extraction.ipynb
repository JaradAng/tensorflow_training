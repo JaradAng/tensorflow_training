{
  "nbformat": 4,
  "nbformat_minor": 0,
  "metadata": {
    "colab": {
      "provenance": [],
      "authorship_tag": "ABX9TyOM3D7z0uxSjxXLrpOReZYk",
      "include_colab_link": true
    },
    "kernelspec": {
      "name": "python3",
      "display_name": "Python 3"
    },
    "language_info": {
      "name": "python"
    },
    "accelerator": "GPU",
    "gpuClass": "standard"
  },
  "cells": [
    {
      "cell_type": "markdown",
      "metadata": {
        "id": "view-in-github",
        "colab_type": "text"
      },
      "source": [
        "<a href=\"https://colab.research.google.com/github/JaradAng/tensorflow_training/blob/main/transfer_learning_feature_extraction.ipynb\" target=\"_parent\"><img src=\"https://colab.research.google.com/assets/colab-badge.svg\" alt=\"Open In Colab\"/></a>"
      ]
    },
    {
      "cell_type": "markdown",
      "source": [
        "# Exploring transfer learning and Featrure extraction\n",
        "\n",
        "transfer learning is leveraging a working models existing architecture and learned patterns for our own problem\n",
        "\n",
        "two benefits:\n",
        "1. can leverage an existing nueral network proven to work on similar problems\n",
        "can levelage working architecture patterns and adapt those on our own."
      ],
      "metadata": {
        "id": "P-Y2iMnd9m7a"
      }
    },
    {
      "cell_type": "code",
      "execution_count": 1,
      "metadata": {
        "colab": {
          "base_uri": "https://localhost:8080/"
        },
        "id": "v0U4qqeQ1qI0",
        "outputId": "a81d8319-2604-4e1a-b13d-b36b84435230"
      },
      "outputs": [
        {
          "output_type": "stream",
          "name": "stdout",
          "text": [
            "--2022-12-11 15:42:51--  https://storage.googleapis.com/ztm_tf_course/food_vision/10_food_classes_10_percent.zip\n",
            "Resolving storage.googleapis.com (storage.googleapis.com)... 74.125.68.128, 142.250.4.128, 74.125.24.128, ...\n",
            "Connecting to storage.googleapis.com (storage.googleapis.com)|74.125.68.128|:443... connected.\n",
            "HTTP request sent, awaiting response... 200 OK\n",
            "Length: 168546183 (161M) [application/zip]\n",
            "Saving to: ‘10_food_classes_10_percent.zip’\n",
            "\n",
            "10_food_classes_10_ 100%[===================>] 160.74M  23.3MB/s    in 8.2s    \n",
            "\n",
            "2022-12-11 15:43:00 (19.6 MB/s) - ‘10_food_classes_10_percent.zip’ saved [168546183/168546183]\n",
            "\n"
          ]
        }
      ],
      "source": [
        "#downloadin the data into the notebook\n",
        "\n",
        "import zipfile\n",
        "#download the data\n",
        "\n",
        "!wget https://storage.googleapis.com/ztm_tf_course/food_vision/10_food_classes_10_percent.zip\n",
        "\n",
        "#unip\n",
        "zip_ref = zipfile.ZipFile('10_food_classes_10_percent.zip')\n",
        "zip_ref.extractall()\n",
        "zip_ref.close()\n"
      ]
    },
    {
      "cell_type": "code",
      "source": [
        "import os\n",
        "\n",
        "#walk through data\n",
        "for dirpath, dirnames, filenames in os.walk('10_food_classes_10_percent'):\n",
        "  print(f'there are {len(dirnames)} directories and {len(filenames)} images in {dirpath}')"
      ],
      "metadata": {
        "colab": {
          "base_uri": "https://localhost:8080/"
        },
        "id": "2jZceQ_I-qlo",
        "outputId": "c94a48b3-2246-4156-fb76-fe799ea106bd"
      },
      "execution_count": 2,
      "outputs": [
        {
          "output_type": "stream",
          "name": "stdout",
          "text": [
            "there are 2 directories and 0 images in 10_food_classes_10_percent\n",
            "there are 10 directories and 0 images in 10_food_classes_10_percent/test\n",
            "there are 0 directories and 250 images in 10_food_classes_10_percent/test/grilled_salmon\n",
            "there are 0 directories and 250 images in 10_food_classes_10_percent/test/hamburger\n",
            "there are 0 directories and 250 images in 10_food_classes_10_percent/test/chicken_wings\n",
            "there are 0 directories and 250 images in 10_food_classes_10_percent/test/sushi\n",
            "there are 0 directories and 250 images in 10_food_classes_10_percent/test/ramen\n",
            "there are 0 directories and 250 images in 10_food_classes_10_percent/test/ice_cream\n",
            "there are 0 directories and 250 images in 10_food_classes_10_percent/test/fried_rice\n",
            "there are 0 directories and 250 images in 10_food_classes_10_percent/test/pizza\n",
            "there are 0 directories and 250 images in 10_food_classes_10_percent/test/chicken_curry\n",
            "there are 0 directories and 250 images in 10_food_classes_10_percent/test/steak\n",
            "there are 10 directories and 0 images in 10_food_classes_10_percent/train\n",
            "there are 0 directories and 75 images in 10_food_classes_10_percent/train/grilled_salmon\n",
            "there are 0 directories and 75 images in 10_food_classes_10_percent/train/hamburger\n",
            "there are 0 directories and 75 images in 10_food_classes_10_percent/train/chicken_wings\n",
            "there are 0 directories and 75 images in 10_food_classes_10_percent/train/sushi\n",
            "there are 0 directories and 75 images in 10_food_classes_10_percent/train/ramen\n",
            "there are 0 directories and 75 images in 10_food_classes_10_percent/train/ice_cream\n",
            "there are 0 directories and 75 images in 10_food_classes_10_percent/train/fried_rice\n",
            "there are 0 directories and 75 images in 10_food_classes_10_percent/train/pizza\n",
            "there are 0 directories and 75 images in 10_food_classes_10_percent/train/chicken_curry\n",
            "there are 0 directories and 75 images in 10_food_classes_10_percent/train/steak\n"
          ]
        }
      ]
    },
    {
      "cell_type": "code",
      "source": [
        "#creating data loadeds\n",
        "#create train and test data generators and rescale the data\n",
        "from tensorflow.keras.preprocessing.image import ImageDataGenerator\n",
        "\n",
        "IMAGE_SHAPE = (224, 224)\n",
        "BATCH_SIZE = 32\n",
        "\n",
        "train_dir = '/content/10_food_classes_10_percent/train'\n",
        "\n",
        "test_dir = '/content/10_food_classes_10_percent/test'\n",
        "\n",
        "train_datagen = ImageDataGenerator(rescale= 1/255.)\n",
        "\n",
        "test_datagen = ImageDataGenerator(rescale = 1/255.)\n",
        "\n",
        "train_data_10_percent = train_datagen.flow_from_directory(train_dir,\n",
        "                                                          target_size = IMAGE_SHAPE,\n",
        "                                                          batch_size= BATCH_SIZE,\n",
        "                                                          class_mode= 'categorical')\n",
        "\n",
        "\n",
        "test_data= test_datagen.flow_from_directory(test_dir,\n",
        "                                            batch_size=BATCH_SIZE,\n",
        "                                            class_mode='categorical')\n"
      ],
      "metadata": {
        "colab": {
          "base_uri": "https://localhost:8080/"
        },
        "id": "07aPEKnYAP41",
        "outputId": "a50ea681-7fef-4b24-c32a-b338b9917d54"
      },
      "execution_count": 14,
      "outputs": [
        {
          "output_type": "stream",
          "name": "stdout",
          "text": [
            "Found 750 images belonging to 10 classes.\n",
            "Found 2500 images belonging to 10 classes.\n"
          ]
        }
      ]
    },
    {
      "cell_type": "markdown",
      "source": [
        "#setting up callbacks (things to run while the model trains)\n",
        "#call backs are extra functionality added to models to performed during or after training\n",
        "some of the most popular callbacks are :\n",
        "* tracking experiments with tensorboard callbacl\n",
        "* model checkpoint with modelcheckpoitn\n",
        "* stopping before it overfits with earlystopping"
      ],
      "metadata": {
        "id": "5ZdHVvv7D4BX"
      }
    },
    {
      "cell_type": "code",
      "source": [
        "#create a TensorBoard callback and functionize it\n",
        "import datetime\n",
        "\n",
        "def create_tensorboard_callback(dir_name, experiment_name):\n",
        "  log_dir = dir_name + '/' + experiment_name + '/' + datetime.datetime.now().strftime('%Y%m%d - %H')\n",
        "  tensorboard_callback = tf.keras.callbacks.TensorBoard(log_dir=log_dir)\n",
        "  print(f'saving tensorboard log files to: {log_dir}')\n",
        "  return tensorboard_callback"
      ],
      "metadata": {
        "id": "tpnkqhi4Ify4"
      },
      "execution_count": 27,
      "outputs": []
    },
    {
      "cell_type": "markdown",
      "source": [
        "Now we'll get the feature vector URLs of two common computer vision architectures, EfficientNetB0 (2019) and ResNetV250 (2016) from TensorFlow Hub using the steps above.\n",
        "\n",
        "We're getting both of these because we're going to compare them to see which performs better on our data.\n",
        "\n",
        "🔑 Note: Comparing different model architecture performance on the same data is a very common practice. The simple reason is because you want to know which model performs best for your problem.\n",
        "\n",
        "Update: As of 14 August 2021, EfficientNet V2 pretrained models are available on TensorFlow Hub. The original code in this notebook uses EfficientNet V1, it has been left unchanged. In my experiments with this dataset, V1 outperforms V2. Best to experiment with your own data and see what suits you."
      ],
      "metadata": {
        "id": "xjvtdVw52zZh"
      }
    },
    {
      "cell_type": "code",
      "source": [
        "# Creaeting models using tensorflow hub\n",
        "\n",
        "# Resnet 50 V2 feature vector\n",
        "resnet_url = \"https://tfhub.dev/google/imagenet/resnet_v2_50/feature_vector/4\"\n",
        "\n",
        "# Original: EfficientNetB0 feature vector (version 1)\n",
        "efficientnet_url = \"https://tfhub.dev/tensorflow/efficientnet/b0/feature-vector/1\"\n",
        "\n",
        "# # New: EfficientNetB0 feature vector (version 2)\n",
        "# efficientnet_url = \"https://tfhub.dev/google/imagenet/efficientnet_v2_imagenet1k_b0/feature_vector/2\"\n",
        "     \n"
      ],
      "metadata": {
        "id": "rW2-BMCVKfx4"
      },
      "execution_count": 6,
      "outputs": []
    },
    {
      "cell_type": "code",
      "source": [
        "#import dependencies\n",
        "import tensorflow as tf\n",
        "import tensorflow_hub as hub\n",
        "from tensorflow.keras import layers"
      ],
      "metadata": {
        "id": "joXp9VtaKfvd"
      },
      "execution_count": 7,
      "outputs": []
    },
    {
      "cell_type": "code",
      "source": [
        "IMAGE_SHAPE = int(IMAGE_SHAPE)"
      ],
      "metadata": {
        "colab": {
          "base_uri": "https://localhost:8080/",
          "height": 169
        },
        "id": "CPaDkeVD6kKT",
        "outputId": "2945360c-019e-42a7-fffe-41fcdd2d618d"
      },
      "execution_count": 12,
      "outputs": [
        {
          "output_type": "error",
          "ename": "TypeError",
          "evalue": "ignored",
          "traceback": [
            "\u001b[0;31m---------------------------------------------------------------------------\u001b[0m",
            "\u001b[0;31mTypeError\u001b[0m                                 Traceback (most recent call last)",
            "\u001b[0;32m<ipython-input-12-fd9bb4d29d2b>\u001b[0m in \u001b[0;36m<module>\u001b[0;34m\u001b[0m\n\u001b[0;32m----> 1\u001b[0;31m \u001b[0mIMAGE_SHAPE\u001b[0m \u001b[0;34m=\u001b[0m \u001b[0mint\u001b[0m\u001b[0;34m(\u001b[0m\u001b[0mIMAGE_SHAPE\u001b[0m\u001b[0;34m)\u001b[0m\u001b[0;34m\u001b[0m\u001b[0;34m\u001b[0m\u001b[0m\n\u001b[0m",
            "\u001b[0;31mTypeError\u001b[0m: int() argument must be a string, a bytes-like object or a number, not 'tuple'"
          ]
        }
      ]
    },
    {
      "cell_type": "code",
      "source": [
        "#Making model function to create model from url\n",
        "def create_model(model_url, num_classes):\n",
        "  \"\"\"\n",
        "  takes a tensorflow hub url and creates a keras sequential model with it \n",
        "\n",
        "  Args: model_url(str): tf hub feature extraction url\n",
        "        num_class (int): number of output neurons in output layer\n",
        "        should equal number of target classes, default ten\n",
        "\n",
        "  returns: uncompiled keras sequential modle with model url as feature extractor laay and dense outlayer with num of class as out nuerons\n",
        "  \"\"\"\n",
        "\n",
        "  #download the pretrained model and use it a layer\n",
        "  feature_extractor_layer = hub.KerasLayer(model_url,\n",
        "                                           trainable = False,\n",
        "                                           name='feature_extractor',\n",
        "                                           input_shape= IMAGE_SHAPE+(3,)) # freezes the already learned patterns\n",
        "  \n",
        "  model = tf.keras.Sequential([\n",
        "      feature_extractor_layer,\n",
        "      layers.Dense(num_classes, activation='softmax', name='output_layer')\n",
        "      ])\n",
        "  \n",
        "  return model"
      ],
      "metadata": {
        "id": "-ygSrc8iKftJ"
      },
      "execution_count": 17,
      "outputs": []
    },
    {
      "cell_type": "markdown",
      "source": [
        "# creating resnet feature extraction model"
      ],
      "metadata": {
        "id": "M7QS0_Hg6Edg"
      }
    },
    {
      "cell_type": "code",
      "source": [
        "resnet_model = create_model(resnet_url,\n",
        "                            num_classes = train_data_10_percent.num_classes)"
      ],
      "metadata": {
        "id": "Ht2H4UPpKfqq"
      },
      "execution_count": 18,
      "outputs": []
    },
    {
      "cell_type": "code",
      "source": [
        "#compile resnet model\n",
        "resnet_model.compile(loss=tf.keras.losses.CategoricalCrossentropy(),\n",
        "                     optimizer = tf.keras.optimizers.Adam(),\n",
        "                     metrics=['accuracy'])"
      ],
      "metadata": {
        "id": "ZltilAmq6WxD"
      },
      "execution_count": 19,
      "outputs": []
    },
    {
      "cell_type": "code",
      "source": [
        "history_1 = resnet_model.fit(train_data_10_percent,\n",
        "                             epochs = 5,\n",
        "                             steps_per_epoch= len(train_data_10_percent),\n",
        "                             validation_data= test_data,\n",
        "                             validation_steps = len(test_data),\n",
        "                             callbacks = [create_tensorboard_callback(dir_name='tensorflow_hub',\n",
        "                                                                      experiment_name = 'resnet50V2')])"
      ],
      "metadata": {
        "colab": {
          "base_uri": "https://localhost:8080/"
        },
        "id": "5okM0tg87NuE",
        "outputId": "6e702f53-3a16-466d-8141-d890829f9cd1"
      },
      "execution_count": 28,
      "outputs": [
        {
          "output_type": "stream",
          "name": "stdout",
          "text": [
            "saving tensorboard log files to: tensorflow_hub/resnet50V2/20221211 - 16\n",
            "Epoch 1/5\n",
            "24/24 [==============================] - 19s 789ms/step - loss: 0.3073 - accuracy: 0.9427 - val_loss: 0.6457 - val_accuracy: 0.7928\n",
            "Epoch 2/5\n",
            "24/24 [==============================] - 17s 726ms/step - loss: 0.2599 - accuracy: 0.9480 - val_loss: 0.6346 - val_accuracy: 0.7940\n",
            "Epoch 3/5\n",
            "24/24 [==============================] - 17s 745ms/step - loss: 0.2210 - accuracy: 0.9733 - val_loss: 0.6161 - val_accuracy: 0.8048\n",
            "Epoch 4/5\n",
            "24/24 [==============================] - 17s 721ms/step - loss: 0.1870 - accuracy: 0.9787 - val_loss: 0.6075 - val_accuracy: 0.8012\n",
            "Epoch 5/5\n",
            "24/24 [==============================] - 17s 724ms/step - loss: 0.1638 - accuracy: 0.9853 - val_loss: 0.6037 - val_accuracy: 0.8052\n"
          ]
        }
      ]
    },
    {
      "cell_type": "code",
      "source": [
        "import matplotlib.pyplot as plt\n"
      ],
      "metadata": {
        "id": "_-28nAGo9D4a"
      },
      "execution_count": 23,
      "outputs": []
    },
    {
      "cell_type": "code",
      "source": [
        "#plot validation and training seperately \n",
        "def plot_loss_curve(history):\n",
        "  \"\"\"\n",
        "  returns seperate loss curves for training and validation metrics\n",
        "  \"\"\"\n",
        "  loss = history.history['loss']\n",
        "  val_loss = history.history['val_loss']\n",
        "\n",
        "  accuracy = history.history['accuracy']\n",
        "  val_accuracy = history.history['val_accuracy']\n",
        "\n",
        "  epochs = range(len(history.history['loss']))\n",
        "\n",
        "  #plot the loss\n",
        "  plt.plot(epochs, loss, label='training loss')\n",
        "  plt.plot(epochs, val_loss, label='validation loss')\n",
        "  plt.title('loss')\n",
        "  plt.xlabel('epochs')\n",
        "  plt.legend();\n",
        "\n",
        "  #plot the accuracy\n",
        "  plt.figure()\n",
        "  plt.plot(epochs, accuracy, label='training accuracy')\n",
        "  plt.plot(epochs, val_accuracy, label='validation accuracy')\n",
        "  plt.title('accuracy')\n",
        "  plt.xlabel('epochs')\n",
        "  plt.legend();"
      ],
      "metadata": {
        "id": "1LBS2VjG7Nra"
      },
      "execution_count": 29,
      "outputs": []
    },
    {
      "cell_type": "code",
      "source": [
        "plot_loss_curve(history_1)"
      ],
      "metadata": {
        "colab": {
          "base_uri": "https://localhost:8080/",
          "height": 573
        },
        "id": "pIQAenC48r7p",
        "outputId": "b4391022-7373-4eb2-f2af-4070c5696f4e"
      },
      "execution_count": 30,
      "outputs": [
        {
          "output_type": "display_data",
          "data": {
            "text/plain": [
              "<Figure size 432x288 with 1 Axes>"
            ],
            "image/png": "[encoded data removed]"
          },
          "metadata": {
            "needs_background": "light"
          }
        },
        {
          "output_type": "display_data",
          "data": {
            "text/plain": [
              "<Figure size 432x288 with 1 Axes>"
            ],
            "image/png": "[encoded data removed]"
          },
          "metadata": {
            "needs_background": "light"
          }
        }
      ]
    },
    {
      "cell_type": "code",
      "source": [
        "efficientnet_model = create_model(efficientnet_url, \n",
        "                                  num_classes=train_data_10_percent.num_classes)"
      ],
      "metadata": {
        "id": "K1KPbiXI9KaX"
      },
      "execution_count": 31,
      "outputs": []
    },
    {
      "cell_type": "code",
      "source": [
        "#compile the model\n",
        "efficientnet_model.compile(loss = tf.keras.losses.CategoricalCrossentropy(),\n",
        "                           optimizer = tf.keras.optimizers.Adam(),\n",
        "                           metrics=['accuracy'])"
      ],
      "metadata": {
        "id": "wWEQJmv1_gEX"
      },
      "execution_count": 32,
      "outputs": []
    },
    {
      "cell_type": "code",
      "source": [
        "#fit the model\n",
        "history_2 = efficientnet_model.fit(train_data_10_percent,\n",
        "                                   epochs = 5,\n",
        "                                   steps_per_epoch = len(train_data_10_percent),\n",
        "                                   validation_data = test_data,\n",
        "                                   validation_steps = len(test_data),\n",
        "                                   callbacks = [create_tensorboard_callback(dir_name='tensorflow_hub',\n",
        "                                                                      experiment_name = 'efficient_net_b0')])"
      ],
      "metadata": {
        "colab": {
          "base_uri": "https://localhost:8080/"
        },
        "id": "fgdOBEsp_gB-",
        "outputId": "aec9afab-057a-4554-b56e-cbf74bd9c7dc"
      },
      "execution_count": 37,
      "outputs": [
        {
          "output_type": "stream",
          "name": "stdout",
          "text": [
            "saving tensorboard log files to: tensorflow_hub/efficient_net_b0/20221211 - 16\n",
            "Epoch 1/5\n",
            "24/24 [==============================] - 17s 687ms/step - loss: 0.4451 - accuracy: 0.9067 - val_loss: 0.5218 - val_accuracy: 0.8696\n",
            "Epoch 2/5\n",
            "24/24 [==============================] - 16s 680ms/step - loss: 0.3909 - accuracy: 0.9240 - val_loss: 0.4932 - val_accuracy: 0.8716\n",
            "Epoch 3/5\n",
            "24/24 [==============================] - 16s 684ms/step - loss: 0.3494 - accuracy: 0.9333 - val_loss: 0.4723 - val_accuracy: 0.8768\n",
            "Epoch 4/5\n",
            "24/24 [==============================] - 16s 684ms/step - loss: 0.3151 - accuracy: 0.9467 - val_loss: 0.4557 - val_accuracy: 0.8772\n",
            "Epoch 5/5\n",
            "24/24 [==============================] - 16s 679ms/step - loss: 0.2835 - accuracy: 0.9560 - val_loss: 0.4429 - val_accuracy: 0.8788\n"
          ]
        }
      ]
    },
    {
      "cell_type": "code",
      "source": [
        "plot_loss_curve(history_2)"
      ],
      "metadata": {
        "colab": {
          "base_uri": "https://localhost:8080/",
          "height": 573
        },
        "id": "IsDMAQXZATrk",
        "outputId": "88db1927-49fb-4b4a-d415-1cfca656253e"
      },
      "execution_count": 36,
      "outputs": [
        {
          "output_type": "display_data",
          "data": {
            "text/plain": [
              "<Figure size 432x288 with 1 Axes>"
            ],
            "image/png": "[encoded data removed]"
          },
          "metadata": {
            "needs_background": "light"
          }
        },
        {
          "output_type": "display_data",
          "data": {
            "text/plain": [
              "<Figure size 432x288 with 1 Axes>"
            ],
            "image/png": "[encoded data removed]"
          },
          "metadata": {
            "needs_background": "light"
          }
        }
      ]
    },
    {
      "cell_type": "markdown",
      "source": [
        "### different types of transfer learning\n",
        "\n",
        "* As-is: using existing model with no changes eg, using all 1000 types\n",
        "* feature extraction : use prelearned pattern of existing model and adjust output layer for own problem eg, 10%\n",
        "* fine tuning: use prelearned patterns of existing model and fine tune many or all of the underlayers including new output layers"
      ],
      "metadata": {
        "id": "5xTnOKIMCTpu"
      }
    },
    {
      "cell_type": "markdown",
      "source": [
        "### Compare models using tensorboard\n",
        "\n",
        "note: when uploading to tensorboard.dev, experiments are public. so if running private experiments do not upload to the site"
      ],
      "metadata": {
        "id": "jWsZukHdDx16"
      }
    },
    {
      "cell_type": "code",
      "source": [
        "#upload to tensorboard dev records\n",
        "!tensorboard dev upload --logdir ./tensorflow_hub/ \\\n",
        "  --name \"EfficientnetB0 vs Resnet50V2\" \\\n",
        "  --description \"comparing two different tf hub feature extraction model using 10% of food data\" \\\n",
        "  --one_shot"
      ],
      "metadata": {
        "colab": {
          "base_uri": "https://localhost:8080/"
        },
        "id": "sGOkcUeEB2v2",
        "outputId": "c6360a44-d07b-47a7-cacb-fc02a32a7216"
      },
      "execution_count": 39,
      "outputs": [
        {
          "output_type": "stream",
          "name": "stdout",
          "text": [
            "\n",
            "New experiment created. View your TensorBoard at: https://tensorboard.dev/experiment/CyIExY9sRSWD54vK2hRRtw/\n",
            "\n",
            "\u001b[1m[2022-12-11T16:47:43]\u001b[0m Started scanning logdir.\n",
            "E1211 16:47:48.941395 140459800934272 uploader.py:1122] Attempted to re-upload existing blob.  Skipping.\n",
            "\u001b[1m[2022-12-11T16:47:51]\u001b[0m Total uploaded: 90 scalars, 0 tensors, 2 binary objects (5.6 MB)\n",
            "\u001b[90mTotal skipped: 1 binary objects (3.9 MB)\n",
            "\u001b[0m\u001b[1m[2022-12-11T16:47:51]\u001b[0m Done scanning logdir.\n",
            "\n",
            "\n",
            "Done. View your TensorBoard at https://tensorboard.dev/experiment/CyIExY9sRSWD54vK2hRRtw/\n"
          ]
        }
      ]
    },
    {
      "cell_type": "code",
      "source": [],
      "metadata": {
        "id": "Ggzg1BiFC4bf"
      },
      "execution_count": null,
      "outputs": []
    },
    {
      "cell_type": "code",
      "source": [],
      "metadata": {
        "id": "ddstOpffC4ZL"
      },
      "execution_count": null,
      "outputs": []
    },
    {
      "cell_type": "code",
      "source": [],
      "metadata": {
        "id": "fabgxdAJC4W2"
      },
      "execution_count": null,
      "outputs": []
    }
  ]
}